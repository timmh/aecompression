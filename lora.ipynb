{
 "cells": [
  {
   "cell_type": "code",
   "execution_count": 1,
   "metadata": {},
   "outputs": [],
   "source": [
    "%load_ext autoreload\n",
    "%autoreload 2"
   ]
  },
  {
   "cell_type": "code",
   "execution_count": 2,
   "metadata": {},
   "outputs": [
    {
     "name": "stderr",
     "output_type": "stream",
     "text": [
      "/data/vision/beery/scratch/timm/micromamba/envs/aecompression/lib/python3.12/site-packages/tqdm/auto.py:21: TqdmWarning: IProgress not found. Please update jupyter and ipywidgets. See https://ipywidgets.readthedocs.io/en/stable/user_install.html\n",
      "  from .autonotebook import tqdm as notebook_tqdm\n",
      "/data/vision/beery/scratch/timm/micromamba/envs/aecompression/lib/python3.12/site-packages/compressai/models/video/google.py:353: FutureWarning: `torch.cuda.amp.autocast(args...)` is deprecated. Please use `torch.amp.autocast('cuda', args...)` instead.\n",
      "  @amp.autocast(enabled=False)\n",
      "[rank: 0] Seed set to 42\n"
     ]
    },
    {
     "name": "stdout",
     "output_type": "stream",
     "text": [
      "Device: cuda:0\n"
     ]
    }
   ],
   "source": [
    "import torch\n",
    "from pathlib import Path\n",
    "import os\n",
    "import json\n",
    "import matplotlib.pyplot as plt\n",
    "import numpy as np\n",
    "import pandas as pd\n",
    "import glob\n",
    "from collections import defaultdict\n",
    "import io\n",
    "from tqdm.auto import tqdm\n",
    "\n",
    "from PIL import Image\n",
    "import pytorch_lightning as pl\n",
    "from pytorch_lightning.callbacks import LearningRateMonitor, ModelCheckpoint\n",
    "from sklearn.metrics import mean_squared_error\n",
    "from torchvision.transforms import v2 as transforms_v2\n",
    "from pytorch_msssim import ssim, ms_ssim\n",
    "import compressai\n",
    "\n",
    "from Iwildcam_Pretrain import Autoencoder, Encoder, Decoder, IWildCamDataset, CompressaiWrapper\n",
    "from lora_modules import LoRAConv2d, LoRALinear, LoRAConvTranspose2d"
   ]
  },
  {
   "cell_type": "code",
   "execution_count": 3,
   "metadata": {},
   "outputs": [
    {
     "name": "stdout",
     "output_type": "stream",
     "text": [
      "Device: cuda:0\n"
     ]
    }
   ],
   "source": [
    "device = torch.device(\"cuda:0\") if torch.cuda.is_available() else torch.device(\"cpu\")\n",
    "print(\"Device:\", device)\n",
    "\n",
    "CHECKPOINT_PATH = \"best_checkpoints_hyperprior/\"\n",
    "# HEIGHT = 96\n",
    "# WIDTH = 160\n",
    "HEIGHT = 96 * 2\n",
    "WIDTH = 160 * 2\n",
    "PRECISION = 32\n",
    "DO_CACHING = False\n",
    "# DATASET_ROOT = \"/data/vision/beery/scratch/data/iwildcam_unzipped\"\n",
    "DATASET_ROOT = \"/tmp/iwildcam_unzipped\""
   ]
  },
  {
   "cell_type": "code",
   "execution_count": 4,
   "metadata": {},
   "outputs": [],
   "source": [
    "def get_lora_model(\n",
    "        latent_dim,\n",
    "        lora_precision=None,\n",
    "        loraize_encoder = False,  # no reason really to do this unless we want to reduce memory footprint\n",
    "        loraize_decoder = True,\n",
    "        finetune = True,\n",
    "        model_type = 'hyperprior',\n",
    "):\n",
    "    if finetune and lora_precision == 32:\n",
    "        lora_precision = None\n",
    "\n",
    "    lora_config = {\n",
    "        torch.nn.Conv2d: {\n",
    "            'cls': LoRAConv2d,\n",
    "            'config': {\n",
    "                'alpha': 8,\n",
    "                'rank': 4,\n",
    "                'rank_for': 'channels',\n",
    "                'delta_bias': False, # True # TODO what does this do\n",
    "                'precision': lora_precision,\n",
    "            }\n",
    "        },\n",
    "        torch.nn.Linear: {\n",
    "            'cls': LoRALinear,\n",
    "            'config': {\n",
    "                'rank': 4,\n",
    "                'alpha': 2,\n",
    "                'delta_bias':  False, # True # TODO what does this do\n",
    "                'precision': lora_precision,\n",
    "            }\n",
    "        },\n",
    "        torch.nn.ConvTranspose2d: {\n",
    "            'cls': LoRAConvTranspose2d,\n",
    "            'config': {\n",
    "                'alpha': 8,\n",
    "                'rank': 4,\n",
    "                'rank_for': 'channels',\n",
    "                'delta_bias': False, # True # TODO what does this do\n",
    "                'precision': lora_precision,\n",
    "            }\n",
    "        }\n",
    "    }\n",
    "\n",
    "    # load two copies so we can lora-ize one\n",
    "    if model_type == 'vanilla':\n",
    "        pretrained_filename = sorted(glob.glob(os.path.join(CHECKPOINT_PATH, f\"{latent_dim}-*.ckpt\")))[0]\n",
    "        if os.path.isfile(pretrained_filename):\n",
    "            print(f\"Found pretrained model for latent dim {latent_dim}, loading...\")\n",
    "            _model = Autoencoder.load_from_checkpoint(pretrained_filename)\n",
    "            model  = Autoencoder.load_from_checkpoint(pretrained_filename)\n",
    "        else:\n",
    "            raise Exception\n",
    "    elif model_type == 'hyperprior':\n",
    "        pretrained_filename = sorted(glob.glob(os.path.join(CHECKPOINT_PATH, f\"bmshj2018_hyperprior-*.ckpt\")))[0]\n",
    "        if os.path.isfile(pretrained_filename):\n",
    "            print(f\"Found pretrained model, loading...\")\n",
    "            model  = CompressaiWrapper.load_from_checkpoint(pretrained_filename)\n",
    "            _model = CompressaiWrapper.load_from_checkpoint(pretrained_filename)\n",
    "        else:\n",
    "            raise Exception\n",
    "    else:\n",
    "        raise ValueError('Invalid model_type')\n",
    "    \n",
    "    if not finetune:\n",
    "        return model\n",
    "    \n",
    "    if model_type == 'vanilla':\n",
    "        if loraize_encoder:\n",
    "            for i, module in enumerate(_model.encoder.net.children()): \n",
    "                if type(module) in lora_config.keys():\n",
    "                    lora_cls = lora_config[type(module)]['cls']\n",
    "                    lora_params = lora_config[type(module)]['config']\n",
    "                    model.encoder.net[i] = lora_cls(module, lora_params) # automatically freezes old parameters\n",
    "                    model.encoder.net[i].enable_adapter()                # but we need to turn on the adapter path\n",
    "                else:\n",
    "                    # freeze all other parameters\n",
    "                    for p in module.parameters():\n",
    "                        p.requires_grad_(False)\n",
    "\n",
    "        if loraize_decoder:\n",
    "            for i, module in enumerate(_model.decoder.linear.children()): \n",
    "                if type(module) in lora_config.keys():\n",
    "                    lora_cls = lora_config[type(module)]['cls']\n",
    "                    lora_params = lora_config[type(module)]['config']\n",
    "                    model.decoder.linear[i] = lora_cls(module, lora_params) # automatically freezes old parameters\n",
    "                    model.decoder.linear[i].enable_adapter()                # but we need to turn on the adapter path\n",
    "                else:\n",
    "                    # freeze all other parameters\n",
    "                    for p in module.parameters():\n",
    "                        p.requires_grad_(False)\n",
    "\n",
    "            for i, module in enumerate(_model.decoder.net.children()): \n",
    "                if type(module) in lora_config.keys():\n",
    "                    lora_cls = lora_config[type(module)]['cls']\n",
    "                    lora_params = lora_config[type(module)]['config']\n",
    "                    model.decoder.net[i] = lora_cls(module, lora_params) # automatically freezes old parameters\n",
    "                    model.decoder.net[i].enable_adapter()                # but we need to turn on the adapter path\n",
    "                else:\n",
    "                    # freeze all other parameters\n",
    "                    for p in module.parameters():\n",
    "                        p.requires_grad_(False)\n",
    "    \n",
    "    elif model_type == 'hyperprior':\n",
    "            # freeze decoder stuff that won't be transmitted\n",
    "        print(\"Freezing:\")\n",
    "        for name, param in model.model.g_s.named_parameters():\n",
    "            print(name)\n",
    "            param.requires_grad = False\n",
    "        for name, param in model.model.h_s.named_parameters():\n",
    "            print(name)\n",
    "            param.requires_grad = False\n",
    "\n",
    "        print(\"Fine-tuning:\")\n",
    "        for i, module in enumerate(_model.model.g_s.children()): \n",
    "            if type(module) in lora_config.keys():\n",
    "                print(\"lora-izing\", module)\n",
    "                lora_cls = lora_config[type(module)]['cls']\n",
    "                lora_params = lora_config[type(module)]['config']\n",
    "                model.model.g_s[i] = lora_cls(module, lora_params) # automatically freezes old parameters\n",
    "                model.model.g_s[i].enable_adapter()                # but we need to turn on the adapter path\n",
    "\n",
    "        for i, module in enumerate(_model.model.h_s.children()): \n",
    "            if type(module) in lora_config.keys():\n",
    "                print(\"lora-izing\", module)\n",
    "                lora_cls = lora_config[type(module)]['cls']\n",
    "                lora_params = lora_config[type(module)]['config']\n",
    "                model.model.h_s[i] = lora_cls(module, lora_params) # automatically freezes old parameters\n",
    "                model.model.h_s[i].enable_adapter()                # but we need to turn on the adapter path\n",
    "    else:\n",
    "        raise ValueError('Invalid model_type')\n",
    "\n",
    "    del _model # get rid of the clone\n",
    "    return model"
   ]
  },
  {
   "cell_type": "code",
   "execution_count": 5,
   "metadata": {},
   "outputs": [],
   "source": [
    "def compute_bits_per_pixel(model, latent_dim, lora_precision, width, height):\n",
    "    param_size = 0\n",
    "    for name, param in model.named_parameters():\n",
    "        if \"delta\" in name:\n",
    "            param_size += param.nelement() * (lora_precision / 8)\n",
    "\n",
    "    # assume we don't have to transmit these if they are fixed -- this would be alpha, rank hyperparams\n",
    "    buffer_size = 0\n",
    "\n",
    "    latent_size = latent_dim * 4  # TODO: this is for full precision models, handle quantized models as well\n",
    "\n",
    "\n",
    "    param_bpp = 8 * (param_size + buffer_size) / (width * height)\n",
    "    latent_bpp = 8 * latent_size / (width * height)\n",
    "\n",
    "    return param_bpp, latent_bpp"
   ]
  },
  {
   "cell_type": "code",
   "execution_count": 6,
   "metadata": {},
   "outputs": [
    {
     "name": "stdout",
     "output_type": "stream",
     "text": [
      "Found pretrained model, loading...\n"
     ]
    },
    {
     "name": "stderr",
     "output_type": "stream",
     "text": [
      "/data/vision/beery/scratch/timm/micromamba/envs/aecompression/lib/python3.12/site-packages/pytorch_lightning/utilities/parsing.py:208: Attribute 'model' is an instance of `nn.Module` and is already saved during checkpointing. It is recommended to ignore them using `self.save_hyperparameters(ignore=['model'])`.\n",
      "/data/vision/beery/scratch/timm/micromamba/envs/aecompression/lib/python3.12/site-packages/lightning_fabric/plugins/environments/slurm.py:204: The `srun` command is available on your system but is not used. HINT: If your intention is to run Lightning on SLURM, prepend your python command with `srun` like so: srun python /data/vision/beery/scratch/timm/micromamba/envs/aeco ...\n",
      "GPU available: True (cuda), used: True\n",
      "TPU available: False, using: 0 TPU cores\n",
      "HPU available: False, using: 0 HPUs\n",
      "You are using a CUDA device ('NVIDIA A100-SXM4-80GB') that has Tensor Cores. To properly utilize them, you should set `torch.set_float32_matmul_precision('medium' | 'high')` which will trade-off precision for performance. For more details, read https://pytorch.org/docs/stable/generated/torch.set_float32_matmul_precision.html#torch.set_float32_matmul_precision\n",
      "LOCAL_RANK: 0 - CUDA_VISIBLE_DEVICES: [0]\n"
     ]
    },
    {
     "name": "stdout",
     "output_type": "stream",
     "text": [
      "Freezing:\n",
      "0.weight\n",
      "0.bias\n",
      "1.beta\n",
      "1.gamma\n",
      "2.weight\n",
      "2.bias\n",
      "3.beta\n",
      "3.gamma\n",
      "4.weight\n",
      "4.bias\n",
      "5.beta\n",
      "5.gamma\n",
      "6.weight\n",
      "6.bias\n",
      "0.weight\n",
      "0.bias\n",
      "2.weight\n",
      "2.bias\n",
      "4.weight\n",
      "4.bias\n",
      "Fine-tuning:\n",
      "lora-izing ConvTranspose2d(192, 128, kernel_size=(5, 5), stride=(2, 2), padding=(2, 2), output_padding=(1, 1))\n",
      "lora-izing ConvTranspose2d(128, 128, kernel_size=(5, 5), stride=(2, 2), padding=(2, 2), output_padding=(1, 1))\n",
      "lora-izing ConvTranspose2d(128, 128, kernel_size=(5, 5), stride=(2, 2), padding=(2, 2), output_padding=(1, 1))\n",
      "lora-izing ConvTranspose2d(128, 3, kernel_size=(5, 5), stride=(2, 2), padding=(2, 2), output_padding=(1, 1))\n",
      "lora-izing ConvTranspose2d(128, 128, kernel_size=(5, 5), stride=(2, 2), padding=(2, 2), output_padding=(1, 1))\n",
      "lora-izing ConvTranspose2d(128, 128, kernel_size=(5, 5), stride=(2, 2), padding=(2, 2), output_padding=(1, 1))\n",
      "lora-izing Conv2d(128, 192, kernel_size=(3, 3), stride=(1, 1), padding=(1, 1))\n"
     ]
    },
    {
     "name": "stderr",
     "output_type": "stream",
     "text": [
      "\n",
      "  | Name  | Type            | Params | Mode  | In sizes         | Out sizes\n",
      "---------------------------------------------------------------------------------\n",
      "0 | model | ScaleHyperprior | 5.2 M  | train | [2, 3, 320, 192] | ?        \n",
      "---------------------------------------------------------------------------------\n",
      "2.7 M     Trainable params\n",
      "2.5 M     Non-trainable params\n",
      "5.2 M     Total params\n",
      "20.939    Total estimated model params size (MB)\n",
      "69        Modules in train mode\n",
      "0         Modules in eval mode\n"
     ]
    },
    {
     "name": "stdout",
     "output_type": "stream",
     "text": [
      "                                                                           \r"
     ]
    },
    {
     "name": "stderr",
     "output_type": "stream",
     "text": [
      "/data/vision/beery/scratch/timm/micromamba/envs/aecompression/lib/python3.12/site-packages/pytorch_lightning/loops/fit_loop.py:298: The number of training batches (3) is smaller than the logging interval Trainer(log_every_n_steps=50). Set a lower value for log_every_n_steps if you want to see logs for the training epoch.\n"
     ]
    },
    {
     "name": "stdout",
     "output_type": "stream",
     "text": [
      "Epoch 0: 100%|██████████| 3/3 [00:12<00:00,  0.25it/s, v_num=7, train_loss_step=0.00684, val_loss_step=0.00429, val_loss_epoch=0.00451, train_loss_epoch=0.00649]"
     ]
    },
    {
     "name": "stderr",
     "output_type": "stream",
     "text": [
      "`Trainer.fit` stopped: `max_epochs=1` reached.\n"
     ]
    },
    {
     "name": "stdout",
     "output_type": "stream",
     "text": [
      "Epoch 0: 100%|██████████| 3/3 [00:12<00:00,  0.25it/s, v_num=7, train_loss_step=0.00684, val_loss_step=0.00429, val_loss_epoch=0.00451, train_loss_epoch=0.00649]\n"
     ]
    },
    {
     "name": "stderr",
     "output_type": "stream",
     "text": [
      "LOCAL_RANK: 0 - CUDA_VISIBLE_DEVICES: [0]\n"
     ]
    },
    {
     "name": "stdout",
     "output_type": "stream",
     "text": [
      "Testing DataLoader 0: 100%|██████████| 3/3 [00:00<00:00,  6.86it/s]\n",
      "────────────────────────────────────────────────────────────────────────────────────────────────────────────────────────\n",
      "       Test metric             DataLoader 0\n",
      "────────────────────────────────────────────────────────────────────────────────────────────────────────────────────────\n",
      "     test_loss_epoch       0.004514965694397688\n",
      "      test_ms_ssim          0.9174917340278625\n",
      "        test_ssim           0.6973665952682495\n",
      "────────────────────────────────────────────────────────────────────────────────────────────────────────────────────────\n"
     ]
    },
    {
     "name": "stderr",
     "output_type": "stream",
     "text": [
      "GPU available: True (cuda), used: True\n",
      "TPU available: False, using: 0 TPU cores\n",
      "HPU available: False, using: 0 HPUs\n"
     ]
    },
    {
     "name": "stdout",
     "output_type": "stream",
     "text": [
      "Found pretrained model, loading...\n",
      "Freezing:\n",
      "0.weight\n",
      "0.bias\n",
      "1.beta\n",
      "1.gamma\n",
      "2.weight\n",
      "2.bias\n",
      "3.beta\n",
      "3.gamma\n",
      "4.weight\n",
      "4.bias\n",
      "5.beta\n",
      "5.gamma\n",
      "6.weight\n",
      "6.bias\n",
      "0.weight\n",
      "0.bias\n",
      "2.weight\n",
      "2.bias\n",
      "4.weight\n",
      "4.bias\n",
      "Fine-tuning:\n",
      "lora-izing ConvTranspose2d(192, 128, kernel_size=(5, 5), stride=(2, 2), padding=(2, 2), output_padding=(1, 1))\n",
      "lora-izing ConvTranspose2d(128, 128, kernel_size=(5, 5), stride=(2, 2), padding=(2, 2), output_padding=(1, 1))\n",
      "lora-izing ConvTranspose2d(128, 128, kernel_size=(5, 5), stride=(2, 2), padding=(2, 2), output_padding=(1, 1))\n",
      "lora-izing ConvTranspose2d(128, 3, kernel_size=(5, 5), stride=(2, 2), padding=(2, 2), output_padding=(1, 1))\n",
      "lora-izing ConvTranspose2d(128, 128, kernel_size=(5, 5), stride=(2, 2), padding=(2, 2), output_padding=(1, 1))\n",
      "lora-izing ConvTranspose2d(128, 128, kernel_size=(5, 5), stride=(2, 2), padding=(2, 2), output_padding=(1, 1))\n",
      "lora-izing Conv2d(128, 192, kernel_size=(3, 3), stride=(1, 1), padding=(1, 1))\n"
     ]
    },
    {
     "name": "stderr",
     "output_type": "stream",
     "text": [
      "LOCAL_RANK: 0 - CUDA_VISIBLE_DEVICES: [0]\n",
      "\n",
      "  | Name  | Type            | Params | Mode  | In sizes         | Out sizes\n",
      "---------------------------------------------------------------------------------\n",
      "0 | model | ScaleHyperprior | 5.2 M  | train | [2, 3, 320, 192] | ?        \n",
      "---------------------------------------------------------------------------------\n",
      "2.7 M     Trainable params\n",
      "2.5 M     Non-trainable params\n",
      "5.2 M     Total params\n",
      "20.939    Total estimated model params size (MB)\n",
      "69        Modules in train mode\n",
      "0         Modules in eval mode\n"
     ]
    },
    {
     "name": "stdout",
     "output_type": "stream",
     "text": [
      "                                                                           \r"
     ]
    },
    {
     "name": "stderr",
     "output_type": "stream",
     "text": [
      "/data/vision/beery/scratch/timm/micromamba/envs/aecompression/lib/python3.12/site-packages/pytorch_lightning/loops/fit_loop.py:298: The number of training batches (1) is smaller than the logging interval Trainer(log_every_n_steps=50). Set a lower value for log_every_n_steps if you want to see logs for the training epoch.\n"
     ]
    },
    {
     "name": "stdout",
     "output_type": "stream",
     "text": [
      "Epoch 0: 100%|██████████| 1/1 [00:02<00:00,  0.33it/s, v_num=4, train_loss_step=0.000448, val_loss_step=0.00799, val_loss_epoch=0.00799, train_loss_epoch=0.000448]"
     ]
    },
    {
     "name": "stderr",
     "output_type": "stream",
     "text": [
      "`Trainer.fit` stopped: `max_epochs=1` reached.\n"
     ]
    },
    {
     "name": "stdout",
     "output_type": "stream",
     "text": [
      "Epoch 0: 100%|██████████| 1/1 [00:03<00:00,  0.32it/s, v_num=4, train_loss_step=0.000448, val_loss_step=0.00799, val_loss_epoch=0.00799, train_loss_epoch=0.000448]\n"
     ]
    },
    {
     "name": "stderr",
     "output_type": "stream",
     "text": [
      "LOCAL_RANK: 0 - CUDA_VISIBLE_DEVICES: [0]\n"
     ]
    },
    {
     "name": "stdout",
     "output_type": "stream",
     "text": [
      "Testing DataLoader 0: 100%|██████████| 1/1 [00:00<00:00, 30.83it/s]\n",
      "────────────────────────────────────────────────────────────────────────────────────────────────────────────────────────\n",
      "       Test metric             DataLoader 0\n",
      "────────────────────────────────────────────────────────────────────────────────────────────────────────────────────────\n",
      "     test_loss_epoch       0.007985319010913372\n",
      "      test_ms_ssim          0.9188433289527893\n",
      "        test_ssim           0.7461961507797241\n",
      "────────────────────────────────────────────────────────────────────────────────────────────────────────────────────────\n",
      "Found pretrained model, loading...\n",
      "Freezing:\n",
      "0.weight\n",
      "0.bias\n",
      "1.beta\n",
      "1.gamma\n",
      "2.weight\n",
      "2.bias\n",
      "3.beta\n",
      "3.gamma\n",
      "4.weight\n",
      "4.bias\n",
      "5.beta\n",
      "5.gamma\n",
      "6.weight\n",
      "6.bias\n",
      "0.weight\n",
      "0.bias\n",
      "2.weight\n",
      "2.bias\n",
      "4.weight\n",
      "4.bias\n",
      "Fine-tuning:\n",
      "lora-izing ConvTranspose2d(192, 128, kernel_size=(5, 5), stride=(2, 2), padding=(2, 2), output_padding=(1, 1))\n",
      "lora-izing ConvTranspose2d(128, 128, kernel_size=(5, 5), stride=(2, 2), padding=(2, 2), output_padding=(1, 1))\n",
      "lora-izing ConvTranspose2d(128, 128, kernel_size=(5, 5), stride=(2, 2), padding=(2, 2), output_padding=(1, 1))\n",
      "lora-izing ConvTranspose2d(128, 3, kernel_size=(5, 5), stride=(2, 2), padding=(2, 2), output_padding=(1, 1))\n",
      "lora-izing ConvTranspose2d(128, 128, kernel_size=(5, 5), stride=(2, 2), padding=(2, 2), output_padding=(1, 1))\n",
      "lora-izing ConvTranspose2d(128, 128, kernel_size=(5, 5), stride=(2, 2), padding=(2, 2), output_padding=(1, 1))\n",
      "lora-izing Conv2d(128, 192, kernel_size=(3, 3), stride=(1, 1), padding=(1, 1))\n"
     ]
    },
    {
     "name": "stderr",
     "output_type": "stream",
     "text": [
      "GPU available: True (cuda), used: True\n",
      "TPU available: False, using: 0 TPU cores\n",
      "HPU available: False, using: 0 HPUs\n",
      "LOCAL_RANK: 0 - CUDA_VISIBLE_DEVICES: [0]\n",
      "\n",
      "  | Name  | Type            | Params | Mode  | In sizes         | Out sizes\n",
      "---------------------------------------------------------------------------------\n",
      "0 | model | ScaleHyperprior | 5.2 M  | train | [2, 3, 320, 192] | ?        \n",
      "---------------------------------------------------------------------------------\n",
      "2.7 M     Trainable params\n",
      "2.5 M     Non-trainable params\n",
      "5.2 M     Total params\n",
      "20.939    Total estimated model params size (MB)\n",
      "69        Modules in train mode\n",
      "0         Modules in eval mode\n"
     ]
    },
    {
     "name": "stdout",
     "output_type": "stream",
     "text": [
      "                                                                           \r"
     ]
    },
    {
     "name": "stderr",
     "output_type": "stream",
     "text": [
      "/data/vision/beery/scratch/timm/micromamba/envs/aecompression/lib/python3.12/site-packages/pytorch_lightning/loops/fit_loop.py:298: The number of training batches (20) is smaller than the logging interval Trainer(log_every_n_steps=50). Set a lower value for log_every_n_steps if you want to see logs for the training epoch.\n"
     ]
    },
    {
     "name": "stdout",
     "output_type": "stream",
     "text": [
      "Epoch 0: 100%|██████████| 20/20 [00:24<00:00,  0.80it/s, v_num=4, train_loss_step=0.00144, val_loss_step=0.0013, val_loss_epoch=0.0013, train_loss_epoch=0.00433]"
     ]
    },
    {
     "name": "stderr",
     "output_type": "stream",
     "text": [
      "`Trainer.fit` stopped: `max_epochs=1` reached.\n"
     ]
    },
    {
     "name": "stdout",
     "output_type": "stream",
     "text": [
      "Epoch 0: 100%|██████████| 20/20 [00:25<00:00,  0.80it/s, v_num=4, train_loss_step=0.00144, val_loss_step=0.0013, val_loss_epoch=0.0013, train_loss_epoch=0.00433]\n"
     ]
    },
    {
     "name": "stderr",
     "output_type": "stream",
     "text": [
      "LOCAL_RANK: 0 - CUDA_VISIBLE_DEVICES: [0]\n"
     ]
    },
    {
     "name": "stdout",
     "output_type": "stream",
     "text": [
      "Testing DataLoader 0: 100%|██████████| 20/20 [00:04<00:00,  4.62it/s]\n",
      "────────────────────────────────────────────────────────────────────────────────────────────────────────────────────────\n",
      "       Test metric             DataLoader 0\n",
      "────────────────────────────────────────────────────────────────────────────────────────────────────────────────────────\n",
      "     test_loss_epoch       0.0012973499251529574\n",
      "      test_ms_ssim          0.9459400773048401\n",
      "        test_ssim           0.7969580292701721\n",
      "────────────────────────────────────────────────────────────────────────────────────────────────────────────────────────\n",
      "Found pretrained model, loading...\n",
      "Freezing:\n",
      "0.weight\n",
      "0.bias\n",
      "1.beta\n",
      "1.gamma\n",
      "2.weight\n",
      "2.bias\n",
      "3.beta\n",
      "3.gamma\n",
      "4.weight\n",
      "4.bias\n",
      "5.beta\n",
      "5.gamma\n",
      "6.weight\n",
      "6.bias\n",
      "0.weight\n",
      "0.bias\n",
      "2.weight\n",
      "2.bias\n",
      "4.weight\n",
      "4.bias\n",
      "Fine-tuning:\n",
      "lora-izing ConvTranspose2d(192, 128, kernel_size=(5, 5), stride=(2, 2), padding=(2, 2), output_padding=(1, 1))\n",
      "lora-izing ConvTranspose2d(128, 128, kernel_size=(5, 5), stride=(2, 2), padding=(2, 2), output_padding=(1, 1))\n",
      "lora-izing ConvTranspose2d(128, 128, kernel_size=(5, 5), stride=(2, 2), padding=(2, 2), output_padding=(1, 1))\n",
      "lora-izing ConvTranspose2d(128, 3, kernel_size=(5, 5), stride=(2, 2), padding=(2, 2), output_padding=(1, 1))\n",
      "lora-izing ConvTranspose2d(128, 128, kernel_size=(5, 5), stride=(2, 2), padding=(2, 2), output_padding=(1, 1))\n",
      "lora-izing ConvTranspose2d(128, 128, kernel_size=(5, 5), stride=(2, 2), padding=(2, 2), output_padding=(1, 1))\n",
      "lora-izing Conv2d(128, 192, kernel_size=(3, 3), stride=(1, 1), padding=(1, 1))\n"
     ]
    },
    {
     "name": "stderr",
     "output_type": "stream",
     "text": [
      "GPU available: True (cuda), used: True\n",
      "TPU available: False, using: 0 TPU cores\n",
      "HPU available: False, using: 0 HPUs\n",
      "LOCAL_RANK: 0 - CUDA_VISIBLE_DEVICES: [0]\n",
      "\n",
      "  | Name  | Type            | Params | Mode  | In sizes         | Out sizes\n",
      "---------------------------------------------------------------------------------\n",
      "0 | model | ScaleHyperprior | 5.2 M  | train | [2, 3, 320, 192] | ?        \n",
      "---------------------------------------------------------------------------------\n",
      "2.7 M     Trainable params\n",
      "2.5 M     Non-trainable params\n",
      "5.2 M     Total params\n",
      "20.939    Total estimated model params size (MB)\n",
      "69        Modules in train mode\n",
      "0         Modules in eval mode\n"
     ]
    },
    {
     "name": "stdout",
     "output_type": "stream",
     "text": [
      "                                                                           \r"
     ]
    },
    {
     "name": "stderr",
     "output_type": "stream",
     "text": [
      "/data/vision/beery/scratch/timm/micromamba/envs/aecompression/lib/python3.12/site-packages/pytorch_lightning/loops/fit_loop.py:298: The number of training batches (17) is smaller than the logging interval Trainer(log_every_n_steps=50). Set a lower value for log_every_n_steps if you want to see logs for the training epoch.\n"
     ]
    },
    {
     "name": "stdout",
     "output_type": "stream",
     "text": [
      "Epoch 0: 100%|██████████| 17/17 [00:19<00:00,  0.89it/s, v_num=4, train_loss_step=0.00187, val_loss_step=0.00188, val_loss_epoch=0.00218, train_loss_epoch=0.00452]"
     ]
    },
    {
     "name": "stderr",
     "output_type": "stream",
     "text": [
      "`Trainer.fit` stopped: `max_epochs=1` reached.\n"
     ]
    },
    {
     "name": "stdout",
     "output_type": "stream",
     "text": [
      "Epoch 0: 100%|██████████| 17/17 [00:19<00:00,  0.89it/s, v_num=4, train_loss_step=0.00187, val_loss_step=0.00188, val_loss_epoch=0.00218, train_loss_epoch=0.00452]\n"
     ]
    },
    {
     "name": "stderr",
     "output_type": "stream",
     "text": [
      "LOCAL_RANK: 0 - CUDA_VISIBLE_DEVICES: [0]\n"
     ]
    },
    {
     "name": "stdout",
     "output_type": "stream",
     "text": [
      "Testing DataLoader 0: 100%|██████████| 17/17 [00:04<00:00,  3.93it/s]\n",
      "────────────────────────────────────────────────────────────────────────────────────────────────────────────────────────\n",
      "       Test metric             DataLoader 0\n",
      "────────────────────────────────────────────────────────────────────────────────────────────────────────────────────────\n",
      "     test_loss_epoch       0.0021775811910629272\n",
      "      test_ms_ssim          0.9628207087516785\n",
      "        test_ssim            0.839600682258606\n",
      "────────────────────────────────────────────────────────────────────────────────────────────────────────────────────────\n",
      "Found pretrained model, loading...\n",
      "Freezing:\n",
      "0.weight\n",
      "0.bias\n",
      "1.beta\n",
      "1.gamma\n",
      "2.weight\n",
      "2.bias\n",
      "3.beta\n",
      "3.gamma\n",
      "4.weight\n",
      "4.bias\n",
      "5.beta\n",
      "5.gamma\n",
      "6.weight\n",
      "6.bias\n",
      "0.weight\n",
      "0.bias\n",
      "2.weight\n",
      "2.bias\n",
      "4.weight\n",
      "4.bias\n",
      "Fine-tuning:\n",
      "lora-izing ConvTranspose2d(192, 128, kernel_size=(5, 5), stride=(2, 2), padding=(2, 2), output_padding=(1, 1))\n",
      "lora-izing ConvTranspose2d(128, 128, kernel_size=(5, 5), stride=(2, 2), padding=(2, 2), output_padding=(1, 1))\n",
      "lora-izing ConvTranspose2d(128, 128, kernel_size=(5, 5), stride=(2, 2), padding=(2, 2), output_padding=(1, 1))\n",
      "lora-izing ConvTranspose2d(128, 3, kernel_size=(5, 5), stride=(2, 2), padding=(2, 2), output_padding=(1, 1))\n",
      "lora-izing ConvTranspose2d(128, 128, kernel_size=(5, 5), stride=(2, 2), padding=(2, 2), output_padding=(1, 1))\n",
      "lora-izing ConvTranspose2d(128, 128, kernel_size=(5, 5), stride=(2, 2), padding=(2, 2), output_padding=(1, 1))\n",
      "lora-izing Conv2d(128, 192, kernel_size=(3, 3), stride=(1, 1), padding=(1, 1))\n"
     ]
    },
    {
     "name": "stderr",
     "output_type": "stream",
     "text": [
      "GPU available: True (cuda), used: True\n",
      "TPU available: False, using: 0 TPU cores\n",
      "HPU available: False, using: 0 HPUs\n",
      "LOCAL_RANK: 0 - CUDA_VISIBLE_DEVICES: [0]\n",
      "\n",
      "  | Name  | Type            | Params | Mode  | In sizes         | Out sizes\n",
      "---------------------------------------------------------------------------------\n",
      "0 | model | ScaleHyperprior | 5.2 M  | train | [2, 3, 320, 192] | ?        \n",
      "---------------------------------------------------------------------------------\n",
      "2.7 M     Trainable params\n",
      "2.5 M     Non-trainable params\n",
      "5.2 M     Total params\n",
      "20.939    Total estimated model params size (MB)\n",
      "69        Modules in train mode\n",
      "0         Modules in eval mode\n"
     ]
    },
    {
     "name": "stdout",
     "output_type": "stream",
     "text": [
      "Epoch 0: 100%|██████████| 1/1 [00:08<00:00,  0.12it/s, v_num=4, train_loss_step=0.000443, val_loss_step=0.0218, val_loss_epoch=0.0218, train_loss_epoch=0.000443]"
     ]
    },
    {
     "name": "stderr",
     "output_type": "stream",
     "text": [
      "`Trainer.fit` stopped: `max_epochs=1` reached.\n"
     ]
    },
    {
     "name": "stdout",
     "output_type": "stream",
     "text": [
      "Epoch 0: 100%|██████████| 1/1 [00:08<00:00,  0.12it/s, v_num=4, train_loss_step=0.000443, val_loss_step=0.0218, val_loss_epoch=0.0218, train_loss_epoch=0.000443]\n"
     ]
    },
    {
     "name": "stderr",
     "output_type": "stream",
     "text": [
      "LOCAL_RANK: 0 - CUDA_VISIBLE_DEVICES: [0]\n"
     ]
    },
    {
     "name": "stdout",
     "output_type": "stream",
     "text": [
      "Testing DataLoader 0: 100%|██████████| 1/1 [00:00<00:00, 18.03it/s]\n",
      "────────────────────────────────────────────────────────────────────────────────────────────────────────────────────────\n",
      "       Test metric             DataLoader 0\n",
      "────────────────────────────────────────────────────────────────────────────────────────────────────────────────────────\n",
      "     test_loss_epoch       0.021758809685707092\n",
      "      test_ms_ssim          0.9443117380142212\n",
      "        test_ssim            0.603368878364563\n",
      "────────────────────────────────────────────────────────────────────────────────────────────────────────────────────────\n"
     ]
    },
    {
     "name": "stderr",
     "output_type": "stream",
     "text": [
      "GPU available: True (cuda), used: True\n",
      "TPU available: False, using: 0 TPU cores\n",
      "HPU available: False, using: 0 HPUs\n"
     ]
    },
    {
     "name": "stdout",
     "output_type": "stream",
     "text": [
      "Found pretrained model, loading...\n",
      "Freezing:\n",
      "0.weight\n",
      "0.bias\n",
      "1.beta\n",
      "1.gamma\n",
      "2.weight\n",
      "2.bias\n",
      "3.beta\n",
      "3.gamma\n",
      "4.weight\n",
      "4.bias\n",
      "5.beta\n",
      "5.gamma\n",
      "6.weight\n",
      "6.bias\n",
      "0.weight\n",
      "0.bias\n",
      "2.weight\n",
      "2.bias\n",
      "4.weight\n",
      "4.bias\n",
      "Fine-tuning:\n",
      "lora-izing ConvTranspose2d(192, 128, kernel_size=(5, 5), stride=(2, 2), padding=(2, 2), output_padding=(1, 1))\n",
      "lora-izing ConvTranspose2d(128, 128, kernel_size=(5, 5), stride=(2, 2), padding=(2, 2), output_padding=(1, 1))\n",
      "lora-izing ConvTranspose2d(128, 128, kernel_size=(5, 5), stride=(2, 2), padding=(2, 2), output_padding=(1, 1))\n",
      "lora-izing ConvTranspose2d(128, 3, kernel_size=(5, 5), stride=(2, 2), padding=(2, 2), output_padding=(1, 1))\n",
      "lora-izing ConvTranspose2d(128, 128, kernel_size=(5, 5), stride=(2, 2), padding=(2, 2), output_padding=(1, 1))\n",
      "lora-izing ConvTranspose2d(128, 128, kernel_size=(5, 5), stride=(2, 2), padding=(2, 2), output_padding=(1, 1))\n",
      "lora-izing Conv2d(128, 192, kernel_size=(3, 3), stride=(1, 1), padding=(1, 1))\n"
     ]
    },
    {
     "name": "stderr",
     "output_type": "stream",
     "text": [
      "LOCAL_RANK: 0 - CUDA_VISIBLE_DEVICES: [0]\n",
      "\n",
      "  | Name  | Type            | Params | Mode  | In sizes         | Out sizes\n",
      "---------------------------------------------------------------------------------\n",
      "0 | model | ScaleHyperprior | 5.2 M  | train | [2, 3, 320, 192] | ?        \n",
      "---------------------------------------------------------------------------------\n",
      "2.7 M     Trainable params\n",
      "2.5 M     Non-trainable params\n",
      "5.2 M     Total params\n",
      "20.939    Total estimated model params size (MB)\n",
      "69        Modules in train mode\n",
      "0         Modules in eval mode\n"
     ]
    },
    {
     "name": "stdout",
     "output_type": "stream",
     "text": [
      "Epoch 0: 100%|██████████| 3/3 [00:12<00:00,  0.25it/s, v_num=8, train_loss_step=0.00801, val_loss_step=0.00386, val_loss_epoch=0.00398, train_loss_epoch=0.00605]"
     ]
    },
    {
     "name": "stderr",
     "output_type": "stream",
     "text": [
      "`Trainer.fit` stopped: `max_epochs=1` reached.\n"
     ]
    },
    {
     "name": "stdout",
     "output_type": "stream",
     "text": [
      "Epoch 0: 100%|██████████| 3/3 [00:12<00:00,  0.24it/s, v_num=8, train_loss_step=0.00801, val_loss_step=0.00386, val_loss_epoch=0.00398, train_loss_epoch=0.00605]\n"
     ]
    },
    {
     "name": "stderr",
     "output_type": "stream",
     "text": [
      "LOCAL_RANK: 0 - CUDA_VISIBLE_DEVICES: [0]\n"
     ]
    },
    {
     "name": "stdout",
     "output_type": "stream",
     "text": [
      "Testing DataLoader 0: 100%|██████████| 3/3 [00:00<00:00,  6.82it/s]\n",
      "────────────────────────────────────────────────────────────────────────────────────────────────────────────────────────\n",
      "       Test metric             DataLoader 0\n",
      "────────────────────────────────────────────────────────────────────────────────────────────────────────────────────────\n",
      "     test_loss_epoch       0.003981611225754023\n",
      "      test_ms_ssim          0.9189932942390442\n",
      "        test_ssim           0.7033937573432922\n",
      "────────────────────────────────────────────────────────────────────────────────────────────────────────────────────────\n",
      "Found pretrained model, loading...\n",
      "Freezing:\n",
      "0.weight\n",
      "0.bias\n",
      "1.beta\n",
      "1.gamma\n",
      "2.weight\n",
      "2.bias\n",
      "3.beta\n",
      "3.gamma\n",
      "4.weight\n",
      "4.bias\n",
      "5.beta\n",
      "5.gamma\n",
      "6.weight\n",
      "6.bias\n",
      "0.weight\n",
      "0.bias\n",
      "2.weight\n",
      "2.bias\n",
      "4.weight\n",
      "4.bias\n",
      "Fine-tuning:\n",
      "lora-izing ConvTranspose2d(192, 128, kernel_size=(5, 5), stride=(2, 2), padding=(2, 2), output_padding=(1, 1))\n",
      "lora-izing ConvTranspose2d(128, 128, kernel_size=(5, 5), stride=(2, 2), padding=(2, 2), output_padding=(1, 1))\n",
      "lora-izing ConvTranspose2d(128, 128, kernel_size=(5, 5), stride=(2, 2), padding=(2, 2), output_padding=(1, 1))\n",
      "lora-izing ConvTranspose2d(128, 3, kernel_size=(5, 5), stride=(2, 2), padding=(2, 2), output_padding=(1, 1))\n",
      "lora-izing ConvTranspose2d(128, 128, kernel_size=(5, 5), stride=(2, 2), padding=(2, 2), output_padding=(1, 1))\n",
      "lora-izing ConvTranspose2d(128, 128, kernel_size=(5, 5), stride=(2, 2), padding=(2, 2), output_padding=(1, 1))\n",
      "lora-izing Conv2d(128, 192, kernel_size=(3, 3), stride=(1, 1), padding=(1, 1))\n"
     ]
    },
    {
     "name": "stderr",
     "output_type": "stream",
     "text": [
      "GPU available: True (cuda), used: True\n",
      "TPU available: False, using: 0 TPU cores\n",
      "HPU available: False, using: 0 HPUs\n",
      "LOCAL_RANK: 0 - CUDA_VISIBLE_DEVICES: [0]\n",
      "\n",
      "  | Name  | Type            | Params | Mode  | In sizes         | Out sizes\n",
      "---------------------------------------------------------------------------------\n",
      "0 | model | ScaleHyperprior | 5.2 M  | train | [2, 3, 320, 192] | ?        \n",
      "---------------------------------------------------------------------------------\n",
      "2.7 M     Trainable params\n",
      "2.5 M     Non-trainable params\n",
      "5.2 M     Total params\n",
      "20.939    Total estimated model params size (MB)\n",
      "69        Modules in train mode\n",
      "0         Modules in eval mode\n"
     ]
    },
    {
     "name": "stdout",
     "output_type": "stream",
     "text": [
      "Epoch 0: 100%|██████████| 1/1 [00:03<00:00,  0.30it/s, v_num=5, train_loss_step=0.00044, val_loss_step=0.016, val_loss_epoch=0.016, train_loss_epoch=0.00044]"
     ]
    },
    {
     "name": "stderr",
     "output_type": "stream",
     "text": [
      "`Trainer.fit` stopped: `max_epochs=1` reached.\n"
     ]
    },
    {
     "name": "stdout",
     "output_type": "stream",
     "text": [
      "Epoch 0: 100%|██████████| 1/1 [00:03<00:00,  0.28it/s, v_num=5, train_loss_step=0.00044, val_loss_step=0.016, val_loss_epoch=0.016, train_loss_epoch=0.00044]\n"
     ]
    },
    {
     "name": "stderr",
     "output_type": "stream",
     "text": [
      "LOCAL_RANK: 0 - CUDA_VISIBLE_DEVICES: [0]\n"
     ]
    },
    {
     "name": "stdout",
     "output_type": "stream",
     "text": [
      "Testing DataLoader 0: 100%|██████████| 1/1 [00:00<00:00, 28.57it/s]\n",
      "────────────────────────────────────────────────────────────────────────────────────────────────────────────────────────\n",
      "       Test metric             DataLoader 0\n",
      "────────────────────────────────────────────────────────────────────────────────────────────────────────────────────────\n",
      "     test_loss_epoch        0.01603749394416809\n",
      "      test_ms_ssim          0.9338389039039612\n",
      "        test_ssim           0.7590070962905884\n",
      "────────────────────────────────────────────────────────────────────────────────────────────────────────────────────────\n",
      "Found pretrained model, loading...\n",
      "Freezing:\n",
      "0.weight\n",
      "0.bias\n",
      "1.beta\n",
      "1.gamma\n",
      "2.weight\n",
      "2.bias\n",
      "3.beta\n",
      "3.gamma\n",
      "4.weight\n",
      "4.bias\n",
      "5.beta\n",
      "5.gamma\n",
      "6.weight\n",
      "6.bias\n",
      "0.weight\n",
      "0.bias\n",
      "2.weight\n",
      "2.bias\n",
      "4.weight\n",
      "4.bias\n",
      "Fine-tuning:\n",
      "lora-izing ConvTranspose2d(192, 128, kernel_size=(5, 5), stride=(2, 2), padding=(2, 2), output_padding=(1, 1))\n",
      "lora-izing ConvTranspose2d(128, 128, kernel_size=(5, 5), stride=(2, 2), padding=(2, 2), output_padding=(1, 1))\n",
      "lora-izing ConvTranspose2d(128, 128, kernel_size=(5, 5), stride=(2, 2), padding=(2, 2), output_padding=(1, 1))\n",
      "lora-izing ConvTranspose2d(128, 3, kernel_size=(5, 5), stride=(2, 2), padding=(2, 2), output_padding=(1, 1))\n",
      "lora-izing ConvTranspose2d(128, 128, kernel_size=(5, 5), stride=(2, 2), padding=(2, 2), output_padding=(1, 1))\n",
      "lora-izing ConvTranspose2d(128, 128, kernel_size=(5, 5), stride=(2, 2), padding=(2, 2), output_padding=(1, 1))\n",
      "lora-izing Conv2d(128, 192, kernel_size=(3, 3), stride=(1, 1), padding=(1, 1))\n"
     ]
    },
    {
     "name": "stderr",
     "output_type": "stream",
     "text": [
      "GPU available: True (cuda), used: True\n",
      "TPU available: False, using: 0 TPU cores\n",
      "HPU available: False, using: 0 HPUs\n",
      "LOCAL_RANK: 0 - CUDA_VISIBLE_DEVICES: [0]\n",
      "\n",
      "  | Name  | Type            | Params | Mode  | In sizes         | Out sizes\n",
      "---------------------------------------------------------------------------------\n",
      "0 | model | ScaleHyperprior | 5.2 M  | train | [2, 3, 320, 192] | ?        \n",
      "---------------------------------------------------------------------------------\n",
      "2.7 M     Trainable params\n",
      "2.5 M     Non-trainable params\n",
      "5.2 M     Total params\n",
      "20.939    Total estimated model params size (MB)\n",
      "69        Modules in train mode\n",
      "0         Modules in eval mode\n"
     ]
    },
    {
     "name": "stdout",
     "output_type": "stream",
     "text": [
      "Epoch 0: 100%|██████████| 20/20 [00:25<00:00,  0.78it/s, v_num=5, train_loss_step=0.00148, val_loss_step=0.00137, val_loss_epoch=0.00136, train_loss_epoch=0.00438]"
     ]
    },
    {
     "name": "stderr",
     "output_type": "stream",
     "text": [
      "`Trainer.fit` stopped: `max_epochs=1` reached.\n"
     ]
    },
    {
     "name": "stdout",
     "output_type": "stream",
     "text": [
      "Epoch 0: 100%|██████████| 20/20 [00:25<00:00,  0.77it/s, v_num=5, train_loss_step=0.00148, val_loss_step=0.00137, val_loss_epoch=0.00136, train_loss_epoch=0.00438]\n"
     ]
    },
    {
     "name": "stderr",
     "output_type": "stream",
     "text": [
      "LOCAL_RANK: 0 - CUDA_VISIBLE_DEVICES: [0]\n"
     ]
    },
    {
     "name": "stdout",
     "output_type": "stream",
     "text": [
      "Testing DataLoader 0: 100%|██████████| 20/20 [00:04<00:00,  4.60it/s]\n",
      "────────────────────────────────────────────────────────────────────────────────────────────────────────────────────────\n",
      "       Test metric             DataLoader 0\n",
      "────────────────────────────────────────────────────────────────────────────────────────────────────────────────────────\n",
      "     test_loss_epoch       0.0013631003675982356\n",
      "      test_ms_ssim          0.9430169463157654\n",
      "        test_ssim            0.788731038570404\n",
      "────────────────────────────────────────────────────────────────────────────────────────────────────────────────────────\n",
      "Found pretrained model, loading...\n",
      "Freezing:\n",
      "0.weight\n",
      "0.bias\n",
      "1.beta\n",
      "1.gamma\n",
      "2.weight\n",
      "2.bias\n",
      "3.beta\n",
      "3.gamma\n",
      "4.weight\n",
      "4.bias\n",
      "5.beta\n",
      "5.gamma\n",
      "6.weight\n",
      "6.bias\n",
      "0.weight\n",
      "0.bias\n",
      "2.weight\n",
      "2.bias\n",
      "4.weight\n",
      "4.bias\n",
      "Fine-tuning:\n",
      "lora-izing ConvTranspose2d(192, 128, kernel_size=(5, 5), stride=(2, 2), padding=(2, 2), output_padding=(1, 1))\n",
      "lora-izing ConvTranspose2d(128, 128, kernel_size=(5, 5), stride=(2, 2), padding=(2, 2), output_padding=(1, 1))\n",
      "lora-izing ConvTranspose2d(128, 128, kernel_size=(5, 5), stride=(2, 2), padding=(2, 2), output_padding=(1, 1))\n",
      "lora-izing ConvTranspose2d(128, 3, kernel_size=(5, 5), stride=(2, 2), padding=(2, 2), output_padding=(1, 1))\n",
      "lora-izing ConvTranspose2d(128, 128, kernel_size=(5, 5), stride=(2, 2), padding=(2, 2), output_padding=(1, 1))\n",
      "lora-izing ConvTranspose2d(128, 128, kernel_size=(5, 5), stride=(2, 2), padding=(2, 2), output_padding=(1, 1))\n",
      "lora-izing Conv2d(128, 192, kernel_size=(3, 3), stride=(1, 1), padding=(1, 1))\n"
     ]
    },
    {
     "name": "stderr",
     "output_type": "stream",
     "text": [
      "GPU available: True (cuda), used: True\n",
      "TPU available: False, using: 0 TPU cores\n",
      "HPU available: False, using: 0 HPUs\n",
      "LOCAL_RANK: 0 - CUDA_VISIBLE_DEVICES: [0]\n",
      "\n",
      "  | Name  | Type            | Params | Mode  | In sizes         | Out sizes\n",
      "---------------------------------------------------------------------------------\n",
      "0 | model | ScaleHyperprior | 5.2 M  | train | [2, 3, 320, 192] | ?        \n",
      "---------------------------------------------------------------------------------\n",
      "2.7 M     Trainable params\n",
      "2.5 M     Non-trainable params\n",
      "5.2 M     Total params\n",
      "20.939    Total estimated model params size (MB)\n",
      "69        Modules in train mode\n",
      "0         Modules in eval mode\n"
     ]
    },
    {
     "name": "stdout",
     "output_type": "stream",
     "text": [
      "Epoch 0: 100%|██████████| 17/17 [00:19<00:00,  0.87it/s, v_num=5, train_loss_step=0.00187, val_loss_step=0.00187, val_loss_epoch=0.00217, train_loss_epoch=0.0046]"
     ]
    },
    {
     "name": "stderr",
     "output_type": "stream",
     "text": [
      "`Trainer.fit` stopped: `max_epochs=1` reached.\n"
     ]
    },
    {
     "name": "stdout",
     "output_type": "stream",
     "text": [
      "Epoch 0: 100%|██████████| 17/17 [00:19<00:00,  0.86it/s, v_num=5, train_loss_step=0.00187, val_loss_step=0.00187, val_loss_epoch=0.00217, train_loss_epoch=0.0046]\n"
     ]
    },
    {
     "name": "stderr",
     "output_type": "stream",
     "text": [
      "LOCAL_RANK: 0 - CUDA_VISIBLE_DEVICES: [0]\n"
     ]
    },
    {
     "name": "stdout",
     "output_type": "stream",
     "text": [
      "Testing DataLoader 0: 100%|██████████| 17/17 [00:03<00:00,  4.88it/s]\n",
      "────────────────────────────────────────────────────────────────────────────────────────────────────────────────────────\n",
      "       Test metric             DataLoader 0\n",
      "────────────────────────────────────────────────────────────────────────────────────────────────────────────────────────\n",
      "     test_loss_epoch       0.0021660118363797665\n",
      "      test_ms_ssim          0.9621384739875793\n",
      "        test_ssim           0.8339285850524902\n",
      "────────────────────────────────────────────────────────────────────────────────────────────────────────────────────────\n",
      "Found pretrained model, loading...\n"
     ]
    },
    {
     "name": "stderr",
     "output_type": "stream",
     "text": [
      "GPU available: True (cuda), used: True\n",
      "TPU available: False, using: 0 TPU cores\n",
      "HPU available: False, using: 0 HPUs\n",
      "LOCAL_RANK: 0 - CUDA_VISIBLE_DEVICES: [0]\n",
      "\n",
      "  | Name  | Type            | Params | Mode  | In sizes         | Out sizes\n",
      "---------------------------------------------------------------------------------\n",
      "0 | model | ScaleHyperprior | 5.2 M  | train | [2, 3, 320, 192] | ?        \n",
      "---------------------------------------------------------------------------------\n",
      "2.7 M     Trainable params\n",
      "2.5 M     Non-trainable params\n",
      "5.2 M     Total params\n",
      "20.939    Total estimated model params size (MB)\n",
      "69        Modules in train mode\n",
      "0         Modules in eval mode\n"
     ]
    },
    {
     "name": "stdout",
     "output_type": "stream",
     "text": [
      "Freezing:\n",
      "0.weight\n",
      "0.bias\n",
      "1.beta\n",
      "1.gamma\n",
      "2.weight\n",
      "2.bias\n",
      "3.beta\n",
      "3.gamma\n",
      "4.weight\n",
      "4.bias\n",
      "5.beta\n",
      "5.gamma\n",
      "6.weight\n",
      "6.bias\n",
      "0.weight\n",
      "0.bias\n",
      "2.weight\n",
      "2.bias\n",
      "4.weight\n",
      "4.bias\n",
      "Fine-tuning:\n",
      "lora-izing ConvTranspose2d(192, 128, kernel_size=(5, 5), stride=(2, 2), padding=(2, 2), output_padding=(1, 1))\n",
      "lora-izing ConvTranspose2d(128, 128, kernel_size=(5, 5), stride=(2, 2), padding=(2, 2), output_padding=(1, 1))\n",
      "lora-izing ConvTranspose2d(128, 128, kernel_size=(5, 5), stride=(2, 2), padding=(2, 2), output_padding=(1, 1))\n",
      "lora-izing ConvTranspose2d(128, 3, kernel_size=(5, 5), stride=(2, 2), padding=(2, 2), output_padding=(1, 1))\n",
      "lora-izing ConvTranspose2d(128, 128, kernel_size=(5, 5), stride=(2, 2), padding=(2, 2), output_padding=(1, 1))\n",
      "lora-izing ConvTranspose2d(128, 128, kernel_size=(5, 5), stride=(2, 2), padding=(2, 2), output_padding=(1, 1))\n",
      "lora-izing Conv2d(128, 192, kernel_size=(3, 3), stride=(1, 1), padding=(1, 1))\n",
      "Epoch 0: 100%|██████████| 1/1 [00:08<00:00,  0.12it/s, v_num=5, train_loss_step=0.000443, val_loss_step=0.0217, val_loss_epoch=0.0217, train_loss_epoch=0.000443]"
     ]
    },
    {
     "name": "stderr",
     "output_type": "stream",
     "text": [
      "`Trainer.fit` stopped: `max_epochs=1` reached.\n"
     ]
    },
    {
     "name": "stdout",
     "output_type": "stream",
     "text": [
      "Epoch 0: 100%|██████████| 1/1 [00:08<00:00,  0.12it/s, v_num=5, train_loss_step=0.000443, val_loss_step=0.0217, val_loss_epoch=0.0217, train_loss_epoch=0.000443]\n"
     ]
    },
    {
     "name": "stderr",
     "output_type": "stream",
     "text": [
      "LOCAL_RANK: 0 - CUDA_VISIBLE_DEVICES: [0]\n"
     ]
    },
    {
     "name": "stdout",
     "output_type": "stream",
     "text": [
      "Testing DataLoader 0: 100%|██████████| 1/1 [00:00<00:00, 17.10it/s]\n",
      "────────────────────────────────────────────────────────────────────────────────────────────────────────────────────────\n",
      "       Test metric             DataLoader 0\n",
      "────────────────────────────────────────────────────────────────────────────────────────────────────────────────────────\n",
      "     test_loss_epoch       0.021695777773857117\n",
      "      test_ms_ssim          0.9459444284439087\n",
      "        test_ssim           0.6069311499595642\n",
      "────────────────────────────────────────────────────────────────────────────────────────────────────────────────────────\n"
     ]
    },
    {
     "name": "stderr",
     "output_type": "stream",
     "text": [
      "GPU available: True (cuda), used: True\n",
      "TPU available: False, using: 0 TPU cores\n",
      "HPU available: False, using: 0 HPUs\n"
     ]
    },
    {
     "name": "stdout",
     "output_type": "stream",
     "text": [
      "Found pretrained model, loading...\n",
      "Freezing:\n",
      "0.weight\n",
      "0.bias\n",
      "1.beta\n",
      "1.gamma\n",
      "2.weight\n",
      "2.bias\n",
      "3.beta\n",
      "3.gamma\n",
      "4.weight\n",
      "4.bias\n",
      "5.beta\n",
      "5.gamma\n",
      "6.weight\n",
      "6.bias\n",
      "0.weight\n",
      "0.bias\n",
      "2.weight\n",
      "2.bias\n",
      "4.weight\n",
      "4.bias\n",
      "Fine-tuning:\n",
      "lora-izing ConvTranspose2d(192, 128, kernel_size=(5, 5), stride=(2, 2), padding=(2, 2), output_padding=(1, 1))\n",
      "lora-izing ConvTranspose2d(128, 128, kernel_size=(5, 5), stride=(2, 2), padding=(2, 2), output_padding=(1, 1))\n",
      "lora-izing ConvTranspose2d(128, 128, kernel_size=(5, 5), stride=(2, 2), padding=(2, 2), output_padding=(1, 1))\n",
      "lora-izing ConvTranspose2d(128, 3, kernel_size=(5, 5), stride=(2, 2), padding=(2, 2), output_padding=(1, 1))\n",
      "lora-izing ConvTranspose2d(128, 128, kernel_size=(5, 5), stride=(2, 2), padding=(2, 2), output_padding=(1, 1))\n",
      "lora-izing ConvTranspose2d(128, 128, kernel_size=(5, 5), stride=(2, 2), padding=(2, 2), output_padding=(1, 1))\n",
      "lora-izing Conv2d(128, 192, kernel_size=(3, 3), stride=(1, 1), padding=(1, 1))\n"
     ]
    },
    {
     "name": "stderr",
     "output_type": "stream",
     "text": [
      "LOCAL_RANK: 0 - CUDA_VISIBLE_DEVICES: [0]\n",
      "\n",
      "  | Name  | Type            | Params | Mode  | In sizes         | Out sizes\n",
      "---------------------------------------------------------------------------------\n",
      "0 | model | ScaleHyperprior | 5.2 M  | train | [2, 3, 320, 192] | ?        \n",
      "---------------------------------------------------------------------------------\n",
      "2.7 M     Trainable params\n",
      "2.5 M     Non-trainable params\n",
      "5.2 M     Total params\n",
      "20.939    Total estimated model params size (MB)\n",
      "69        Modules in train mode\n",
      "0         Modules in eval mode\n"
     ]
    },
    {
     "name": "stdout",
     "output_type": "stream",
     "text": [
      "Epoch 0: 100%|██████████| 3/3 [00:14<00:00,  0.21it/s, v_num=9, train_loss_step=0.00582, val_loss_step=0.00428, val_loss_epoch=0.00452, train_loss_epoch=0.00749]"
     ]
    },
    {
     "name": "stderr",
     "output_type": "stream",
     "text": [
      "`Trainer.fit` stopped: `max_epochs=1` reached.\n"
     ]
    },
    {
     "name": "stdout",
     "output_type": "stream",
     "text": [
      "Epoch 0: 100%|██████████| 3/3 [00:14<00:00,  0.20it/s, v_num=9, train_loss_step=0.00582, val_loss_step=0.00428, val_loss_epoch=0.00452, train_loss_epoch=0.00749]\n"
     ]
    },
    {
     "name": "stderr",
     "output_type": "stream",
     "text": [
      "LOCAL_RANK: 0 - CUDA_VISIBLE_DEVICES: [0]\n"
     ]
    },
    {
     "name": "stdout",
     "output_type": "stream",
     "text": [
      "Testing DataLoader 0: 100%|██████████| 3/3 [00:00<00:00,  6.87it/s]\n",
      "────────────────────────────────────────────────────────────────────────────────────────────────────────────────────────\n",
      "       Test metric             DataLoader 0\n",
      "────────────────────────────────────────────────────────────────────────────────────────────────────────────────────────\n",
      "     test_loss_epoch       0.004521864932030439\n",
      "      test_ms_ssim          0.9205957651138306\n",
      "        test_ssim           0.7042944431304932\n",
      "────────────────────────────────────────────────────────────────────────────────────────────────────────────────────────\n",
      "Found pretrained model, loading...\n",
      "Freezing:\n",
      "0.weight\n",
      "0.bias\n",
      "1.beta\n",
      "1.gamma\n",
      "2.weight\n",
      "2.bias\n",
      "3.beta\n",
      "3.gamma\n",
      "4.weight\n",
      "4.bias\n",
      "5.beta\n",
      "5.gamma\n",
      "6.weight\n",
      "6.bias\n",
      "0.weight\n",
      "0.bias\n",
      "2.weight\n",
      "2.bias\n",
      "4.weight\n",
      "4.bias\n",
      "Fine-tuning:\n",
      "lora-izing ConvTranspose2d(192, 128, kernel_size=(5, 5), stride=(2, 2), padding=(2, 2), output_padding=(1, 1))\n",
      "lora-izing ConvTranspose2d(128, 128, kernel_size=(5, 5), stride=(2, 2), padding=(2, 2), output_padding=(1, 1))\n",
      "lora-izing ConvTranspose2d(128, 128, kernel_size=(5, 5), stride=(2, 2), padding=(2, 2), output_padding=(1, 1))\n",
      "lora-izing ConvTranspose2d(128, 3, kernel_size=(5, 5), stride=(2, 2), padding=(2, 2), output_padding=(1, 1))\n",
      "lora-izing ConvTranspose2d(128, 128, kernel_size=(5, 5), stride=(2, 2), padding=(2, 2), output_padding=(1, 1))\n",
      "lora-izing ConvTranspose2d(128, 128, kernel_size=(5, 5), stride=(2, 2), padding=(2, 2), output_padding=(1, 1))\n",
      "lora-izing Conv2d(128, 192, kernel_size=(3, 3), stride=(1, 1), padding=(1, 1))\n"
     ]
    },
    {
     "name": "stderr",
     "output_type": "stream",
     "text": [
      "GPU available: True (cuda), used: True\n",
      "TPU available: False, using: 0 TPU cores\n",
      "HPU available: False, using: 0 HPUs\n",
      "LOCAL_RANK: 0 - CUDA_VISIBLE_DEVICES: [0]\n",
      "\n",
      "  | Name  | Type            | Params | Mode  | In sizes         | Out sizes\n",
      "---------------------------------------------------------------------------------\n",
      "0 | model | ScaleHyperprior | 5.2 M  | train | [2, 3, 320, 192] | ?        \n",
      "---------------------------------------------------------------------------------\n",
      "2.7 M     Trainable params\n",
      "2.5 M     Non-trainable params\n",
      "5.2 M     Total params\n",
      "20.939    Total estimated model params size (MB)\n",
      "69        Modules in train mode\n",
      "0         Modules in eval mode\n"
     ]
    },
    {
     "name": "stdout",
     "output_type": "stream",
     "text": [
      "Epoch 0: 100%|██████████| 1/1 [00:02<00:00,  0.34it/s, v_num=6, train_loss_step=0.000446, val_loss_step=0.0134, val_loss_epoch=0.0134, train_loss_epoch=0.000446]"
     ]
    },
    {
     "name": "stderr",
     "output_type": "stream",
     "text": [
      "`Trainer.fit` stopped: `max_epochs=1` reached.\n"
     ]
    },
    {
     "name": "stdout",
     "output_type": "stream",
     "text": [
      "Epoch 0: 100%|██████████| 1/1 [00:03<00:00,  0.32it/s, v_num=6, train_loss_step=0.000446, val_loss_step=0.0134, val_loss_epoch=0.0134, train_loss_epoch=0.000446]\n"
     ]
    },
    {
     "name": "stderr",
     "output_type": "stream",
     "text": [
      "LOCAL_RANK: 0 - CUDA_VISIBLE_DEVICES: [0]\n"
     ]
    },
    {
     "name": "stdout",
     "output_type": "stream",
     "text": [
      "Testing DataLoader 0: 100%|██████████| 1/1 [00:00<00:00, 25.02it/s]\n",
      "────────────────────────────────────────────────────────────────────────────────────────────────────────────────────────\n",
      "       Test metric             DataLoader 0\n",
      "────────────────────────────────────────────────────────────────────────────────────────────────────────────────────────\n",
      "     test_loss_epoch       0.013422973453998566\n",
      "      test_ms_ssim          0.9247492551803589\n",
      "        test_ssim           0.7408847808837891\n",
      "────────────────────────────────────────────────────────────────────────────────────────────────────────────────────────\n",
      "Found pretrained model, loading...\n",
      "Freezing:\n",
      "0.weight\n",
      "0.bias\n",
      "1.beta\n",
      "1.gamma\n",
      "2.weight\n",
      "2.bias\n",
      "3.beta\n",
      "3.gamma\n",
      "4.weight\n",
      "4.bias\n",
      "5.beta\n",
      "5.gamma\n",
      "6.weight\n",
      "6.bias\n",
      "0.weight\n",
      "0.bias\n",
      "2.weight\n",
      "2.bias\n",
      "4.weight\n",
      "4.bias\n",
      "Fine-tuning:\n",
      "lora-izing ConvTranspose2d(192, 128, kernel_size=(5, 5), stride=(2, 2), padding=(2, 2), output_padding=(1, 1))\n",
      "lora-izing ConvTranspose2d(128, 128, kernel_size=(5, 5), stride=(2, 2), padding=(2, 2), output_padding=(1, 1))\n",
      "lora-izing ConvTranspose2d(128, 128, kernel_size=(5, 5), stride=(2, 2), padding=(2, 2), output_padding=(1, 1))\n",
      "lora-izing ConvTranspose2d(128, 3, kernel_size=(5, 5), stride=(2, 2), padding=(2, 2), output_padding=(1, 1))\n",
      "lora-izing ConvTranspose2d(128, 128, kernel_size=(5, 5), stride=(2, 2), padding=(2, 2), output_padding=(1, 1))\n",
      "lora-izing ConvTranspose2d(128, 128, kernel_size=(5, 5), stride=(2, 2), padding=(2, 2), output_padding=(1, 1))\n",
      "lora-izing Conv2d(128, 192, kernel_size=(3, 3), stride=(1, 1), padding=(1, 1))\n"
     ]
    },
    {
     "name": "stderr",
     "output_type": "stream",
     "text": [
      "GPU available: True (cuda), used: True\n",
      "TPU available: False, using: 0 TPU cores\n",
      "HPU available: False, using: 0 HPUs\n",
      "LOCAL_RANK: 0 - CUDA_VISIBLE_DEVICES: [0]\n",
      "\n",
      "  | Name  | Type            | Params | Mode  | In sizes         | Out sizes\n",
      "---------------------------------------------------------------------------------\n",
      "0 | model | ScaleHyperprior | 5.2 M  | train | [2, 3, 320, 192] | ?        \n",
      "---------------------------------------------------------------------------------\n",
      "2.7 M     Trainable params\n",
      "2.5 M     Non-trainable params\n",
      "5.2 M     Total params\n",
      "20.939    Total estimated model params size (MB)\n",
      "69        Modules in train mode\n",
      "0         Modules in eval mode\n"
     ]
    },
    {
     "name": "stdout",
     "output_type": "stream",
     "text": [
      "Epoch 0: 100%|██████████| 20/20 [00:25<00:00,  0.79it/s, v_num=6, train_loss_step=0.00154, val_loss_step=0.0014, val_loss_epoch=0.00139, train_loss_epoch=0.00444]"
     ]
    },
    {
     "name": "stderr",
     "output_type": "stream",
     "text": [
      "`Trainer.fit` stopped: `max_epochs=1` reached.\n"
     ]
    },
    {
     "name": "stdout",
     "output_type": "stream",
     "text": [
      "Epoch 0: 100%|██████████| 20/20 [00:25<00:00,  0.78it/s, v_num=6, train_loss_step=0.00154, val_loss_step=0.0014, val_loss_epoch=0.00139, train_loss_epoch=0.00444]\n"
     ]
    },
    {
     "name": "stderr",
     "output_type": "stream",
     "text": [
      "LOCAL_RANK: 0 - CUDA_VISIBLE_DEVICES: [0]\n"
     ]
    },
    {
     "name": "stdout",
     "output_type": "stream",
     "text": [
      "Testing DataLoader 0: 100%|██████████| 20/20 [00:04<00:00,  4.58it/s]\n",
      "────────────────────────────────────────────────────────────────────────────────────────────────────────────────────────\n",
      "       Test metric             DataLoader 0\n",
      "────────────────────────────────────────────────────────────────────────────────────────────────────────────────────────\n",
      "     test_loss_epoch       0.0013878021854907274\n",
      "      test_ms_ssim          0.9423525333404541\n",
      "        test_ssim           0.7851932644844055\n",
      "────────────────────────────────────────────────────────────────────────────────────────────────────────────────────────\n",
      "Found pretrained model, loading...\n",
      "Freezing:\n",
      "0.weight\n",
      "0.bias\n",
      "1.beta\n",
      "1.gamma\n",
      "2.weight\n",
      "2.bias\n",
      "3.beta\n",
      "3.gamma\n",
      "4.weight\n",
      "4.bias\n",
      "5.beta\n",
      "5.gamma\n",
      "6.weight\n",
      "6.bias\n",
      "0.weight\n",
      "0.bias\n",
      "2.weight\n",
      "2.bias\n",
      "4.weight\n",
      "4.bias\n",
      "Fine-tuning:\n",
      "lora-izing ConvTranspose2d(192, 128, kernel_size=(5, 5), stride=(2, 2), padding=(2, 2), output_padding=(1, 1))\n",
      "lora-izing ConvTranspose2d(128, 128, kernel_size=(5, 5), stride=(2, 2), padding=(2, 2), output_padding=(1, 1))\n",
      "lora-izing ConvTranspose2d(128, 128, kernel_size=(5, 5), stride=(2, 2), padding=(2, 2), output_padding=(1, 1))\n",
      "lora-izing ConvTranspose2d(128, 3, kernel_size=(5, 5), stride=(2, 2), padding=(2, 2), output_padding=(1, 1))\n",
      "lora-izing ConvTranspose2d(128, 128, kernel_size=(5, 5), stride=(2, 2), padding=(2, 2), output_padding=(1, 1))\n",
      "lora-izing ConvTranspose2d(128, 128, kernel_size=(5, 5), stride=(2, 2), padding=(2, 2), output_padding=(1, 1))\n",
      "lora-izing Conv2d(128, 192, kernel_size=(3, 3), stride=(1, 1), padding=(1, 1))\n"
     ]
    },
    {
     "name": "stderr",
     "output_type": "stream",
     "text": [
      "GPU available: True (cuda), used: True\n",
      "TPU available: False, using: 0 TPU cores\n",
      "HPU available: False, using: 0 HPUs\n",
      "LOCAL_RANK: 0 - CUDA_VISIBLE_DEVICES: [0]\n",
      "\n",
      "  | Name  | Type            | Params | Mode  | In sizes         | Out sizes\n",
      "---------------------------------------------------------------------------------\n",
      "0 | model | ScaleHyperprior | 5.2 M  | train | [2, 3, 320, 192] | ?        \n",
      "---------------------------------------------------------------------------------\n",
      "2.7 M     Trainable params\n",
      "2.5 M     Non-trainable params\n",
      "5.2 M     Total params\n",
      "20.939    Total estimated model params size (MB)\n",
      "69        Modules in train mode\n",
      "0         Modules in eval mode\n"
     ]
    },
    {
     "name": "stdout",
     "output_type": "stream",
     "text": [
      "Epoch 0: 100%|██████████| 17/17 [00:19<00:00,  0.87it/s, v_num=6, train_loss_step=0.00206, val_loss_step=0.00196, val_loss_epoch=0.00228, train_loss_epoch=0.00467]"
     ]
    },
    {
     "name": "stderr",
     "output_type": "stream",
     "text": [
      "`Trainer.fit` stopped: `max_epochs=1` reached.\n"
     ]
    },
    {
     "name": "stdout",
     "output_type": "stream",
     "text": [
      "Epoch 0: 100%|██████████| 17/17 [00:19<00:00,  0.87it/s, v_num=6, train_loss_step=0.00206, val_loss_step=0.00196, val_loss_epoch=0.00228, train_loss_epoch=0.00467]\n"
     ]
    },
    {
     "name": "stderr",
     "output_type": "stream",
     "text": [
      "LOCAL_RANK: 0 - CUDA_VISIBLE_DEVICES: [0]\n"
     ]
    },
    {
     "name": "stdout",
     "output_type": "stream",
     "text": [
      "Testing DataLoader 0: 100%|██████████| 17/17 [00:04<00:00,  3.98it/s]\n",
      "────────────────────────────────────────────────────────────────────────────────────────────────────────────────────────\n",
      "       Test metric             DataLoader 0\n",
      "────────────────────────────────────────────────────────────────────────────────────────────────────────────────────────\n",
      "     test_loss_epoch       0.002284084912389517\n",
      "      test_ms_ssim          0.9540945887565613\n",
      "        test_ssim            0.812240719795227\n",
      "────────────────────────────────────────────────────────────────────────────────────────────────────────────────────────\n",
      "Found pretrained model, loading...\n",
      "Freezing:\n",
      "0.weight\n",
      "0.bias\n",
      "1.beta\n",
      "1.gamma\n",
      "2.weight\n",
      "2.bias\n",
      "3.beta\n",
      "3.gamma\n",
      "4.weight\n",
      "4.bias\n",
      "5.beta\n",
      "5.gamma\n",
      "6.weight\n",
      "6.bias\n",
      "0.weight\n",
      "0.bias\n",
      "2.weight\n",
      "2.bias\n",
      "4.weight\n",
      "4.bias\n",
      "Fine-tuning:\n",
      "lora-izing ConvTranspose2d(192, 128, kernel_size=(5, 5), stride=(2, 2), padding=(2, 2), output_padding=(1, 1))\n",
      "lora-izing ConvTranspose2d(128, 128, kernel_size=(5, 5), stride=(2, 2), padding=(2, 2), output_padding=(1, 1))\n",
      "lora-izing ConvTranspose2d(128, 128, kernel_size=(5, 5), stride=(2, 2), padding=(2, 2), output_padding=(1, 1))\n",
      "lora-izing ConvTranspose2d(128, 3, kernel_size=(5, 5), stride=(2, 2), padding=(2, 2), output_padding=(1, 1))\n",
      "lora-izing ConvTranspose2d(128, 128, kernel_size=(5, 5), stride=(2, 2), padding=(2, 2), output_padding=(1, 1))\n",
      "lora-izing ConvTranspose2d(128, 128, kernel_size=(5, 5), stride=(2, 2), padding=(2, 2), output_padding=(1, 1))\n",
      "lora-izing Conv2d(128, 192, kernel_size=(3, 3), stride=(1, 1), padding=(1, 1))\n"
     ]
    },
    {
     "name": "stderr",
     "output_type": "stream",
     "text": [
      "GPU available: True (cuda), used: True\n",
      "TPU available: False, using: 0 TPU cores\n",
      "HPU available: False, using: 0 HPUs\n",
      "LOCAL_RANK: 0 - CUDA_VISIBLE_DEVICES: [0]\n",
      "\n",
      "  | Name  | Type            | Params | Mode  | In sizes         | Out sizes\n",
      "---------------------------------------------------------------------------------\n",
      "0 | model | ScaleHyperprior | 5.2 M  | train | [2, 3, 320, 192] | ?        \n",
      "---------------------------------------------------------------------------------\n",
      "2.7 M     Trainable params\n",
      "2.5 M     Non-trainable params\n",
      "5.2 M     Total params\n",
      "20.939    Total estimated model params size (MB)\n",
      "69        Modules in train mode\n",
      "0         Modules in eval mode\n"
     ]
    },
    {
     "name": "stdout",
     "output_type": "stream",
     "text": [
      "Epoch 0: 100%|██████████| 1/1 [00:07<00:00,  0.13it/s, v_num=6, train_loss_step=0.000444, val_loss_step=0.0223, val_loss_epoch=0.0223, train_loss_epoch=0.000444]"
     ]
    },
    {
     "name": "stderr",
     "output_type": "stream",
     "text": [
      "`Trainer.fit` stopped: `max_epochs=1` reached.\n"
     ]
    },
    {
     "name": "stdout",
     "output_type": "stream",
     "text": [
      "Epoch 0: 100%|██████████| 1/1 [00:07<00:00,  0.13it/s, v_num=6, train_loss_step=0.000444, val_loss_step=0.0223, val_loss_epoch=0.0223, train_loss_epoch=0.000444]\n"
     ]
    },
    {
     "name": "stderr",
     "output_type": "stream",
     "text": [
      "LOCAL_RANK: 0 - CUDA_VISIBLE_DEVICES: [0]\n"
     ]
    },
    {
     "name": "stdout",
     "output_type": "stream",
     "text": [
      "Testing DataLoader 0: 100%|██████████| 1/1 [00:00<00:00, 15.75it/s]\n",
      "────────────────────────────────────────────────────────────────────────────────────────────────────────────────────────\n",
      "       Test metric             DataLoader 0\n",
      "────────────────────────────────────────────────────────────────────────────────────────────────────────────────────────\n",
      "     test_loss_epoch       0.022348085418343544\n",
      "      test_ms_ssim          0.9460630416870117\n",
      "        test_ssim           0.6044544577598572\n",
      "────────────────────────────────────────────────────────────────────────────────────────────────────────────────────────\n",
      "Found pretrained model, loading...\n",
      "Freezing:\n",
      "0.weight\n",
      "0.bias\n",
      "1.beta\n",
      "1.gamma\n",
      "2.weight\n",
      "2.bias\n",
      "3.beta\n",
      "3.gamma\n",
      "4.weight\n",
      "4.bias\n",
      "5.beta\n",
      "5.gamma\n",
      "6.weight\n",
      "6.bias\n",
      "0.weight\n",
      "0.bias\n",
      "2.weight\n",
      "2.bias\n",
      "4.weight\n",
      "4.bias\n",
      "Fine-tuning:\n",
      "lora-izing ConvTranspose2d(192, 128, kernel_size=(5, 5), stride=(2, 2), padding=(2, 2), output_padding=(1, 1))\n",
      "lora-izing ConvTranspose2d(128, 128, kernel_size=(5, 5), stride=(2, 2), padding=(2, 2), output_padding=(1, 1))\n",
      "lora-izing ConvTranspose2d(128, 128, kernel_size=(5, 5), stride=(2, 2), padding=(2, 2), output_padding=(1, 1))\n",
      "lora-izing ConvTranspose2d(128, 3, kernel_size=(5, 5), stride=(2, 2), padding=(2, 2), output_padding=(1, 1))\n",
      "lora-izing ConvTranspose2d(128, 128, kernel_size=(5, 5), stride=(2, 2), padding=(2, 2), output_padding=(1, 1))\n",
      "lora-izing ConvTranspose2d(128, 128, kernel_size=(5, 5), stride=(2, 2), padding=(2, 2), output_padding=(1, 1))\n",
      "lora-izing Conv2d(128, 192, kernel_size=(3, 3), stride=(1, 1), padding=(1, 1))\n"
     ]
    },
    {
     "name": "stderr",
     "output_type": "stream",
     "text": [
      "GPU available: True (cuda), used: True\n",
      "TPU available: False, using: 0 TPU cores\n",
      "HPU available: False, using: 0 HPUs\n",
      "LOCAL_RANK: 0 - CUDA_VISIBLE_DEVICES: [0]\n",
      "\n",
      "  | Name  | Type            | Params | Mode  | In sizes         | Out sizes\n",
      "---------------------------------------------------------------------------------\n",
      "0 | model | ScaleHyperprior | 5.2 M  | train | [2, 3, 320, 192] | ?        \n",
      "---------------------------------------------------------------------------------\n",
      "2.7 M     Trainable params\n",
      "2.5 M     Non-trainable params\n",
      "5.2 M     Total params\n",
      "20.939    Total estimated model params size (MB)\n",
      "69        Modules in train mode\n",
      "0         Modules in eval mode\n"
     ]
    },
    {
     "name": "stdout",
     "output_type": "stream",
     "text": [
      "Epoch 0: 100%|██████████| 3/3 [00:11<00:00,  0.26it/s, v_num=10, train_loss_step=0.00382, val_loss_step=0.012, val_loss_epoch=0.0104, train_loss_epoch=0.021]"
     ]
    },
    {
     "name": "stderr",
     "output_type": "stream",
     "text": [
      "`Trainer.fit` stopped: `max_epochs=1` reached.\n"
     ]
    },
    {
     "name": "stdout",
     "output_type": "stream",
     "text": [
      "Epoch 0: 100%|██████████| 3/3 [00:11<00:00,  0.26it/s, v_num=10, train_loss_step=0.00382, val_loss_step=0.012, val_loss_epoch=0.0104, train_loss_epoch=0.021]\n"
     ]
    },
    {
     "name": "stderr",
     "output_type": "stream",
     "text": [
      "LOCAL_RANK: 0 - CUDA_VISIBLE_DEVICES: [0]\n"
     ]
    },
    {
     "name": "stdout",
     "output_type": "stream",
     "text": [
      "Testing DataLoader 0: 100%|██████████| 3/3 [00:00<00:00,  6.86it/s]\n",
      "────────────────────────────────────────────────────────────────────────────────────────────────────────────────────────\n",
      "       Test metric             DataLoader 0\n",
      "────────────────────────────────────────────────────────────────────────────────────────────────────────────────────────\n",
      "     test_loss_epoch       0.010429680347442627\n",
      "      test_ms_ssim          0.8569989204406738\n",
      "        test_ssim            0.612804114818573\n",
      "────────────────────────────────────────────────────────────────────────────────────────────────────────────────────────\n",
      "Found pretrained model, loading...\n",
      "Freezing:\n",
      "0.weight\n",
      "0.bias\n",
      "1.beta\n",
      "1.gamma\n",
      "2.weight\n",
      "2.bias\n",
      "3.beta\n",
      "3.gamma\n",
      "4.weight\n",
      "4.bias\n",
      "5.beta\n",
      "5.gamma\n",
      "6.weight\n",
      "6.bias\n",
      "0.weight\n",
      "0.bias\n",
      "2.weight\n",
      "2.bias\n",
      "4.weight\n",
      "4.bias\n",
      "Fine-tuning:\n",
      "lora-izing ConvTranspose2d(192, 128, kernel_size=(5, 5), stride=(2, 2), padding=(2, 2), output_padding=(1, 1))\n",
      "lora-izing ConvTranspose2d(128, 128, kernel_size=(5, 5), stride=(2, 2), padding=(2, 2), output_padding=(1, 1))\n",
      "lora-izing ConvTranspose2d(128, 128, kernel_size=(5, 5), stride=(2, 2), padding=(2, 2), output_padding=(1, 1))\n",
      "lora-izing ConvTranspose2d(128, 3, kernel_size=(5, 5), stride=(2, 2), padding=(2, 2), output_padding=(1, 1))\n",
      "lora-izing ConvTranspose2d(128, 128, kernel_size=(5, 5), stride=(2, 2), padding=(2, 2), output_padding=(1, 1))\n",
      "lora-izing ConvTranspose2d(128, 128, kernel_size=(5, 5), stride=(2, 2), padding=(2, 2), output_padding=(1, 1))\n",
      "lora-izing Conv2d(128, 192, kernel_size=(3, 3), stride=(1, 1), padding=(1, 1))\n"
     ]
    },
    {
     "name": "stderr",
     "output_type": "stream",
     "text": [
      "GPU available: True (cuda), used: True\n",
      "TPU available: False, using: 0 TPU cores\n",
      "HPU available: False, using: 0 HPUs\n",
      "LOCAL_RANK: 0 - CUDA_VISIBLE_DEVICES: [0]\n",
      "\n",
      "  | Name  | Type            | Params | Mode  | In sizes         | Out sizes\n",
      "---------------------------------------------------------------------------------\n",
      "0 | model | ScaleHyperprior | 5.2 M  | train | [2, 3, 320, 192] | ?        \n",
      "---------------------------------------------------------------------------------\n",
      "2.7 M     Trainable params\n",
      "2.5 M     Non-trainable params\n",
      "5.2 M     Total params\n",
      "20.939    Total estimated model params size (MB)\n",
      "69        Modules in train mode\n",
      "0         Modules in eval mode\n"
     ]
    },
    {
     "name": "stdout",
     "output_type": "stream",
     "text": [
      "Epoch 0: 100%|██████████| 1/1 [00:02<00:00,  0.35it/s, v_num=7, train_loss_step=0.000489, val_loss_step=0.00631, val_loss_epoch=0.00631, train_loss_epoch=0.000489]"
     ]
    },
    {
     "name": "stderr",
     "output_type": "stream",
     "text": [
      "`Trainer.fit` stopped: `max_epochs=1` reached.\n"
     ]
    },
    {
     "name": "stdout",
     "output_type": "stream",
     "text": [
      "Epoch 0: 100%|██████████| 1/1 [00:03<00:00,  0.33it/s, v_num=7, train_loss_step=0.000489, val_loss_step=0.00631, val_loss_epoch=0.00631, train_loss_epoch=0.000489]\n"
     ]
    },
    {
     "name": "stderr",
     "output_type": "stream",
     "text": [
      "LOCAL_RANK: 0 - CUDA_VISIBLE_DEVICES: [0]\n"
     ]
    },
    {
     "name": "stdout",
     "output_type": "stream",
     "text": [
      "Testing DataLoader 0: 100%|██████████| 1/1 [00:00<00:00, 16.98it/s]\n",
      "────────────────────────────────────────────────────────────────────────────────────────────────────────────────────────\n",
      "       Test metric             DataLoader 0\n",
      "────────────────────────────────────────────────────────────────────────────────────────────────────────────────────────\n",
      "     test_loss_epoch       0.006307336501777172\n",
      "      test_ms_ssim          0.8912403583526611\n",
      "        test_ssim           0.7224273085594177\n",
      "────────────────────────────────────────────────────────────────────────────────────────────────────────────────────────\n"
     ]
    },
    {
     "name": "stderr",
     "output_type": "stream",
     "text": [
      "GPU available: True (cuda), used: True\n",
      "TPU available: False, using: 0 TPU cores\n",
      "HPU available: False, using: 0 HPUs\n"
     ]
    },
    {
     "name": "stdout",
     "output_type": "stream",
     "text": [
      "Found pretrained model, loading...\n",
      "Freezing:\n",
      "0.weight\n",
      "0.bias\n",
      "1.beta\n",
      "1.gamma\n",
      "2.weight\n",
      "2.bias\n",
      "3.beta\n",
      "3.gamma\n",
      "4.weight\n",
      "4.bias\n",
      "5.beta\n",
      "5.gamma\n",
      "6.weight\n",
      "6.bias\n",
      "0.weight\n",
      "0.bias\n",
      "2.weight\n",
      "2.bias\n",
      "4.weight\n",
      "4.bias\n",
      "Fine-tuning:\n",
      "lora-izing ConvTranspose2d(192, 128, kernel_size=(5, 5), stride=(2, 2), padding=(2, 2), output_padding=(1, 1))\n",
      "lora-izing ConvTranspose2d(128, 128, kernel_size=(5, 5), stride=(2, 2), padding=(2, 2), output_padding=(1, 1))\n",
      "lora-izing ConvTranspose2d(128, 128, kernel_size=(5, 5), stride=(2, 2), padding=(2, 2), output_padding=(1, 1))\n",
      "lora-izing ConvTranspose2d(128, 3, kernel_size=(5, 5), stride=(2, 2), padding=(2, 2), output_padding=(1, 1))\n",
      "lora-izing ConvTranspose2d(128, 128, kernel_size=(5, 5), stride=(2, 2), padding=(2, 2), output_padding=(1, 1))\n",
      "lora-izing ConvTranspose2d(128, 128, kernel_size=(5, 5), stride=(2, 2), padding=(2, 2), output_padding=(1, 1))\n",
      "lora-izing Conv2d(128, 192, kernel_size=(3, 3), stride=(1, 1), padding=(1, 1))\n"
     ]
    },
    {
     "name": "stderr",
     "output_type": "stream",
     "text": [
      "LOCAL_RANK: 0 - CUDA_VISIBLE_DEVICES: [0]\n",
      "\n",
      "  | Name  | Type            | Params | Mode  | In sizes         | Out sizes\n",
      "---------------------------------------------------------------------------------\n",
      "0 | model | ScaleHyperprior | 5.2 M  | train | [2, 3, 320, 192] | ?        \n",
      "---------------------------------------------------------------------------------\n",
      "2.7 M     Trainable params\n",
      "2.5 M     Non-trainable params\n",
      "5.2 M     Total params\n",
      "20.939    Total estimated model params size (MB)\n",
      "69        Modules in train mode\n",
      "0         Modules in eval mode\n"
     ]
    },
    {
     "name": "stdout",
     "output_type": "stream",
     "text": [
      "Epoch 0: 100%|██████████| 20/20 [00:27<00:00,  0.73it/s, v_num=7, train_loss_step=0.0025, val_loss_step=0.00249, val_loss_epoch=0.00247, train_loss_epoch=0.00684]"
     ]
    },
    {
     "name": "stderr",
     "output_type": "stream",
     "text": [
      "`Trainer.fit` stopped: `max_epochs=1` reached.\n"
     ]
    },
    {
     "name": "stdout",
     "output_type": "stream",
     "text": [
      "Epoch 0: 100%|██████████| 20/20 [00:27<00:00,  0.73it/s, v_num=7, train_loss_step=0.0025, val_loss_step=0.00249, val_loss_epoch=0.00247, train_loss_epoch=0.00684]\n"
     ]
    },
    {
     "name": "stderr",
     "output_type": "stream",
     "text": [
      "LOCAL_RANK: 0 - CUDA_VISIBLE_DEVICES: [0]\n"
     ]
    },
    {
     "name": "stdout",
     "output_type": "stream",
     "text": [
      "Testing DataLoader 0: 100%|██████████| 20/20 [00:04<00:00,  4.75it/s]\n",
      "────────────────────────────────────────────────────────────────────────────────────────────────────────────────────────\n",
      "       Test metric             DataLoader 0\n",
      "────────────────────────────────────────────────────────────────────────────────────────────────────────────────────────\n",
      "     test_loss_epoch       0.002466147765517235\n",
      "      test_ms_ssim          0.9142006635665894\n",
      "        test_ssim           0.7360098958015442\n",
      "────────────────────────────────────────────────────────────────────────────────────────────────────────────────────────\n",
      "Found pretrained model, loading...\n",
      "Freezing:\n",
      "0.weight\n",
      "0.bias\n",
      "1.beta\n",
      "1.gamma\n",
      "2.weight\n",
      "2.bias\n",
      "3.beta\n",
      "3.gamma\n",
      "4.weight\n",
      "4.bias\n",
      "5.beta\n",
      "5.gamma\n",
      "6.weight\n",
      "6.bias\n",
      "0.weight\n",
      "0.bias\n",
      "2.weight\n",
      "2.bias\n",
      "4.weight\n",
      "4.bias\n",
      "Fine-tuning:\n",
      "lora-izing ConvTranspose2d(192, 128, kernel_size=(5, 5), stride=(2, 2), padding=(2, 2), output_padding=(1, 1))\n",
      "lora-izing ConvTranspose2d(128, 128, kernel_size=(5, 5), stride=(2, 2), padding=(2, 2), output_padding=(1, 1))\n",
      "lora-izing ConvTranspose2d(128, 128, kernel_size=(5, 5), stride=(2, 2), padding=(2, 2), output_padding=(1, 1))\n",
      "lora-izing ConvTranspose2d(128, 3, kernel_size=(5, 5), stride=(2, 2), padding=(2, 2), output_padding=(1, 1))\n",
      "lora-izing ConvTranspose2d(128, 128, kernel_size=(5, 5), stride=(2, 2), padding=(2, 2), output_padding=(1, 1))\n",
      "lora-izing ConvTranspose2d(128, 128, kernel_size=(5, 5), stride=(2, 2), padding=(2, 2), output_padding=(1, 1))\n",
      "lora-izing Conv2d(128, 192, kernel_size=(3, 3), stride=(1, 1), padding=(1, 1))\n"
     ]
    },
    {
     "name": "stderr",
     "output_type": "stream",
     "text": [
      "GPU available: True (cuda), used: True\n",
      "TPU available: False, using: 0 TPU cores\n",
      "HPU available: False, using: 0 HPUs\n",
      "LOCAL_RANK: 0 - CUDA_VISIBLE_DEVICES: [0]\n",
      "\n",
      "  | Name  | Type            | Params | Mode  | In sizes         | Out sizes\n",
      "---------------------------------------------------------------------------------\n",
      "0 | model | ScaleHyperprior | 5.2 M  | train | [2, 3, 320, 192] | ?        \n",
      "---------------------------------------------------------------------------------\n",
      "2.7 M     Trainable params\n",
      "2.5 M     Non-trainable params\n",
      "5.2 M     Total params\n",
      "20.939    Total estimated model params size (MB)\n",
      "69        Modules in train mode\n",
      "0         Modules in eval mode\n"
     ]
    },
    {
     "name": "stdout",
     "output_type": "stream",
     "text": [
      "Epoch 0: 100%|██████████| 17/17 [00:22<00:00,  0.76it/s, v_num=7, train_loss_step=0.00195, val_loss_step=0.0018, val_loss_epoch=0.00208, train_loss_epoch=0.00422]"
     ]
    },
    {
     "name": "stderr",
     "output_type": "stream",
     "text": [
      "`Trainer.fit` stopped: `max_epochs=1` reached.\n"
     ]
    },
    {
     "name": "stdout",
     "output_type": "stream",
     "text": [
      "Epoch 0: 100%|██████████| 17/17 [00:22<00:00,  0.75it/s, v_num=7, train_loss_step=0.00195, val_loss_step=0.0018, val_loss_epoch=0.00208, train_loss_epoch=0.00422]\n"
     ]
    },
    {
     "name": "stderr",
     "output_type": "stream",
     "text": [
      "LOCAL_RANK: 0 - CUDA_VISIBLE_DEVICES: [0]\n"
     ]
    },
    {
     "name": "stdout",
     "output_type": "stream",
     "text": [
      "Testing DataLoader 0: 100%|██████████| 17/17 [00:04<00:00,  3.56it/s]\n",
      "────────────────────────────────────────────────────────────────────────────────────────────────────────────────────────\n",
      "       Test metric             DataLoader 0\n",
      "────────────────────────────────────────────────────────────────────────────────────────────────────────────────────────\n",
      "     test_loss_epoch       0.0020837984047830105\n",
      "      test_ms_ssim          0.9628349542617798\n",
      "        test_ssim           0.8363137245178223\n",
      "────────────────────────────────────────────────────────────────────────────────────────────────────────────────────────\n",
      "Found pretrained model, loading...\n",
      "Freezing:\n",
      "0.weight\n",
      "0.bias\n",
      "1.beta\n",
      "1.gamma\n",
      "2.weight\n",
      "2.bias\n",
      "3.beta\n",
      "3.gamma\n",
      "4.weight\n",
      "4.bias\n",
      "5.beta\n",
      "5.gamma\n",
      "6.weight\n",
      "6.bias\n",
      "0.weight\n",
      "0.bias\n",
      "2.weight\n",
      "2.bias\n",
      "4.weight\n",
      "4.bias\n",
      "Fine-tuning:\n",
      "lora-izing ConvTranspose2d(192, 128, kernel_size=(5, 5), stride=(2, 2), padding=(2, 2), output_padding=(1, 1))\n",
      "lora-izing ConvTranspose2d(128, 128, kernel_size=(5, 5), stride=(2, 2), padding=(2, 2), output_padding=(1, 1))\n",
      "lora-izing ConvTranspose2d(128, 128, kernel_size=(5, 5), stride=(2, 2), padding=(2, 2), output_padding=(1, 1))\n",
      "lora-izing ConvTranspose2d(128, 3, kernel_size=(5, 5), stride=(2, 2), padding=(2, 2), output_padding=(1, 1))\n",
      "lora-izing ConvTranspose2d(128, 128, kernel_size=(5, 5), stride=(2, 2), padding=(2, 2), output_padding=(1, 1))\n",
      "lora-izing ConvTranspose2d(128, 128, kernel_size=(5, 5), stride=(2, 2), padding=(2, 2), output_padding=(1, 1))\n",
      "lora-izing Conv2d(128, 192, kernel_size=(3, 3), stride=(1, 1), padding=(1, 1))\n"
     ]
    },
    {
     "name": "stderr",
     "output_type": "stream",
     "text": [
      "GPU available: True (cuda), used: True\n",
      "TPU available: False, using: 0 TPU cores\n",
      "HPU available: False, using: 0 HPUs\n",
      "LOCAL_RANK: 0 - CUDA_VISIBLE_DEVICES: [0]\n",
      "\n",
      "  | Name  | Type            | Params | Mode  | In sizes         | Out sizes\n",
      "---------------------------------------------------------------------------------\n",
      "0 | model | ScaleHyperprior | 5.2 M  | train | [2, 3, 320, 192] | ?        \n",
      "---------------------------------------------------------------------------------\n",
      "2.7 M     Trainable params\n",
      "2.5 M     Non-trainable params\n",
      "5.2 M     Total params\n",
      "20.939    Total estimated model params size (MB)\n",
      "69        Modules in train mode\n",
      "0         Modules in eval mode\n"
     ]
    },
    {
     "name": "stdout",
     "output_type": "stream",
     "text": [
      "Epoch 0: 100%|██████████| 1/1 [00:04<00:00,  0.22it/s, v_num=7, train_loss_step=0.000526, val_loss_step=0.0159, val_loss_epoch=0.0159, train_loss_epoch=0.000526]"
     ]
    },
    {
     "name": "stderr",
     "output_type": "stream",
     "text": [
      "`Trainer.fit` stopped: `max_epochs=1` reached.\n"
     ]
    },
    {
     "name": "stdout",
     "output_type": "stream",
     "text": [
      "Epoch 0: 100%|██████████| 1/1 [00:04<00:00,  0.21it/s, v_num=7, train_loss_step=0.000526, val_loss_step=0.0159, val_loss_epoch=0.0159, train_loss_epoch=0.000526]\n"
     ]
    },
    {
     "name": "stderr",
     "output_type": "stream",
     "text": [
      "LOCAL_RANK: 0 - CUDA_VISIBLE_DEVICES: [0]\n"
     ]
    },
    {
     "name": "stdout",
     "output_type": "stream",
     "text": [
      "Testing DataLoader 0: 100%|██████████| 1/1 [00:00<00:00, 16.98it/s]\n",
      "────────────────────────────────────────────────────────────────────────────────────────────────────────────────────────\n",
      "       Test metric             DataLoader 0\n",
      "────────────────────────────────────────────────────────────────────────────────────────────────────────────────────────\n",
      "     test_loss_epoch       0.015924949198961258\n",
      "      test_ms_ssim          0.8602345585823059\n",
      "        test_ssim           0.6987414956092834\n",
      "────────────────────────────────────────────────────────────────────────────────────────────────────────────────────────\n"
     ]
    }
   ],
   "source": [
    "our_test_set_ids = [292, 181, 430, 20, 4]\n",
    "latent_dim = 256\n",
    "\n",
    "results = []\n",
    "\n",
    "for lora_precision in [0, 4, 8, 32]:\n",
    "    finetune = lora_precision is not None\n",
    "\n",
    "    for loc_id in our_test_set_ids:\n",
    "        test_set = IWildCamDataset(Path(DATASET_ROOT), split=\"test\")\n",
    "        if DO_CACHING:\n",
    "            test_set.cache_on_device_(device)\n",
    "            test_set._cache = test_set._cache[[idx for idx, i in enumerate(test_set.data['images']) if i['location'] == loc_id]]\n",
    "        test_set.data['images'] = [i for i in test_set.data['images'] if i['location'] == loc_id]\n",
    "        test_loader = torch.utils.data.DataLoader(test_set, batch_size=256, shuffle=False, drop_last=False, num_workers=16 if not DO_CACHING else 0)\n",
    "\n",
    "        model = get_lora_model(latent_dim, lora_precision, finetune=finetune)\n",
    "        # print(model)\n",
    "        # for n, p in model.named_parameters():\n",
    "        #     print(f\"{n}: {p.requires_grad}\")\n",
    "        \n",
    "        # Freeze decoder if specified\n",
    "        # TODO remove this once lora-ize decoder works\n",
    "        # freeze_decoder = True\n",
    "        # if freeze_decoder:\n",
    "        # for param in model.decoder.parameters():\n",
    "        #     param.requires_grad = False\n",
    "        # print(f\"Decoder frozen for location {loc_id}\")\n",
    "\n",
    "        trainer = pl.Trainer(\n",
    "            default_root_dir=os.path.join(CHECKPOINT_PATH, f\"iwildcam_loc_{loc_id}\"),\n",
    "            accelerator=\"gpu\" if str(device).startswith(\"cuda\") else \"cpu\",\n",
    "            precision=PRECISION,\n",
    "            devices=1,\n",
    "            max_epochs=1,\n",
    "            callbacks=[\n",
    "                ModelCheckpoint(save_weights_only=True),\n",
    "                LearningRateMonitor(\"epoch\")\n",
    "            ]\n",
    "        )\n",
    "\n",
    "        # Train the model\n",
    "        # Overfit to the test set\n",
    "        if finetune:\n",
    "            trainer.fit(model, test_loader, test_loader)\n",
    "            save_path = os.path.join(CHECKPOINT_PATH, f\"iwildcam_latent_dim={latent_dim}_lora_loc={loc_id}.ckpt\")\n",
    "            trainer.save_checkpoint(save_path)\n",
    "\n",
    "        test_metrics = trainer.test(model=model, dataloaders=test_loader)[0]\n",
    "\n",
    "        # test_reconstruction_error = test_results[0]['test_loss']\n",
    "        # test_reconstruction_error /= len(test_loader) # TODO: I think what we get from test() is a sum over batches? Timm: docs say default aggregation is torch.mean\n",
    "\n",
    "        param_bpp, latent_bpp = compute_bits_per_pixel(model, latent_dim, lora_precision, WIDTH, HEIGHT)\n",
    "\n",
    "        # Store results\n",
    "        results.append(dict(\n",
    "            finetuned=finetune,\n",
    "            lora_precision=lora_precision,\n",
    "            param_bpp=param_bpp,\n",
    "            latent_bpp=latent_bpp,\n",
    "            loc_id=loc_id,\n",
    "            n_images=len(test_set.data['images']),\n",
    "            **test_metrics,\n",
    "        ))\n",
    "\n",
    "        # release memory\n",
    "        del test_set\n",
    "        del model\n",
    "        del trainer\n",
    "        torch.cuda.empty_cache()\n",
    "\n",
    "    # # Step 6: Visualize the results\n",
    "    # # Bar chart of reconstruction error by location\n",
    "    # locations, num_images, errors = zip(*results)\n",
    "\n",
    "    # # Bar chart\n",
    "    # plt.figure(figsize=(10, 6))\n",
    "    # plt.bar(locations, errors, color='skyblue', edgecolor='black')\n",
    "    # plt.xlabel(\"Location ID\", fontsize=12)\n",
    "    # plt.ylabel(\"Reconstruction Error\", fontsize=12)\n",
    "    # plt.title(\"Reconstruction Error by Location\", fontsize=14)\n",
    "    # plt.grid(True)\n",
    "    # plt.show()\n",
    "\n",
    "    # # Scatter plot of number of images vs. reconstruction error\n",
    "    # plt.figure(figsize=(10, 6))\n",
    "    # plt.scatter(num_images, errors, color='red', edgecolor='black', s=100)\n",
    "    # plt.xlabel(\"Number of Images\", fontsize=12)\n",
    "    # plt.ylabel(\"Reconstruction Error\", fontsize=12)\n",
    "    # plt.title(\"Number of Images vs. Reconstruction Error\", fontsize=14)\n",
    "    # plt.grid(True)\n",
    "    # plt.show()"
   ]
  },
  {
   "cell_type": "code",
   "execution_count": 15,
   "metadata": {},
   "outputs": [
    {
     "name": "stderr",
     "output_type": "stream",
     "text": [
      "  0%|          | 0/1 [00:00<?, ?it/s]/data/vision/beery/scratch/timm/micromamba/envs/aecompression/lib/python3.12/site-packages/torchvision/transforms/v2/_deprecated.py:42: UserWarning: The transform `ToTensor()` is deprecated and will be removed in a future release. Instead, please use `v2.Compose([v2.ToImage(), v2.ToDtype(torch.float32, scale=True)])`.Output is equivalent up to float precision.\n",
      "  warnings.warn(\n",
      "100%|██████████| 1/1 [04:43<00:00, 283.35s/it]\n",
      "100%|██████████| 1/1 [02:04<00:00, 124.38s/it]\n",
      "100%|██████████| 1/1 [00:12<00:00, 12.11s/it]\n",
      "100%|██████████| 1/1 [00:11<00:00, 11.95s/it]\n",
      "100%|██████████| 1/1 [00:13<00:00, 13.33s/it]\n"
     ]
    }
   ],
   "source": [
    "jpeg_results = []\n",
    "jpeg_sample_size = 100  # TODO: increase\n",
    "\n",
    "for loc_id in our_test_set_ids:\n",
    "    test_set = IWildCamDataset(Path(DATASET_ROOT), split=\"test\")\n",
    "    test_set.data['images'] = [i for i in test_set.data['images'] if i['location'] == loc_id]\n",
    "    test_set.data['images'] = np.random.default_rng(seed=42).choice(test_set.data['images'], jpeg_sample_size)\n",
    "    test_loader = torch.utils.data.DataLoader(test_set, batch_size=256, shuffle=False, drop_last=False, num_workers=16 if not DO_CACHING else 0)\n",
    "\n",
    "    for batch in tqdm(test_loader):\n",
    "        for el in batch:\n",
    "            pil_img = Image.fromarray((el.cpu().numpy().transpose(1, 2, 0) * 255).astype(np.uint8))\n",
    "\n",
    "            for quality in np.linspace(start=0, stop=100, num=6):\n",
    "\n",
    "                img_byte_arr = io.BytesIO()\n",
    "                pil_img.save(img_byte_arr, format='JPEG', quality=int(quality.item()))\n",
    "\n",
    "                el_bpp = (len(img_byte_arr.getvalue()) * 8) / (el.shape[1] * el.shape[1])\n",
    "\n",
    "                pil_img = Image.open(img_byte_arr, mode='r')\n",
    "\n",
    "                el_reconstructed = transforms_v2.ToTensor()(transforms_v2.ToDtype(torch.float32, scale=True)(pil_img))\n",
    "\n",
    "                el_ssim = ssim(el[None, ...], el_reconstructed[None, ...], 1)\n",
    "                try:\n",
    "                    el_ms_ssim = ms_ssim(el[None, ...], el_reconstructed[None, ...], 1)\n",
    "                except:\n",
    "                    el_ms_ssim = -1\n",
    "                jpeg_results.append(dict(quality=quality, bpp=el_bpp, ssim=el_ssim, ms_ssim=el_ms_ssim))\n",
    "\n",
    "pd.DataFrame(jpeg_results).to_csv(\"cache/jpeg_results.csv\")"
   ]
  },
  {
   "cell_type": "code",
   "execution_count": 16,
   "metadata": {},
   "outputs": [
    {
     "data": {
      "image/png": "[encoded data removed]",
      "text/plain": [
       "<Figure size 1000x600 with 1 Axes>"
      ]
     },
     "metadata": {},
     "output_type": "display_data"
    },
    {
     "data": {
      "image/png": "[encoded data removed]",
      "text/plain": [
       "<Figure size 1000x600 with 1 Axes>"
      ]
     },
     "metadata": {},
     "output_type": "display_data"
    },
    {
     "data": {
      "image/png": "[encoded data removed]",
      "text/plain": [
       "<Figure size 1000x600 with 1 Axes>"
      ]
     },
     "metadata": {},
     "output_type": "display_data"
    },
    {
     "data": {
      "image/png": "[encoded data removed]",
      "text/plain": [
       "<Figure size 1000x600 with 1 Axes>"
      ]
     },
     "metadata": {},
     "output_type": "display_data"
    },
    {
     "data": {
      "image/png": "[encoded data removed]",
      "text/plain": [
       "<Figure size 1000x600 with 1 Axes>"
      ]
     },
     "metadata": {},
     "output_type": "display_data"
    }
   ],
   "source": [
    "# Step 6: Visualize the results\n",
    "# Bar chart of reconstruction error by location\n",
    "\n",
    "lora_precision_labels = dict({ 32: \"float32\", 8: \"int8\", 4: \"int4\", 0: \"No finetuning\" })\n",
    "\n",
    "results_df = pd.DataFrame(results)\n",
    "results_df[\"lora_precision\"] = results_df[\"lora_precision\"].fillna(-1)\n",
    "\n",
    "jpeg_df = pd.DataFrame(jpeg_results)\n",
    "\n",
    "# has_mssim = np.isfinite(results_df[\"test_ms_ssim\"]).any() and np.isfinite(jpeg_df[\"ms_ssim\"]).any()\n",
    "has_mssim = True\n",
    "\n",
    "# Bar chart\n",
    "plt.figure(figsize=(10, 6))\n",
    "for lora_precision in results_df[\"lora_precision\"].unique():\n",
    "    plt.bar(results_df[results_df[\"lora_precision\"] == lora_precision][\"loc_id\"], results_df[results_df[\"lora_precision\"] == lora_precision][\"test_ms_ssim\" if has_mssim else \"test_ssim\"], edgecolor='black', label=lora_precision_labels[lora_precision])\n",
    "plt.xlabel(\"Location ID\", fontsize=12)\n",
    "plt.ylabel(\"MS-SSIM\" if has_mssim else \"SSIM\", fontsize=12)\n",
    "plt.title(\"Reconstruction Quality by Location\", fontsize=14)\n",
    "plt.grid(True)\n",
    "plt.legend()\n",
    "plt.show()\n",
    "\n",
    "# Scatter plot of number of images vs. reconstruction error\n",
    "plt.figure(figsize=(10, 6))\n",
    "for lora_precision in results_df[\"lora_precision\"].unique():\n",
    "    plt.scatter(results_df[results_df[\"lora_precision\"] == lora_precision][\"n_images\"], results_df[results_df[\"lora_precision\"] == lora_precision][\"test_ms_ssim\" if has_mssim else \"test_ssim\"], edgecolor='black', s=100, label=lora_precision_labels[lora_precision])\n",
    "plt.xlabel(\"Number of Images\", fontsize=12)\n",
    "plt.ylabel(\"MS-SSIM\" if has_mssim else \"SSIM\", fontsize=12)\n",
    "plt.title(\"Number of Images vs. Reconstruction Quality\", fontsize=14)\n",
    "plt.grid(True)\n",
    "plt.legend()\n",
    "plt.show()\n",
    "\n",
    "# Latent Bits per pixel\n",
    "plt.figure(figsize=(10, 6))\n",
    "for lora_precision in results_df[\"lora_precision\"].unique():\n",
    "    plt.scatter(results_df[results_df[\"lora_precision\"] == lora_precision][\"latent_bpp\"].mean(), results_df[results_df[\"lora_precision\"] == lora_precision][\"test_ms_ssim\" if has_mssim else \"test_ssim\"].mean(), edgecolor='black', s=100, label=f\"Ours ({lora_precision_labels[lora_precision]})\")\n",
    "jpeg_df_agg = jpeg_df.groupby(\"quality\").mean()\n",
    "plt.plot(jpeg_df_agg[\"bpp\"], jpeg_df_agg[\"ms_ssim\" if has_mssim else \"ssim\"], label=\"JPEG\")\n",
    "plt.xlabel(\"Bits per pixel (latent)\", fontsize=12)\n",
    "plt.ylabel(\"MS-SSIM\" if has_mssim else \"SSIM\", fontsize=12)\n",
    "plt.title(\"Latent Bits per pixel vs. Reconstruction Quality\", fontsize=14)\n",
    "plt.grid(True)\n",
    "plt.legend()\n",
    "plt.show()\n",
    "\n",
    "# Param Bits per pixel\n",
    "plt.figure(figsize=(10, 6))\n",
    "for lora_precision in results_df[\"lora_precision\"].unique():\n",
    "    plt.scatter((results_df[results_df[\"lora_precision\"] == lora_precision][\"param_bpp\"] / results_df[results_df[\"lora_precision\"] == lora_precision][\"n_images\"]).mean(), results_df[results_df[\"lora_precision\"] == lora_precision][\"test_ms_ssim\" if has_mssim else \"test_ssim\"].mean(), edgecolor='black', s=100, label=f\"Ours ({lora_precision_labels[lora_precision]})\")\n",
    "plt.plot(0 * jpeg_df_agg[\"bpp\"], jpeg_df_agg[\"ms_ssim\" if has_mssim else \"ssim\"], label=\"JPEG\")\n",
    "plt.xlabel(\"Bits per pixel (parameter, amortized over all images)\", fontsize=12)\n",
    "plt.ylabel(\"MS-SSIM\" if has_mssim else \"SSIM\", fontsize=12)\n",
    "plt.title(\"Parameter Bits per pixel vs. Reconstruction Quality\", fontsize=14)\n",
    "plt.grid(True)\n",
    "plt.legend()\n",
    "plt.show()\n",
    "\n",
    "# Total Bits per pixel\n",
    "plt.figure(figsize=(10, 6))\n",
    "for lora_precision in results_df[\"lora_precision\"].unique():\n",
    "    plt.scatter(results_df[results_df[\"lora_precision\"] == lora_precision][\"latent_bpp\"].mean() + (results_df[results_df[\"lora_precision\"] == lora_precision][\"param_bpp\"] / results_df[results_df[\"lora_precision\"] == lora_precision][\"n_images\"]).mean(), results_df[results_df[\"lora_precision\"] == lora_precision][\"test_ms_ssim\" if has_mssim else \"test_ssim\"].mean(), edgecolor='black', s=100, label=f\"Ours ({lora_precision_labels[lora_precision]})\")\n",
    "plt.plot(jpeg_df_agg[\"bpp\"], jpeg_df_agg[\"ms_ssim\" if has_mssim else \"ssim\"], label=\"JPEG\")\n",
    "plt.xlabel(\"Bits per pixel (latent + parameter, amortized over all images)\", fontsize=12)\n",
    "plt.ylabel(\"MS-SSIM\" if has_mssim else \"SSIM\", fontsize=12)\n",
    "plt.title(\"Total Bits per pixel vs. Reconstruction Quality\", fontsize=14)\n",
    "plt.grid(True)\n",
    "plt.legend()\n",
    "plt.show()"
   ]
  }
 ],
 "metadata": {
  "kernelspec": {
   "display_name": "Python 3",
   "language": "python",
   "name": "python3"
  },
  "language_info": {
   "codemirror_mode": {
    "name": "ipython",
    "version": 3
   },
   "file_extension": ".py",
   "mimetype": "text/x-python",
   "name": "python",
   "nbconvert_exporter": "python",
   "pygments_lexer": "ipython3",
   "version": "3.12.7"
  }
 },
 "nbformat": 4,
 "nbformat_minor": 2
}
