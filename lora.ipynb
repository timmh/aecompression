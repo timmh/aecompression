{
 "cells": [
  {
   "cell_type": "code",
   "execution_count": 71,
   "metadata": {},
   "outputs": [
    {
     "name": "stdout",
     "output_type": "stream",
     "text": [
      "The autoreload extension is already loaded. To reload it, use:\n",
      "  %reload_ext autoreload\n"
     ]
    }
   ],
   "source": [
    "%load_ext autoreload\n",
    "%autoreload 2"
   ]
  },
  {
   "cell_type": "code",
   "execution_count": 72,
   "metadata": {},
   "outputs": [],
   "source": [
    "import torch\n",
    "from pathlib import Path\n",
    "import os\n",
    "import json\n",
    "import matplotlib.pyplot as plt\n",
    "import numpy as np\n",
    "import pandas as pd\n",
    "import glob\n",
    "from collections import defaultdict\n",
    "import io\n",
    "from tqdm.auto import tqdm\n",
    "\n",
    "from PIL import Image\n",
    "import pytorch_lightning as pl\n",
    "from pytorch_lightning.callbacks import LearningRateMonitor, ModelCheckpoint\n",
    "from sklearn.metrics import mean_squared_error\n",
    "from torchvision.transforms import v2 as transforms_v2\n",
    "from pytorch_msssim import ssim, ms_ssim\n",
    "\n",
    "from Iwildcam_Pretrain import Autoencoder, Encoder, Decoder, IWildCamDataset\n",
    "from lora_modules import LoRAConv2d, LoRALinear, LoRAConvTranspose2d"
   ]
  },
  {
   "cell_type": "code",
   "execution_count": 73,
   "metadata": {},
   "outputs": [
    {
     "name": "stdout",
     "output_type": "stream",
     "text": [
      "Device: cuda:0\n"
     ]
    }
   ],
   "source": [
    "device = torch.device(\"cuda:0\") if torch.cuda.is_available() else torch.device(\"cpu\")\n",
    "print(\"Device:\", device)\n",
    "\n",
    "CHECKPOINT_PATH = \"best_checkpoints_vanilla/\"\n",
    "HEIGHT = 96\n",
    "WIDTH = 160\n",
    "PRECISION = 32\n",
    "DO_CACHING = False\n",
    "# DATASET_ROOT = \"/data/vision/beery/scratch/data/iwildcam_unzipped\"\n",
    "DATASET_ROOT = \"/tmp/iwildcam_unzipped\""
   ]
  },
  {
   "cell_type": "code",
   "execution_count": 74,
   "metadata": {},
   "outputs": [],
   "source": [
    "def get_lora_model(\n",
    "        latent_dim,\n",
    "        lora_precision=None,\n",
    "        loraize_encoder = False,  # no reason really to do this unless we want to reduce memory footprint\n",
    "        loraize_decoder = True,\n",
    "        finetune = True,\n",
    "):\n",
    "    if finetune and lora_precision == 32:\n",
    "        lora_precision = None\n",
    "\n",
    "    lora_config = {\n",
    "        torch.nn.Conv2d: {\n",
    "            'cls': LoRAConv2d,\n",
    "            'config': {\n",
    "                'alpha': 8,\n",
    "                'rank': 4,\n",
    "                'rank_for': 'channels',\n",
    "                'delta_bias': False, # True # TODO what does this do\n",
    "                'precision': lora_precision,\n",
    "            }\n",
    "        },\n",
    "        torch.nn.Linear: {\n",
    "            'cls': LoRALinear,\n",
    "            'config': {\n",
    "                'rank': 4,\n",
    "                'alpha': 2,\n",
    "                'delta_bias':  False, # True # TODO what does this do\n",
    "                'precision': lora_precision,\n",
    "            }\n",
    "        },\n",
    "        torch.nn.ConvTranspose2d: {\n",
    "            'cls': LoRAConvTranspose2d,\n",
    "            'config': {\n",
    "                'alpha': 8,\n",
    "                'rank': 4,\n",
    "                'rank_for': 'channels',\n",
    "                'delta_bias': False, # True # TODO what does this do\n",
    "                'precision': lora_precision,\n",
    "            }\n",
    "        }\n",
    "    }\n",
    "\n",
    "    # load two copies so we can lora-ize one\n",
    "    pretrained_filename = sorted(glob.glob(os.path.join(CHECKPOINT_PATH, f\"{latent_dim}-*.ckpt\")))[0]\n",
    "    if os.path.isfile(pretrained_filename):\n",
    "        print(f\"Found pretrained model for latent dim {latent_dim}, loading...\")\n",
    "        _model = Autoencoder.load_from_checkpoint(pretrained_filename)\n",
    "        model = Autoencoder.load_from_checkpoint(pretrained_filename)\n",
    "    else:\n",
    "        raise Exception\n",
    "    \n",
    "    if not finetune:\n",
    "        return model\n",
    "\n",
    "    if loraize_encoder:\n",
    "        for i, module in enumerate(_model.encoder.net.children()): \n",
    "            if type(module) in lora_config.keys():\n",
    "                lora_cls = lora_config[type(module)]['cls']\n",
    "                lora_params = lora_config[type(module)]['config']\n",
    "                model.encoder.net[i] = lora_cls(module, lora_params) # automatically freezes old parameters\n",
    "                model.encoder.net[i].enable_adapter()                # but we need to turn on the adapter path\n",
    "            else:\n",
    "                # freeze all other parameters\n",
    "                for p in module.parameters():\n",
    "                    p.requires_grad_(False)\n",
    "\n",
    "    if loraize_decoder:\n",
    "        for i, module in enumerate(_model.decoder.linear.children()): \n",
    "            if type(module) in lora_config.keys():\n",
    "                lora_cls = lora_config[type(module)]['cls']\n",
    "                lora_params = lora_config[type(module)]['config']\n",
    "                model.decoder.linear[i] = lora_cls(module, lora_params) # automatically freezes old parameters\n",
    "                model.decoder.linear[i].enable_adapter()                # but we need to turn on the adapter path\n",
    "\n",
    "        for i, module in enumerate(_model.decoder.net.children()): \n",
    "            if type(module) in lora_config.keys():\n",
    "                lora_cls = lora_config[type(module)]['cls']\n",
    "                lora_params = lora_config[type(module)]['config']\n",
    "                model.decoder.net[i] = lora_cls(module, lora_params) # automatically freezes old parameters\n",
    "                model.decoder.net[i].enable_adapter()                # but we need to turn on the adapter path\n",
    "            else:\n",
    "                # freeze all other parameters\n",
    "                for p in module.parameters():\n",
    "                    p.requires_grad_(False)\n",
    "\n",
    "    del _model # get rid of the clone\n",
    "    return model"
   ]
  },
  {
   "cell_type": "code",
   "execution_count": 75,
   "metadata": {},
   "outputs": [],
   "source": [
    "def compute_bits_per_pixel(model, latent_dim, lora_precision, width, height):\n",
    "    param_size = 0\n",
    "    for name, param in model.named_parameters():\n",
    "        if \"delta\" in name:\n",
    "            param_size += param.nelement() * (lora_precision / 8)\n",
    "\n",
    "    # assume we don't have to transmit these if they are fixed -- this would be alpha, rank hyperparams\n",
    "    buffer_size = 0\n",
    "\n",
    "    latent_size = latent_dim * 4  # TODO: this is for full precision models, handle quantized models as well\n",
    "\n",
    "\n",
    "    param_bpp = 8 * (param_size + buffer_size) / (width * height)\n",
    "    latent_bpp = 8 * latent_size / (width * height)\n",
    "\n",
    "    return param_bpp, latent_bpp"
   ]
  },
  {
   "cell_type": "code",
   "execution_count": 76,
   "metadata": {},
   "outputs": [
    {
     "name": "stdout",
     "output_type": "stream",
     "text": [
      "Found pretrained model for latent dim 256, loading...\n"
     ]
    },
    {
     "name": "stderr",
     "output_type": "stream",
     "text": [
      "/data/vision/beery/scratch/timm/micromamba/envs/aecompression/lib/python3.12/site-packages/lightning_fabric/plugins/environments/slurm.py:204: The `srun` command is available on your system but is not used. HINT: If your intention is to run Lightning on SLURM, prepend your python command with `srun` like so: srun python /data/vision/beery/scratch/timm/micromamba/envs/aeco ...\n",
      "GPU available: True (cuda), used: True\n",
      "TPU available: False, using: 0 TPU cores\n",
      "HPU available: False, using: 0 HPUs\n",
      "LOCAL_RANK: 0 - CUDA_VISIBLE_DEVICES: [0]\n",
      "\n",
      "  | Name    | Type    | Params | Mode  | In sizes        | Out sizes      \n",
      "--------------------------------------------------------------------------------\n",
      "0 | encoder | Encoder | 4.0 M  | train | [2, 3, 160, 96] | [2, 256]       \n",
      "1 | decoder | Decoder | 4.1 M  | train | [2, 256]        | [2, 3, 96, 160]\n",
      "--------------------------------------------------------------------------------\n",
      "4.1 M     Trainable params\n",
      "4.1 M     Non-trainable params\n",
      "8.2 M     Total params\n",
      "32.700    Total estimated model params size (MB)\n",
      "39        Modules in train mode\n",
      "0         Modules in eval mode\n"
     ]
    },
    {
     "name": "stdout",
     "output_type": "stream",
     "text": [
      "                                                                           \r"
     ]
    },
    {
     "name": "stderr",
     "output_type": "stream",
     "text": [
      "/data/vision/beery/scratch/timm/micromamba/envs/aecompression/lib/python3.12/site-packages/pytorch_lightning/loops/fit_loop.py:298: The number of training batches (3) is smaller than the logging interval Trainer(log_every_n_steps=50). Set a lower value for log_every_n_steps if you want to see logs for the training epoch.\n"
     ]
    },
    {
     "name": "stdout",
     "output_type": "stream",
     "text": [
      "Epoch 0: 100%|██████████| 3/3 [00:09<00:00,  0.30it/s, v_num=28]"
     ]
    },
    {
     "name": "stderr",
     "output_type": "stream",
     "text": [
      "`Trainer.fit` stopped: `max_epochs=1` reached.\n"
     ]
    },
    {
     "name": "stdout",
     "output_type": "stream",
     "text": [
      "Epoch 0: 100%|██████████| 3/3 [00:10<00:00,  0.30it/s, v_num=28]\n"
     ]
    },
    {
     "name": "stderr",
     "output_type": "stream",
     "text": [
      "LOCAL_RANK: 0 - CUDA_VISIBLE_DEVICES: [0]\n"
     ]
    },
    {
     "name": "stdout",
     "output_type": "stream",
     "text": [
      "Testing DataLoader 0: 100%|██████████| 3/3 [00:00<00:00, 40.54it/s]\n",
      "────────────────────────────────────────────────────────────────────────────────────────────────────────────────────────\n",
      "       Test metric             DataLoader 0\n",
      "────────────────────────────────────────────────────────────────────────────────────────────────────────────────────────\n",
      "        test_loss          0.012073636054992676\n",
      "        test_ssim           0.33719751238822937\n",
      "────────────────────────────────────────────────────────────────────────────────────────────────────────────────────────\n",
      "Found pretrained model for latent dim 256, loading...\n"
     ]
    },
    {
     "name": "stderr",
     "output_type": "stream",
     "text": [
      "GPU available: True (cuda), used: True\n",
      "TPU available: False, using: 0 TPU cores\n",
      "HPU available: False, using: 0 HPUs\n",
      "LOCAL_RANK: 0 - CUDA_VISIBLE_DEVICES: [0]\n",
      "\n",
      "  | Name    | Type    | Params | Mode  | In sizes        | Out sizes      \n",
      "--------------------------------------------------------------------------------\n",
      "0 | encoder | Encoder | 4.0 M  | train | [2, 3, 160, 96] | [2, 256]       \n",
      "1 | decoder | Decoder | 4.1 M  | train | [2, 256]        | [2, 3, 96, 160]\n",
      "--------------------------------------------------------------------------------\n",
      "4.1 M     Trainable params\n",
      "4.1 M     Non-trainable params\n",
      "8.2 M     Total params\n",
      "32.700    Total estimated model params size (MB)\n",
      "39        Modules in train mode\n",
      "0         Modules in eval mode\n"
     ]
    },
    {
     "name": "stdout",
     "output_type": "stream",
     "text": [
      "                                                                           \r"
     ]
    },
    {
     "name": "stderr",
     "output_type": "stream",
     "text": [
      "/data/vision/beery/scratch/timm/micromamba/envs/aecompression/lib/python3.12/site-packages/pytorch_lightning/loops/fit_loop.py:298: The number of training batches (1) is smaller than the logging interval Trainer(log_every_n_steps=50). Set a lower value for log_every_n_steps if you want to see logs for the training epoch.\n"
     ]
    },
    {
     "name": "stdout",
     "output_type": "stream",
     "text": [
      "Epoch 0: 100%|██████████| 1/1 [00:02<00:00,  0.35it/s, v_num=22]"
     ]
    },
    {
     "name": "stderr",
     "output_type": "stream",
     "text": [
      "`Trainer.fit` stopped: `max_epochs=1` reached.\n"
     ]
    },
    {
     "name": "stdout",
     "output_type": "stream",
     "text": [
      "Epoch 0: 100%|██████████| 1/1 [00:03<00:00,  0.33it/s, v_num=22]\n"
     ]
    },
    {
     "name": "stderr",
     "output_type": "stream",
     "text": [
      "LOCAL_RANK: 0 - CUDA_VISIBLE_DEVICES: [0]\n"
     ]
    },
    {
     "name": "stdout",
     "output_type": "stream",
     "text": [
      "Testing DataLoader 0: 100%|██████████| 1/1 [00:00<00:00, 64.48it/s] \n",
      "────────────────────────────────────────────────────────────────────────────────────────────────────────────────────────\n",
      "       Test metric             DataLoader 0\n",
      "────────────────────────────────────────────────────────────────────────────────────────────────────────────────────────\n",
      "        test_loss           0.03794088214635849\n",
      "        test_ssim           0.2884368896484375\n",
      "────────────────────────────────────────────────────────────────────────────────────────────────────────────────────────\n",
      "Found pretrained model for latent dim 256, loading...\n"
     ]
    },
    {
     "name": "stderr",
     "output_type": "stream",
     "text": [
      "GPU available: True (cuda), used: True\n",
      "TPU available: False, using: 0 TPU cores\n",
      "HPU available: False, using: 0 HPUs\n",
      "LOCAL_RANK: 0 - CUDA_VISIBLE_DEVICES: [0]\n",
      "\n",
      "  | Name    | Type    | Params | Mode  | In sizes        | Out sizes      \n",
      "--------------------------------------------------------------------------------\n",
      "0 | encoder | Encoder | 4.0 M  | train | [2, 3, 160, 96] | [2, 256]       \n",
      "1 | decoder | Decoder | 4.1 M  | train | [2, 256]        | [2, 3, 96, 160]\n",
      "--------------------------------------------------------------------------------\n",
      "4.1 M     Trainable params\n",
      "4.1 M     Non-trainable params\n",
      "8.2 M     Total params\n",
      "32.700    Total estimated model params size (MB)\n",
      "39        Modules in train mode\n",
      "0         Modules in eval mode\n"
     ]
    },
    {
     "name": "stdout",
     "output_type": "stream",
     "text": [
      "                                                                           \r"
     ]
    },
    {
     "name": "stderr",
     "output_type": "stream",
     "text": [
      "/data/vision/beery/scratch/timm/micromamba/envs/aecompression/lib/python3.12/site-packages/pytorch_lightning/loops/fit_loop.py:298: The number of training batches (20) is smaller than the logging interval Trainer(log_every_n_steps=50). Set a lower value for log_every_n_steps if you want to see logs for the training epoch.\n"
     ]
    },
    {
     "name": "stdout",
     "output_type": "stream",
     "text": [
      "Epoch 0: 100%|██████████| 20/20 [00:18<00:00,  1.05it/s, v_num=21]"
     ]
    },
    {
     "name": "stderr",
     "output_type": "stream",
     "text": [
      "`Trainer.fit` stopped: `max_epochs=1` reached.\n"
     ]
    },
    {
     "name": "stdout",
     "output_type": "stream",
     "text": [
      "Epoch 0: 100%|██████████| 20/20 [00:19<00:00,  1.04it/s, v_num=21]\n"
     ]
    },
    {
     "name": "stderr",
     "output_type": "stream",
     "text": [
      "LOCAL_RANK: 0 - CUDA_VISIBLE_DEVICES: [0]\n"
     ]
    },
    {
     "name": "stdout",
     "output_type": "stream",
     "text": [
      "Testing DataLoader 0: 100%|██████████| 20/20 [00:03<00:00,  6.25it/s]\n",
      "────────────────────────────────────────────────────────────────────────────────────────────────────────────────────────\n",
      "       Test metric             DataLoader 0\n",
      "────────────────────────────────────────────────────────────────────────────────────────────────────────────────────────\n",
      "        test_loss          0.007402451708912849\n",
      "        test_ssim           0.46270373463630676\n",
      "────────────────────────────────────────────────────────────────────────────────────────────────────────────────────────\n",
      "Found pretrained model for latent dim 256, loading...\n"
     ]
    },
    {
     "name": "stderr",
     "output_type": "stream",
     "text": [
      "GPU available: True (cuda), used: True\n",
      "TPU available: False, using: 0 TPU cores\n",
      "HPU available: False, using: 0 HPUs\n",
      "LOCAL_RANK: 0 - CUDA_VISIBLE_DEVICES: [0]\n",
      "\n",
      "  | Name    | Type    | Params | Mode  | In sizes        | Out sizes      \n",
      "--------------------------------------------------------------------------------\n",
      "0 | encoder | Encoder | 4.0 M  | train | [2, 3, 160, 96] | [2, 256]       \n",
      "1 | decoder | Decoder | 4.1 M  | train | [2, 256]        | [2, 3, 96, 160]\n",
      "--------------------------------------------------------------------------------\n",
      "4.1 M     Trainable params\n",
      "4.1 M     Non-trainable params\n",
      "8.2 M     Total params\n",
      "32.700    Total estimated model params size (MB)\n",
      "39        Modules in train mode\n",
      "0         Modules in eval mode\n"
     ]
    },
    {
     "name": "stdout",
     "output_type": "stream",
     "text": [
      "                                                                           \r"
     ]
    },
    {
     "name": "stderr",
     "output_type": "stream",
     "text": [
      "/data/vision/beery/scratch/timm/micromamba/envs/aecompression/lib/python3.12/site-packages/pytorch_lightning/loops/fit_loop.py:298: The number of training batches (17) is smaller than the logging interval Trainer(log_every_n_steps=50). Set a lower value for log_every_n_steps if you want to see logs for the training epoch.\n"
     ]
    },
    {
     "name": "stdout",
     "output_type": "stream",
     "text": [
      "Epoch 0: 100%|██████████| 17/17 [00:13<00:00,  1.24it/s, v_num=14]"
     ]
    },
    {
     "name": "stderr",
     "output_type": "stream",
     "text": [
      "`Trainer.fit` stopped: `max_epochs=1` reached.\n"
     ]
    },
    {
     "name": "stdout",
     "output_type": "stream",
     "text": [
      "Epoch 0: 100%|██████████| 17/17 [00:13<00:00,  1.23it/s, v_num=14]\n"
     ]
    },
    {
     "name": "stderr",
     "output_type": "stream",
     "text": [
      "LOCAL_RANK: 0 - CUDA_VISIBLE_DEVICES: [0]\n"
     ]
    },
    {
     "name": "stdout",
     "output_type": "stream",
     "text": [
      "Testing DataLoader 0: 100%|██████████| 17/17 [00:01<00:00, 10.42it/s]\n",
      "────────────────────────────────────────────────────────────────────────────────────────────────────────────────────────\n",
      "       Test metric             DataLoader 0\n",
      "────────────────────────────────────────────────────────────────────────────────────────────────────────────────────────\n",
      "        test_loss           0.01035437174141407\n",
      "        test_ssim           0.3289777636528015\n",
      "────────────────────────────────────────────────────────────────────────────────────────────────────────────────────────\n",
      "Found pretrained model for latent dim 256, loading...\n"
     ]
    },
    {
     "name": "stderr",
     "output_type": "stream",
     "text": [
      "GPU available: True (cuda), used: True\n",
      "TPU available: False, using: 0 TPU cores\n",
      "HPU available: False, using: 0 HPUs\n",
      "LOCAL_RANK: 0 - CUDA_VISIBLE_DEVICES: [0]\n",
      "\n",
      "  | Name    | Type    | Params | Mode  | In sizes        | Out sizes      \n",
      "--------------------------------------------------------------------------------\n",
      "0 | encoder | Encoder | 4.0 M  | train | [2, 3, 160, 96] | [2, 256]       \n",
      "1 | decoder | Decoder | 4.1 M  | train | [2, 256]        | [2, 3, 96, 160]\n",
      "--------------------------------------------------------------------------------\n",
      "4.1 M     Trainable params\n",
      "4.1 M     Non-trainable params\n",
      "8.2 M     Total params\n",
      "32.700    Total estimated model params size (MB)\n",
      "39        Modules in train mode\n",
      "0         Modules in eval mode\n"
     ]
    },
    {
     "name": "stdout",
     "output_type": "stream",
     "text": [
      "Epoch 0: 100%|██████████| 1/1 [00:04<00:00,  0.21it/s, v_num=14]           "
     ]
    },
    {
     "name": "stderr",
     "output_type": "stream",
     "text": [
      "`Trainer.fit` stopped: `max_epochs=1` reached.\n"
     ]
    },
    {
     "name": "stdout",
     "output_type": "stream",
     "text": [
      "Epoch 0: 100%|██████████| 1/1 [00:04<00:00,  0.20it/s, v_num=14]\n"
     ]
    },
    {
     "name": "stderr",
     "output_type": "stream",
     "text": [
      "LOCAL_RANK: 0 - CUDA_VISIBLE_DEVICES: [0]\n"
     ]
    },
    {
     "name": "stdout",
     "output_type": "stream",
     "text": [
      "Testing DataLoader 0: 100%|██████████| 1/1 [00:00<00:00, 63.61it/s]\n",
      "────────────────────────────────────────────────────────────────────────────────────────────────────────────────────────\n",
      "       Test metric             DataLoader 0\n",
      "────────────────────────────────────────────────────────────────────────────────────────────────────────────────────────\n",
      "        test_loss          0.019494596868753433\n",
      "        test_ssim           0.3644280731678009\n",
      "────────────────────────────────────────────────────────────────────────────────────────────────────────────────────────\n",
      "Found pretrained model for latent dim 256, loading...\n"
     ]
    },
    {
     "name": "stderr",
     "output_type": "stream",
     "text": [
      "GPU available: True (cuda), used: True\n",
      "TPU available: False, using: 0 TPU cores\n",
      "HPU available: False, using: 0 HPUs\n",
      "LOCAL_RANK: 0 - CUDA_VISIBLE_DEVICES: [0]\n",
      "\n",
      "  | Name    | Type    | Params | Mode  | In sizes        | Out sizes      \n",
      "--------------------------------------------------------------------------------\n",
      "0 | encoder | Encoder | 4.0 M  | train | [2, 3, 160, 96] | [2, 256]       \n",
      "1 | decoder | Decoder | 4.1 M  | train | [2, 256]        | [2, 3, 96, 160]\n",
      "--------------------------------------------------------------------------------\n",
      "4.1 M     Trainable params\n",
      "4.1 M     Non-trainable params\n",
      "8.2 M     Total params\n",
      "32.700    Total estimated model params size (MB)\n",
      "39        Modules in train mode\n",
      "0         Modules in eval mode\n"
     ]
    },
    {
     "name": "stdout",
     "output_type": "stream",
     "text": [
      "Epoch 0: 100%|██████████| 3/3 [00:09<00:00,  0.32it/s, v_num=29]           "
     ]
    },
    {
     "name": "stderr",
     "output_type": "stream",
     "text": [
      "`Trainer.fit` stopped: `max_epochs=1` reached.\n"
     ]
    },
    {
     "name": "stdout",
     "output_type": "stream",
     "text": [
      "Epoch 0: 100%|██████████| 3/3 [00:09<00:00,  0.31it/s, v_num=29]\n"
     ]
    },
    {
     "name": "stderr",
     "output_type": "stream",
     "text": [
      "LOCAL_RANK: 0 - CUDA_VISIBLE_DEVICES: [0]\n"
     ]
    },
    {
     "name": "stdout",
     "output_type": "stream",
     "text": [
      "Testing DataLoader 0: 100%|██████████| 3/3 [00:00<00:00, 40.97it/s]\n",
      "────────────────────────────────────────────────────────────────────────────────────────────────────────────────────────\n",
      "       Test metric             DataLoader 0\n",
      "────────────────────────────────────────────────────────────────────────────────────────────────────────────────────────\n",
      "        test_loss          0.012073814868927002\n",
      "        test_ssim           0.33719316124916077\n",
      "────────────────────────────────────────────────────────────────────────────────────────────────────────────────────────\n",
      "Found pretrained model for latent dim 256, loading...\n"
     ]
    },
    {
     "name": "stderr",
     "output_type": "stream",
     "text": [
      "GPU available: True (cuda), used: True\n",
      "TPU available: False, using: 0 TPU cores\n",
      "HPU available: False, using: 0 HPUs\n",
      "LOCAL_RANK: 0 - CUDA_VISIBLE_DEVICES: [0]\n",
      "\n",
      "  | Name    | Type    | Params | Mode  | In sizes        | Out sizes      \n",
      "--------------------------------------------------------------------------------\n",
      "0 | encoder | Encoder | 4.0 M  | train | [2, 3, 160, 96] | [2, 256]       \n",
      "1 | decoder | Decoder | 4.1 M  | train | [2, 256]        | [2, 3, 96, 160]\n",
      "--------------------------------------------------------------------------------\n",
      "4.1 M     Trainable params\n",
      "4.1 M     Non-trainable params\n",
      "8.2 M     Total params\n",
      "32.700    Total estimated model params size (MB)\n",
      "39        Modules in train mode\n",
      "0         Modules in eval mode\n"
     ]
    },
    {
     "name": "stdout",
     "output_type": "stream",
     "text": [
      "Epoch 0: 100%|██████████| 1/1 [00:03<00:00,  0.32it/s, v_num=23]           "
     ]
    },
    {
     "name": "stderr",
     "output_type": "stream",
     "text": [
      "`Trainer.fit` stopped: `max_epochs=1` reached.\n"
     ]
    },
    {
     "name": "stdout",
     "output_type": "stream",
     "text": [
      "Epoch 0: 100%|██████████| 1/1 [00:03<00:00,  0.31it/s, v_num=23]\n"
     ]
    },
    {
     "name": "stderr",
     "output_type": "stream",
     "text": [
      "LOCAL_RANK: 0 - CUDA_VISIBLE_DEVICES: [0]\n"
     ]
    },
    {
     "name": "stdout",
     "output_type": "stream",
     "text": [
      "Testing DataLoader 0: 100%|██████████| 1/1 [00:00<00:00, 30.18it/s] \n",
      "────────────────────────────────────────────────────────────────────────────────────────────────────────────────────────\n",
      "       Test metric             DataLoader 0\n",
      "────────────────────────────────────────────────────────────────────────────────────────────────────────────────────────\n",
      "        test_loss           0.03794093430042267\n",
      "        test_ssim           0.2884352207183838\n",
      "────────────────────────────────────────────────────────────────────────────────────────────────────────────────────────\n",
      "Found pretrained model for latent dim 256, loading...\n"
     ]
    },
    {
     "name": "stderr",
     "output_type": "stream",
     "text": [
      "GPU available: True (cuda), used: True\n",
      "TPU available: False, using: 0 TPU cores\n",
      "HPU available: False, using: 0 HPUs\n",
      "LOCAL_RANK: 0 - CUDA_VISIBLE_DEVICES: [0]\n",
      "\n",
      "  | Name    | Type    | Params | Mode  | In sizes        | Out sizes      \n",
      "--------------------------------------------------------------------------------\n",
      "0 | encoder | Encoder | 4.0 M  | train | [2, 3, 160, 96] | [2, 256]       \n",
      "1 | decoder | Decoder | 4.1 M  | train | [2, 256]        | [2, 3, 96, 160]\n",
      "--------------------------------------------------------------------------------\n",
      "4.1 M     Trainable params\n",
      "4.1 M     Non-trainable params\n",
      "8.2 M     Total params\n",
      "32.700    Total estimated model params size (MB)\n",
      "39        Modules in train mode\n",
      "0         Modules in eval mode\n"
     ]
    },
    {
     "name": "stdout",
     "output_type": "stream",
     "text": [
      "Epoch 0: 100%|██████████| 20/20 [00:19<00:00,  1.02it/s, v_num=22]         "
     ]
    },
    {
     "name": "stderr",
     "output_type": "stream",
     "text": [
      "`Trainer.fit` stopped: `max_epochs=1` reached.\n"
     ]
    },
    {
     "name": "stdout",
     "output_type": "stream",
     "text": [
      "Epoch 0: 100%|██████████| 20/20 [00:19<00:00,  1.01it/s, v_num=22]\n"
     ]
    },
    {
     "name": "stderr",
     "output_type": "stream",
     "text": [
      "LOCAL_RANK: 0 - CUDA_VISIBLE_DEVICES: [0]\n"
     ]
    },
    {
     "name": "stdout",
     "output_type": "stream",
     "text": [
      "Testing DataLoader 0: 100%|██████████| 20/20 [00:04<00:00,  4.87it/s]\n",
      "────────────────────────────────────────────────────────────────────────────────────────────────────────────────────────\n",
      "       Test metric             DataLoader 0\n",
      "────────────────────────────────────────────────────────────────────────────────────────────────────────────────────────\n",
      "        test_loss          0.007402478717267513\n",
      "        test_ssim           0.4627057909965515\n",
      "────────────────────────────────────────────────────────────────────────────────────────────────────────────────────────\n",
      "Found pretrained model for latent dim 256, loading...\n"
     ]
    },
    {
     "name": "stderr",
     "output_type": "stream",
     "text": [
      "GPU available: True (cuda), used: True\n",
      "TPU available: False, using: 0 TPU cores\n",
      "HPU available: False, using: 0 HPUs\n",
      "LOCAL_RANK: 0 - CUDA_VISIBLE_DEVICES: [0]\n",
      "\n",
      "  | Name    | Type    | Params | Mode  | In sizes        | Out sizes      \n",
      "--------------------------------------------------------------------------------\n",
      "0 | encoder | Encoder | 4.0 M  | train | [2, 3, 160, 96] | [2, 256]       \n",
      "1 | decoder | Decoder | 4.1 M  | train | [2, 256]        | [2, 3, 96, 160]\n",
      "--------------------------------------------------------------------------------\n",
      "4.1 M     Trainable params\n",
      "4.1 M     Non-trainable params\n",
      "8.2 M     Total params\n",
      "32.700    Total estimated model params size (MB)\n",
      "39        Modules in train mode\n",
      "0         Modules in eval mode\n"
     ]
    },
    {
     "name": "stdout",
     "output_type": "stream",
     "text": [
      "Sanity Checking DataLoader 0:  50%|█████     | 1/2 [00:00<00:00, 51.70it/s]"
     ]
    },
    {
     "name": "stderr",
     "output_type": "stream",
     "text": [
      "Exception ignored in: <function _MultiProcessingDataLoaderIter.__del__ at 0x7fa54d3ba200>\n",
      "Traceback (most recent call last):\n",
      "  File \"/data/vision/beery/scratch/timm/micromamba/envs/aecompression/lib/python3.12/site-packages/torch/utils/data/dataloader.py\", line 1604, in __del__\n",
      "    self._shutdown_workers()\n",
      "  File \"/data/vision/beery/scratch/timm/micromamba/envs/aecompression/lib/python3.12/site-packages/torch/utils/data/dataloader.py\", line 1587, in _shutdown_workers\n",
      "    if w.is_alive():\n",
      "       ^^^^^^^^^^^^\n",
      "  File \"/data/vision/beery/scratch/timm/micromamba/envs/aecompression/lib/python3.12/multiprocessing/process.py\", line 160, in is_alive\n",
      "    assert self._parent_pid == os.getpid(), 'can only test a child process'\n",
      "           ^^^^^^^^^^^^^^^^^^^^^^^^^^^^^^^\n",
      "AssertionError: can only test a child process\n"
     ]
    },
    {
     "name": "stdout",
     "output_type": "stream",
     "text": [
      "Testing: |          | 0/? [16:29<?, ?it/s]\n",
      "                                                                           \r"
     ]
    },
    {
     "name": "stderr",
     "output_type": "stream",
     "text": [
      "Exception ignored in: <function _MultiProcessingDataLoaderIter.__del__ at 0x7fa54d3ba200>\n",
      "Traceback (most recent call last):\n",
      "  File \"/data/vision/beery/scratch/timm/micromamba/envs/aecompression/lib/python3.12/site-packages/torch/utils/data/dataloader.py\", line 1604, in __del__\n",
      "    self._shutdown_workers()\n",
      "  File \"/data/vision/beery/scratch/timm/micromamba/envs/aecompression/lib/python3.12/site-packages/torch/utils/data/dataloader.py\", line 1587, in _shutdown_workers\n",
      "    if w.is_alive():\n",
      "       ^^^^^Exception ignored in: ^<function _MultiProcessingDataLoaderIter.__del__ at 0x7fa54d3ba200>^\n",
      "^Traceback (most recent call last):\n",
      "^  File \"/data/vision/beery/scratch/timm/micromamba/envs/aecompression/lib/python3.12/site-packages/torch/utils/data/dataloader.py\", line 1604, in __del__\n",
      "^^^\n",
      "  File \"/data/vision/beery/scratch/timm/micromamba/envs/aecompression/lib/python3.12/multiprocessing/process.py\", line 160, in is_alive\n",
      "    assert self._parent_pid == os.getpid(), 'can only test a child process'      File \"/data/vision/beery/scratch/timm/micromamba/envs/aecompression/lib/python3.12/site-packages/torch/utils/data/dataloader.py\", line 1587, in _shutdown_workers\n",
      "self._shutdown_workers()\n",
      "Exception ignored in: <function _MultiProcessingDataLoaderIter.__del__ at 0x7fa54d3ba200>\n",
      "     if w.is_alive():\n",
      "  \n",
      " Traceback (most recent call last):\n",
      "   File \"/data/vision/beery/scratch/timm/micromamba/envs/aecompression/lib/python3.12/site-packages/torch/utils/data/dataloader.py\", line 1604, in __del__\n",
      "       ^self._shutdown_workers()^ \n",
      "^^  File \"/data/vision/beery/scratch/timm/micromamba/envs/aecompression/lib/python3.12/site-packages/torch/utils/data/dataloader.py\", line 1587, in _shutdown_workers\n",
      "^  ^     ^if w.is_alive():  \n",
      "^^^^^\n",
      "  File \"/data/vision/beery/scratch/timm/micromamba/envs/aecompression/lib/python3.12/multiprocessing/process.py\", line 160, in is_alive\n",
      "    assert self._parent_pid == os.getpid(), 'can only test a child process'\n",
      "     ^  ^^  ^ ^ ^^^^     ^  ^^^^ ^ ^^ ^ ^^^"
     ]
    },
    {
     "name": "stdout",
     "output_type": "stream",
     "text": [
      "Training: |          | 0/? [00:00<?, ?it/s]"
     ]
    },
    {
     "name": "stderr",
     "output_type": "stream",
     "text": [
      "^"
     ]
    },
    {
     "name": "stdout",
     "output_type": "stream",
     "text": [
      "Epoch 0:   0%|          | 0/17 [00:00<?, ?it/s] "
     ]
    },
    {
     "name": "stderr",
     "output_type": "stream",
     "text": [
      "^^^^^^^^^^^^^^^^^^^^^\n",
      "^  File \"/data/vision/beery/scratch/timm/micromamba/envs/aecompression/lib/python3.12/multiprocessing/process.py\", line 160, in is_alive\n",
      "^^^    assert self._parent_pid == os.getpid(), 'can only test a child process'^^^\n",
      " ^^ ^^ ^ ^^ ^^  \n",
      "^AssertionError ^ : ^ ^can only test a child process ^\n",
      "^"
     ]
    },
    {
     "name": "stdout",
     "output_type": "stream",
     "text": [
      "Epoch 0: 100%|██████████| 20/20 [14:20<00:00,  0.02it/s, v_num=15]"
     ]
    },
    {
     "name": "stderr",
     "output_type": "stream",
     "text": [
      "^^^"
     ]
    },
    {
     "name": "stdout",
     "output_type": "stream",
     "text": [
      "\n"
     ]
    },
    {
     "name": "stderr",
     "output_type": "stream",
     "text": [
      "^^"
     ]
    },
    {
     "name": "stdout",
     "output_type": "stream",
     "text": [
      "\n"
     ]
    },
    {
     "name": "stderr",
     "output_type": "stream",
     "text": [
      "^^"
     ]
    },
    {
     "name": "stdout",
     "output_type": "stream",
     "text": [
      "                                             "
     ]
    },
    {
     "name": "stderr",
     "output_type": "stream",
     "text": [
      "^^"
     ]
    },
    {
     "name": "stdout",
     "output_type": "stream",
     "text": [
      "\u001b[A"
     ]
    },
    {
     "name": "stderr",
     "output_type": "stream",
     "text": [
      "^^^^^^^^^^^\n",
      "AssertionError^: ^^^^^^^^^^^can only test a child process^\n",
      "^"
     ]
    },
    {
     "name": "stdout",
     "output_type": "stream",
     "text": [
      "Testing: |          | 0/? [16:31<?, ?it/s]"
     ]
    },
    {
     "name": "stderr",
     "output_type": "stream",
     "text": [
      "^"
     ]
    },
    {
     "name": "stdout",
     "output_type": "stream",
     "text": [
      "\n"
     ]
    },
    {
     "name": "stderr",
     "output_type": "stream",
     "text": [
      "^^Exception ignored in: ^<function _MultiProcessingDataLoaderIter.__del__ at 0x7fa54d3ba200>^\n",
      "^\n",
      "Traceback (most recent call last):\n",
      "  File \"/data/vision/beery/scratch/timm/micromamba/envs/aecompression/lib/python3.12/site-packages/torch/utils/data/dataloader.py\", line 1604, in __del__\n",
      "AssertionError    : self._shutdown_workers()can only test a child process\n",
      "\n"
     ]
    },
    {
     "name": "stdout",
     "output_type": "stream",
     "text": [
      "Testing: |          | 0/? [16:31<?, ?it/s]"
     ]
    },
    {
     "name": "stderr",
     "output_type": "stream",
     "text": [
      "  File \"/data/vision/beery/scratch/timm/micromamba/envs/aecompression/lib/python3.12/site-packages/torch/utils/data/dataloader.py\", line 1587, in _shutdown_workers\n",
      "Exception ignored in: <function _MultiProcessingDataLoaderIter.__del__ at 0x7fa54d3ba200>"
     ]
    },
    {
     "name": "stdout",
     "output_type": "stream",
     "text": [
      "\n"
     ]
    },
    {
     "name": "stderr",
     "output_type": "stream",
     "text": [
      "    \n",
      "if w.is_alive():Traceback (most recent call last):\n",
      "\n",
      "  File \"/data/vision/beery/scratch/timm/micromamba/envs/aecompression/lib/python3.12/site-packages/torch/utils/data/dataloader.py\", line 1604, in __del__\n",
      "      self._shutdown_workers() \n",
      "   File \"/data/vision/beery/scratch/timm/micromamba/envs/aecompression/lib/python3.12/site-packages/torch/utils/data/dataloader.py\", line 1587, in _shutdown_workers\n",
      "     if w.is_alive():  \n",
      "^ ^  ^^^^^^^^^Exception ignored in:  <function _MultiProcessingDataLoaderIter.__del__ at 0x7fa54d3ba200>^ \n",
      "\n",
      "  File \"/data/vision/beery/scratch/timm/micromamba/envs/aecompression/lib/python3.12/multiprocessing/process.py\", line 160, in is_alive\n",
      " Traceback (most recent call last):\n",
      "  File \"/data/vision/beery/scratch/timm/micromamba/envs/aecompression/lib/python3.12/site-packages/torch/utils/data/dataloader.py\", line 1604, in __del__\n",
      "         assert self._parent_pid == os.getpid(), 'can only test a child process'^self._shutdown_workers()^\n",
      "           ^^\n",
      "  File \"/data/vision/beery/scratch/timm/micromamba/envs/aecompression/lib/python3.12/site-packages/torch/utils/data/dataloader.py\", line 1587, in _shutdown_workers\n",
      "    if w.is_alive():\n",
      "^^^^^^^^^^\n",
      "  File \"/data/vision/beery/scratch/timm/micromamba/envs/aecompression/lib/python3.12/multiprocessing/process.py\", line 160, in is_alive\n",
      "    assert self._parent_pid == os.getpid(), 'can only test a child process'\n",
      "        ^ ^^^^   ^  ^  ^^ ^ ^^^^^^^^^^^^^^^^^^^^^^^^^^^^^^^^^^^^^\n",
      "^^  File \"/data/vision/beery/scratch/timm/micromamba/envs/aecompression/lib/python3.12/multiprocessing/process.py\", line 160, in is_alive\n",
      "^^    assert self._parent_pid == os.getpid(), 'can only test a child process'^^\n",
      "^^ ^^^^ ^ ^ ^^ ^^ \n",
      "^AssertionError ^: ^ ^^can only test a child process  \n",
      "^ ^\n",
      "^^AssertionError^: can only test a child process\n",
      "^"
     ]
    },
    {
     "name": "stdout",
     "output_type": "stream",
     "text": [
      "Epoch 0: 100%|██████████| 20/20 [14:21<00:00,  0.02it/s, v_num=15]"
     ]
    },
    {
     "name": "stderr",
     "output_type": "stream",
     "text": [
      "^"
     ]
    },
    {
     "name": "stdout",
     "output_type": "stream",
     "text": [
      "\n",
      "\n"
     ]
    },
    {
     "name": "stderr",
     "output_type": "stream",
     "text": [
      "^"
     ]
    },
    {
     "name": "stdout",
     "output_type": "stream",
     "text": [
      "                                             "
     ]
    },
    {
     "name": "stderr",
     "output_type": "stream",
     "text": [
      "Exception ignored in: <function _MultiProcessingDataLoaderIter.__del__ at 0x7fa54d3ba200>"
     ]
    },
    {
     "name": "stdout",
     "output_type": "stream",
     "text": [
      "\u001b[A"
     ]
    },
    {
     "name": "stderr",
     "output_type": "stream",
     "text": [
      "^^\n",
      "^Traceback (most recent call last):\n",
      "^  File \"/data/vision/beery/scratch/timm/micromamba/envs/aecompression/lib/python3.12/site-packages/torch/utils/data/dataloader.py\", line 1604, in __del__\n",
      "^    ^self._shutdown_workers()\n",
      "^^  File \"/data/vision/beery/scratch/timm/micromamba/envs/aecompression/lib/python3.12/site-packages/torch/utils/data/dataloader.py\", line 1587, in _shutdown_workers\n",
      "^    if w.is_alive():Exception ignored in: ^<function _MultiProcessingDataLoaderIter.__del__ at 0x7fa54d3ba200>\n",
      "^^\n",
      " Traceback (most recent call last):\n",
      "^  File \"/data/vision/beery/scratch/timm/micromamba/envs/aecompression/lib/python3.12/site-packages/torch/utils/data/dataloader.py\", line 1604, in __del__\n",
      "    self._shutdown_workers()\n",
      "  File \"/data/vision/beery/scratch/timm/micromamba/envs/aecompression/lib/python3.12/site-packages/torch/utils/data/dataloader.py\", line 1587, in _shutdown_workers\n",
      "    if w.is_alive():\n",
      "       ^^^^^^ ^^^^^^\n",
      "  File \"/data/vision/beery/scratch/timm/micromamba/envs/aecompression/lib/python3.12/multiprocessing/process.py\", line 160, in is_alive\n",
      " ^     ^^^^^^^^assert self._parent_pid == os.getpid(), 'can only test a child process'^\n",
      "          ^ ^\n",
      "AssertionError: can only test a child process\n",
      "   ^^^^^^^^^^^^^^^^^^^^^^^^^^"
     ]
    },
    {
     "name": "stdout",
     "output_type": "stream",
     "text": [
      "Epoch 0: 100%|██████████| 20/20 [14:22<00:00,  0.02it/s, v_num=15]"
     ]
    },
    {
     "name": "stderr",
     "output_type": "stream",
     "text": [
      "^"
     ]
    },
    {
     "name": "stdout",
     "output_type": "stream",
     "text": [
      "\n"
     ]
    },
    {
     "name": "stderr",
     "output_type": "stream",
     "text": [
      "^^^"
     ]
    },
    {
     "name": "stdout",
     "output_type": "stream",
     "text": [
      "\n"
     ]
    },
    {
     "name": "stderr",
     "output_type": "stream",
     "text": [
      "^^^^^\n",
      "AssertionError: can only test a child process\n",
      "^^"
     ]
    },
    {
     "name": "stdout",
     "output_type": "stream",
     "text": [
      "                                             "
     ]
    },
    {
     "name": "stderr",
     "output_type": "stream",
     "text": [
      "^"
     ]
    },
    {
     "name": "stdout",
     "output_type": "stream",
     "text": [
      "\u001b[A"
     ]
    },
    {
     "name": "stderr",
     "output_type": "stream",
     "text": [
      "^^^^^\n",
      "  File \"/data/vision/beery/scratch/timm/micromamba/envs/aecompression/lib/python3.12/multiprocessing/process.py\", line 160, in is_alive\n",
      "Exception ignored in:     assert self._parent_pid == os.getpid(), 'can only test a child process'<function _MultiProcessingDataLoaderIter.__del__ at 0x7fa54d3ba200>\n",
      "\n",
      " Exception ignored in: Traceback (most recent call last):\n",
      " <function _MultiProcessingDataLoaderIter.__del__ at 0x7fa54d3ba200>  File \"/data/vision/beery/scratch/timm/micromamba/envs/aecompression/lib/python3.12/site-packages/torch/utils/data/dataloader.py\", line 1604, in __del__\n",
      "\n",
      "     Traceback (most recent call last):\n",
      " self._shutdown_workers()  File \"/data/vision/beery/scratch/timm/micromamba/envs/aecompression/lib/python3.12/site-packages/torch/utils/data/dataloader.py\", line 1604, in __del__\n",
      "  \n",
      "  File \"/data/vision/beery/scratch/timm/micromamba/envs/aecompression/lib/python3.12/site-packages/torch/utils/data/dataloader.py\", line 1587, in _shutdown_workers\n",
      "           self._shutdown_workers()if w.is_alive(): \n",
      "\n",
      "  File \"/data/vision/beery/scratch/timm/micromamba/envs/aecompression/lib/python3.12/site-packages/torch/utils/data/dataloader.py\", line 1587, in _shutdown_workers\n",
      "  ^     ^if w.is_alive():  ^\n",
      "  ^ ^  ^ ^ ^^^ ^ ^^^ ^^^^^^^^^^^^^^^^^^^^^^^^\n",
      "^^^  File \"/data/vision/beery/scratch/timm/micromamba/envs/aecompression/lib/python3.12/multiprocessing/process.py\", line 160, in is_alive\n",
      "^^    ^^assert self._parent_pid == os.getpid(), 'can only test a child process'^^^\n",
      "\n",
      " ^  File \"/data/vision/beery/scratch/timm/micromamba/envs/aecompression/lib/python3.12/multiprocessing/process.py\", line 160, in is_alive\n",
      "^      ^^ assert self._parent_pid == os.getpid(), 'can only test a child process' \n",
      " ^ ^    ^  \n",
      "  AssertionError:    can only test a child process^ ^\n",
      "^"
     ]
    },
    {
     "name": "stdout",
     "output_type": "stream",
     "text": [
      "                                                  "
     ]
    },
    {
     "name": "stderr",
     "output_type": "stream",
     "text": [
      "  ^"
     ]
    },
    {
     "name": "stdout",
     "output_type": "stream",
     "text": [
      "\r"
     ]
    },
    {
     "name": "stderr",
     "output_type": "stream",
     "text": [
      "^ ^^^^^^^^^^^^^^^^^^^^^^^^^^^^^^^^^^^^^^^^^^^^^^^^^^^^^^^\n",
      "AssertionError: can only test a child process\n"
     ]
    },
    {
     "name": "stdout",
     "output_type": "stream",
     "text": [
      "                                                  \r"
     ]
    },
    {
     "name": "stderr",
     "output_type": "stream",
     "text": [
      "^^\n",
      "AssertionError: can only test a child process\n",
      "Exception ignored in: <function _MultiProcessingDataLoaderIter.__del__ at 0x7fa54d3ba200>\n",
      "Traceback (most recent call last):\n",
      "  File \"/data/vision/beery/scratch/timm/micromamba/envs/aecompression/lib/python3.12/site-packages/torch/utils/data/dataloader.py\", line 1604, in __del__\n",
      "    self._shutdown_workers()\n",
      "  File \"/data/vision/beery/scratch/timm/micromamba/envs/aecompression/lib/python3.12/site-packages/torch/utils/data/dataloader.py\", line 1587, in _shutdown_workers\n",
      "    if w.is_alive():\n",
      "       ^^^^^^^^^^^^\n",
      "  File \"/data/vision/beery/scratch/timm/micromamba/envs/aecompression/lib/python3.12/multiprocessing/process.py\", line 160, in is_alive\n",
      "    assert self._parent_pid == os.getpid(), 'can only test a child process'\n",
      "           ^^^^^^^^^^^^^^^^^^^^^^^^^^^^^^^\n",
      "AssertionError: can only test a child process\n"
     ]
    },
    {
     "name": "stdout",
     "output_type": "stream",
     "text": [
      "Epoch 0: 100%|██████████| 17/17 [00:12<00:00,  1.38it/s, v_num=15]"
     ]
    },
    {
     "name": "stderr",
     "output_type": "stream",
     "text": [
      "`Trainer.fit` stopped: `max_epochs=1` reached.\n"
     ]
    },
    {
     "name": "stdout",
     "output_type": "stream",
     "text": [
      "Epoch 0: 100%|██████████| 17/17 [00:12<00:00,  1.36it/s, v_num=15]\n"
     ]
    },
    {
     "name": "stderr",
     "output_type": "stream",
     "text": [
      "LOCAL_RANK: 0 - CUDA_VISIBLE_DEVICES: [0]\n"
     ]
    },
    {
     "name": "stdout",
     "output_type": "stream",
     "text": [
      "Testing DataLoader 0: 100%|██████████| 17/17 [00:01<00:00,  9.46it/s]\n",
      "────────────────────────────────────────────────────────────────────────────────────────────────────────────────────────\n",
      "       Test metric             DataLoader 0\n",
      "────────────────────────────────────────────────────────────────────────────────────────────────────────────────────────\n",
      "        test_loss          0.010354530066251755\n",
      "        test_ssim           0.32897457480430603\n",
      "────────────────────────────────────────────────────────────────────────────────────────────────────────────────────────\n",
      "Found pretrained model for latent dim 256, loading...\n"
     ]
    },
    {
     "name": "stderr",
     "output_type": "stream",
     "text": [
      "GPU available: True (cuda), used: True\n",
      "TPU available: False, using: 0 TPU cores\n",
      "HPU available: False, using: 0 HPUs\n",
      "LOCAL_RANK: 0 - CUDA_VISIBLE_DEVICES: [0]\n",
      "\n",
      "  | Name    | Type    | Params | Mode  | In sizes        | Out sizes      \n",
      "--------------------------------------------------------------------------------\n",
      "0 | encoder | Encoder | 4.0 M  | train | [2, 3, 160, 96] | [2, 256]       \n",
      "1 | decoder | Decoder | 4.1 M  | train | [2, 256]        | [2, 3, 96, 160]\n",
      "--------------------------------------------------------------------------------\n",
      "4.1 M     Trainable params\n",
      "4.1 M     Non-trainable params\n",
      "8.2 M     Total params\n",
      "32.700    Total estimated model params size (MB)\n",
      "39        Modules in train mode\n",
      "0         Modules in eval mode\n"
     ]
    },
    {
     "name": "stdout",
     "output_type": "stream",
     "text": [
      "Testing: |          | 0/? [16:58<?, ?it/s],  0.49it/s, v_num=15]           \n",
      "Epoch 0: 100%|██████████| 20/20 [14:47<00:00,  0.02it/s, v_num=15]\n",
      "                                                  "
     ]
    },
    {
     "name": "stderr",
     "output_type": "stream",
     "text": [
      "Exception ignored in: <function _MultiProcessingDataLoaderIter.__del__ at 0x7fa54d3ba200>\n",
      "Traceback (most recent call last):\n",
      "  File \"/data/vision/beery/scratch/timm/micromamba/envs/aecompression/lib/python3.12/site-packages/torch/utils/data/dataloader.py\", line 1604, in __del__\n",
      "    self._shutdown_workers()\n",
      "  File \"/data/vision/beery/scratch/timm/micromamba/envs/aecompression/lib/python3.12/site-packages/torch/utils/data/dataloader.py\", line 1587, in _shutdown_workers\n",
      "    if w.is_alive():\n",
      "       ^^Exception ignored in: ^<function _MultiProcessingDataLoaderIter.__del__ at 0x7fa54d3ba200>^\n",
      "^^Traceback (most recent call last):\n",
      "^  File \"/data/vision/beery/scratch/timm/micromamba/envs/aecompression/lib/python3.12/site-packages/torch/utils/data/dataloader.py\", line 1604, in __del__\n",
      "^^^    ^self._shutdown_workers()^\n",
      "\n",
      "  File \"/data/vision/beery/scratch/timm/micromamba/envs/aecompression/lib/python3.12/site-packages/torch/utils/data/dataloader.py\", line 1587, in _shutdown_workers\n",
      "  File \"/data/vision/beery/scratch/timm/micromamba/envs/aecompression/lib/python3.12/multiprocessing/process.py\", line 160, in is_alive\n",
      "        assert self._parent_pid == os.getpid(), 'can only test a child process'if w.is_alive():\n",
      "\n",
      "                ^ ^ ^^^^^^^^^^^^^^^^^^^\n",
      "^  File \"/data/vision/beery/scratch/timm/micromamba/envs/aecompression/lib/python3.12/multiprocessing/process.py\", line 160, in is_alive\n",
      "^^    ^assert self._parent_pid == os.getpid(), 'can only test a child process'^\n",
      " ^ ^ ^ ^ ^ ^ ^ ^ ^ ^ ^^^^^^^^^^^^^^\n",
      "^AssertionError^: ^can only test a child process^\n",
      "^^"
     ]
    },
    {
     "name": "stdout",
     "output_type": "stream",
     "text": [
      "Testing: |          | 0/? [16:58<?, ?it/s]"
     ]
    },
    {
     "name": "stderr",
     "output_type": "stream",
     "text": [
      "^"
     ]
    },
    {
     "name": "stdout",
     "output_type": "stream",
     "text": [
      "\n"
     ]
    },
    {
     "name": "stderr",
     "output_type": "stream",
     "text": [
      "^^^^^^^Exception ignored in: ^<function _MultiProcessingDataLoaderIter.__del__ at 0x7fa54d3ba200>^\n",
      "^Traceback (most recent call last):\n",
      "^  File \"/data/vision/beery/scratch/timm/micromamba/envs/aecompression/lib/python3.12/site-packages/torch/utils/data/dataloader.py\", line 1604, in __del__\n",
      "^^    ^self._shutdown_workers()^\n",
      "^  File \"/data/vision/beery/scratch/timm/micromamba/envs/aecompression/lib/python3.12/site-packages/torch/utils/data/dataloader.py\", line 1587, in _shutdown_workers\n",
      "^\n",
      "    AssertionErrorif w.is_alive():: \n",
      "can only test a child process\n",
      "  "
     ]
    },
    {
     "name": "stdout",
     "output_type": "stream",
     "text": [
      "Testing: |          | 0/? [16:58<?, ?it/s]"
     ]
    },
    {
     "name": "stderr",
     "output_type": "stream",
     "text": [
      " "
     ]
    },
    {
     "name": "stdout",
     "output_type": "stream",
     "text": [
      "\n"
     ]
    },
    {
     "name": "stderr",
     "output_type": "stream",
     "text": [
      "    ^^^^Exception ignored in: ^<function _MultiProcessingDataLoaderIter.__del__ at 0x7fa54d3ba200>^\n",
      "^Traceback (most recent call last):\n",
      "^  File \"/data/vision/beery/scratch/timm/micromamba/envs/aecompression/lib/python3.12/site-packages/torch/utils/data/dataloader.py\", line 1604, in __del__\n",
      "^^^    ^self._shutdown_workers()\n",
      "\n",
      "  File \"/data/vision/beery/scratch/timm/micromamba/envs/aecompression/lib/python3.12/multiprocessing/process.py\", line 160, in is_alive\n",
      "  File \"/data/vision/beery/scratch/timm/micromamba/envs/aecompression/lib/python3.12/site-packages/torch/utils/data/dataloader.py\", line 1587, in _shutdown_workers\n",
      "         assert self._parent_pid == os.getpid(), 'can only test a child process'if w.is_alive():\n",
      "\n",
      "              ^ ^ ^ ^^^^^^^^^^^^^^^^^^\n",
      "^  File \"/data/vision/beery/scratch/timm/micromamba/envs/aecompression/lib/python3.12/multiprocessing/process.py\", line 160, in is_alive\n",
      "^^    ^assert self._parent_pid == os.getpid(), 'can only test a child process'^\n",
      "^ ^ ^ ^ ^ ^ ^ ^ ^ ^"
     ]
    },
    {
     "name": "stdout",
     "output_type": "stream",
     "text": [
      "                                             "
     ]
    },
    {
     "name": "stderr",
     "output_type": "stream",
     "text": [
      " ^ ^^^^^^^^^^^^\n",
      "^AssertionError^: ^can only test a child process^\n",
      "^"
     ]
    },
    {
     "name": "stdout",
     "output_type": "stream",
     "text": [
      "Epoch 0: 100%|██████████| 20/20 [14:47<00:00,  0.02it/s, v_num=15]"
     ]
    },
    {
     "name": "stderr",
     "output_type": "stream",
     "text": [
      "^"
     ]
    },
    {
     "name": "stdout",
     "output_type": "stream",
     "text": [
      "\n"
     ]
    },
    {
     "name": "stderr",
     "output_type": "stream",
     "text": [
      "^^"
     ]
    },
    {
     "name": "stdout",
     "output_type": "stream",
     "text": [
      "\n"
     ]
    },
    {
     "name": "stderr",
     "output_type": "stream",
     "text": [
      "^^"
     ]
    },
    {
     "name": "stdout",
     "output_type": "stream",
     "text": [
      "\u001b[A"
     ]
    },
    {
     "name": "stderr",
     "output_type": "stream",
     "text": [
      "^^^^^^^Exception ignored in: ^<function _MultiProcessingDataLoaderIter.__del__ at 0x7fa54d3ba200>^\n",
      ": AssertionError    can only test a child process  File \"/data/vision/beery/scratch/timm/micromamba/envs/aecompression/lib/python3.12/site-packages/torch/utils/data/dataloader.py\", line 1587, in _shutdown_workers\n",
      "\n",
      "\n",
      "if w.is_alive():^\n",
      "self._shutdown_workers()^\n",
      "    ^^  File \"/data/vision/beery/scratch/timm/micromamba/envs/aecompression/lib/python3.12/site-packages/torch/utils/data/dataloader.py\", line 1604, in __del__\n"
     ]
    },
    {
     "name": "stdout",
     "output_type": "stream",
     "text": [
      "Epoch 0: 100%|██████████| 20/20 [14:47<00:00,  0.02it/s, v_num=15]"
     ]
    },
    {
     "name": "stderr",
     "output_type": "stream",
     "text": [
      " ^Traceback (most recent call last):\n",
      "^"
     ]
    },
    {
     "name": "stdout",
     "output_type": "stream",
     "text": [
      "\n"
     ]
    },
    {
     "name": "stderr",
     "output_type": "stream",
     "text": [
      " "
     ]
    },
    {
     "name": "stdout",
     "output_type": "stream",
     "text": [
      "\n"
     ]
    },
    {
     "name": "stderr",
     "output_type": "stream",
     "text": [
      " "
     ]
    },
    {
     "name": "stdout",
     "output_type": "stream",
     "text": [
      "                                             "
     ]
    },
    {
     "name": "stderr",
     "output_type": "stream",
     "text": [
      " "
     ]
    },
    {
     "name": "stdout",
     "output_type": "stream",
     "text": [
      "\u001b[A"
     ]
    },
    {
     "name": "stderr",
     "output_type": "stream",
     "text": [
      "   ^^^Exception ignored in: ^<function _MultiProcessingDataLoaderIter.__del__ at 0x7fa54d3ba200>^^\n",
      "Traceback (most recent call last):\n",
      "^^  File \"/data/vision/beery/scratch/timm/micromamba/envs/aecompression/lib/python3.12/site-packages/torch/utils/data/dataloader.py\", line 1604, in __del__\n",
      "^    ^^self._shutdown_workers()\n",
      "^\n",
      "  File \"/data/vision/beery/scratch/timm/micromamba/envs/aecompression/lib/python3.12/site-packages/torch/utils/data/dataloader.py\", line 1587, in _shutdown_workers\n",
      "  File \"/data/vision/beery/scratch/timm/micromamba/envs/aecompression/lib/python3.12/multiprocessing/process.py\", line 160, in is_alive\n",
      "        if w.is_alive():assert self._parent_pid == os.getpid(), 'can only test a child process'\n",
      "\n",
      "              ^ ^ ^ ^ ^^^^^^^^^^^^^^^^\n",
      "^  File \"/data/vision/beery/scratch/timm/micromamba/envs/aecompression/lib/python3.12/multiprocessing/process.py\", line 160, in is_alive\n",
      "^^^    ^assert self._parent_pid == os.getpid(), 'can only test a child process'^\n",
      "^ ^ ^ ^ "
     ]
    },
    {
     "name": "stdout",
     "output_type": "stream",
     "text": [
      "\r"
     ]
    },
    {
     "name": "stderr",
     "output_type": "stream",
     "text": [
      "^ ^ ^ ^ ^ ^ ^ ^^^^^^^^^^^\n",
      "^AssertionError^: ^can only test a child process^\n",
      "^^^^^^^Exception ignored in: ^<function _MultiProcessingDataLoaderIter.__del__ at 0x7fa54d3ba200>^\n",
      "^^^^^^Traceback (most recent call last):\n",
      "  File \"/data/vision/beery/scratch/timm/micromamba/envs/aecompression/lib/python3.12/site-packages/torch/utils/data/dataloader.py\", line 1604, in __del__\n",
      "    ^^^^^^self._shutdown_workers()^\n",
      "\n",
      "  File \"/data/vision/beery/scratch/timm/micromamba/envs/aecompression/lib/python3.12/site-packages/torch/utils/data/dataloader.py\", line 1587, in _shutdown_workers\n",
      "AssertionError:     if w.is_alive():can only test a child process\n",
      "\n",
      "    Exception ignored in: <function _MultiProcessingDataLoaderIter.__del__ at 0x7fa54d3ba200>\n",
      "Traceback (most recent call last):\n",
      "   File \"/data/vision/beery/scratch/timm/micromamba/envs/aecompression/lib/python3.12/site-packages/torch/utils/data/dataloader.py\", line 1604, in __del__\n",
      "      ^self._shutdown_workers()^^^^^^^^^^^\n",
      "  File \"/data/vision/beery/scratch/timm/micromamba/envs/aecompression/lib/python3.12/multiprocessing/process.py\", line 160, in is_alive\n",
      "    assert self._parent_pid == os.getpid(), 'can only test a child process'\n",
      "     \n",
      "  File \"/data/vision/beery/scratch/timm/micromamba/envs/aecompression/lib/python3.12/site-packages/torch/utils/data/dataloader.py\", line 1587, in _shutdown_workers\n",
      "       if w.is_alive(): \n",
      "    ^ ^ ^ ^ ^ ^^^^^^^^^^"
     ]
    },
    {
     "name": "stdout",
     "output_type": "stream",
     "text": [
      "\n"
     ]
    },
    {
     "name": "stderr",
     "output_type": "stream",
     "text": [
      "^^"
     ]
    },
    {
     "name": "stdout",
     "output_type": "stream",
     "text": [
      "Validation: |          | 0/? [00:00<?, ?it/s]"
     ]
    },
    {
     "name": "stderr",
     "output_type": "stream",
     "text": [
      "^^"
     ]
    },
    {
     "name": "stdout",
     "output_type": "stream",
     "text": [
      "\u001b[A"
     ]
    },
    {
     "name": "stderr",
     "output_type": "stream",
     "text": [
      "^^^^^^^^^^^^\n",
      "^  File \"/data/vision/beery/scratch/timm/micromamba/envs/aecompression/lib/python3.12/multiprocessing/process.py\", line 160, in is_alive\n",
      "^^^    ^assert self._parent_pid == os.getpid(), 'can only test a child process'^\n",
      "^ ^ ^ ^ ^ ^ \n",
      " AssertionError :  can only test a child process \n",
      " "
     ]
    },
    {
     "name": "stdout",
     "output_type": "stream",
     "text": [
      "                                                  "
     ]
    },
    {
     "name": "stderr",
     "output_type": "stream",
     "text": [
      "^"
     ]
    },
    {
     "name": "stdout",
     "output_type": "stream",
     "text": [
      "\r"
     ]
    },
    {
     "name": "stderr",
     "output_type": "stream",
     "text": [
      "^^^^^^^^^^^^^^^^^^^^^^^^^^^^^^\n",
      "AssertionError: can only test a child process\n"
     ]
    },
    {
     "name": "stdout",
     "output_type": "stream",
     "text": [
      "                                                  \r"
     ]
    },
    {
     "name": "stderr",
     "output_type": "stream",
     "text": [
      "Exception ignored in: <function _MultiProcessingDataLoaderIter.__del__ at 0x7fa54d3ba200>\n",
      "Traceback (most recent call last):\n",
      "  File \"/data/vision/beery/scratch/timm/micromamba/envs/aecompression/lib/python3.12/site-packages/torch/utils/data/dataloader.py\", line 1604, in __del__\n",
      "    self._shutdown_workers()\n",
      "  File \"/data/vision/beery/scratch/timm/micromamba/envs/aecompression/lib/python3.12/site-packages/torch/utils/data/dataloader.py\", line 1587, in _shutdown_workers\n",
      "    if w.is_alive():\n",
      "       ^^^^^^^^^^^^\n",
      "  File \"/data/vision/beery/scratch/timm/micromamba/envs/aecompression/lib/python3.12/multiprocessing/process.py\", line 160, in is_alive\n",
      "    assert self._parent_pid == os.getpid(), 'can only test a child process'\n",
      "           ^^^^^^^^^^^^^^^^^^^^^^^^^^^^^^^\n",
      "AssertionError: can only test a child process\n"
     ]
    },
    {
     "name": "stdout",
     "output_type": "stream",
     "text": [
      "Testing: |          | 0/? [16:59<?, ?it/s]\n"
     ]
    },
    {
     "name": "stderr",
     "output_type": "stream",
     "text": [
      "Exception ignored in: <function _MultiProcessingDataLoaderIter.__del__ at 0x7fa54d3ba200>\n",
      "Traceback (most recent call last):\n",
      "  File \"/data/vision/beery/scratch/timm/micromamba/envs/aecompression/lib/python3.12/site-packages/torch/utils/data/dataloader.py\", line 1604, in __del__\n",
      "    self._shutdown_workers()\n",
      "  File \"/data/vision/beery/scratch/timm/micromamba/envs/aecompression/lib/python3.12/site-packages/torch/utils/data/dataloader.py\", line 1587, in _shutdown_workers\n",
      "    if w.is_alive():\n",
      "       ^^^^^^^^^^^^\n",
      "  File \"/data/vision/beery/scratch/timm/micromamba/envs/aecompression/lib/python3.12/multiprocessing/process.py\", line 160, in is_alive\n",
      "    assert self._parent_pid == os.getpid(), 'can only test a child process'\n",
      "           ^^^^^^^^^^^^^^^^^^^^^^^^^^^^^^^\n",
      "AssertionError: can only test a child process\n"
     ]
    },
    {
     "name": "stdout",
     "output_type": "stream",
     "text": [
      "Epoch 0: 100%|██████████| 20/20 [14:49<00:00,  0.02it/s, v_num=15]\n"
     ]
    },
    {
     "name": "stderr",
     "output_type": "stream",
     "text": [
      "Exception ignored in: <function _MultiProcessingDataLoaderIter.__del__ at 0x7fa54d3ba200>\n",
      "Traceback (most recent call last):\n",
      "  File \"/data/vision/beery/scratch/timm/micromamba/envs/aecompression/lib/python3.12/site-packages/torch/utils/data/dataloader.py\", line 1604, in __del__\n",
      "    self._shutdown_workers()\n",
      "  File \"/data/vision/beery/scratch/timm/micromamba/envs/aecompression/lib/python3.12/site-packages/torch/utils/data/dataloader.py\", line 1587, in _shutdown_workers\n",
      "    if w.is_alive():\n",
      "       ^^^^^^^^^^^^\n",
      "  File \"/data/vision/beery/scratch/timm/micromamba/envs/aecompression/lib/python3.12/multiprocessing/process.py\", line 160, in is_alive\n",
      "    assert self._parent_pid == os.getpid(), 'can only test a child process'\n",
      "           ^^^^^^^^^^^^^^^^^^^^^^^^^^^^^^^\n",
      "AssertionError: can only test a child process\n",
      "Exception ignored in: <function _MultiProcessingDataLoaderIter.__del__ at 0x7fa54d3ba200>\n",
      "Traceback (most recent call last):\n",
      "  File \"/data/vision/beery/scratch/timm/micromamba/envs/aecompression/lib/python3.12/site-packages/torch/utils/data/dataloader.py\", line 1604, in __del__\n",
      "    self._shutdown_workers()\n",
      "  File \"/data/vision/beery/scratch/timm/micromamba/envs/aecompression/lib/python3.12/site-packages/torch/utils/data/dataloader.py\", line 1587, in _shutdown_workers\n",
      "    if w.is_alive():\n",
      "       ^^^^^^^^^^^^\n",
      "  File \"/data/vision/beery/scratch/timm/micromamba/envs/aecompression/lib/python3.12/multiprocessing/process.py\", line 160, in is_alive\n",
      "    assert self._parent_pid == os.getpid(), 'can only test a child process'\n",
      "           ^^^^^^^^^^^^^^^^^^^^^^^^^^^^^^^\n",
      "AssertionError: can only test a child process\n"
     ]
    },
    {
     "name": "stdout",
     "output_type": "stream",
     "text": [
      "Epoch 0: 100%|██████████| 1/1 [00:06<00:00,  0.16it/s, v_num=15]"
     ]
    },
    {
     "name": "stderr",
     "output_type": "stream",
     "text": [
      "`Trainer.fit` stopped: `max_epochs=1` reached.\n"
     ]
    },
    {
     "name": "stdout",
     "output_type": "stream",
     "text": [
      "Epoch 0: 100%|██████████| 1/1 [00:06<00:00,  0.16it/s, v_num=15]\n"
     ]
    },
    {
     "name": "stderr",
     "output_type": "stream",
     "text": [
      "LOCAL_RANK: 0 - CUDA_VISIBLE_DEVICES: [0]\n"
     ]
    },
    {
     "name": "stdout",
     "output_type": "stream",
     "text": [
      "Testing DataLoader 0: 100%|██████████| 1/1 [00:00<00:00, 36.98it/s]\n",
      "────────────────────────────────────────────────────────────────────────────────────────────────────────────────────────\n",
      "       Test metric             DataLoader 0\n",
      "────────────────────────────────────────────────────────────────────────────────────────────────────────────────────────\n",
      "        test_loss          0.019494598731398582\n",
      "        test_ssim           0.3644278943538666\n",
      "────────────────────────────────────────────────────────────────────────────────────────────────────────────────────────\n",
      "Found pretrained model for latent dim 256, loading...\n"
     ]
    },
    {
     "name": "stderr",
     "output_type": "stream",
     "text": [
      "GPU available: True (cuda), used: True\n",
      "TPU available: False, using: 0 TPU cores\n",
      "HPU available: False, using: 0 HPUs\n",
      "LOCAL_RANK: 0 - CUDA_VISIBLE_DEVICES: [0]\n",
      "\n",
      "  | Name    | Type    | Params | Mode  | In sizes        | Out sizes      \n",
      "--------------------------------------------------------------------------------\n",
      "0 | encoder | Encoder | 4.0 M  | train | [2, 3, 160, 96] | [2, 256]       \n",
      "1 | decoder | Decoder | 4.1 M  | train | [2, 256]        | [2, 3, 96, 160]\n",
      "--------------------------------------------------------------------------------\n",
      "4.1 M     Trainable params\n",
      "4.1 M     Non-trainable params\n",
      "8.2 M     Total params\n",
      "32.700    Total estimated model params size (MB)\n",
      "39        Modules in train mode\n",
      "0         Modules in eval mode\n"
     ]
    },
    {
     "name": "stdout",
     "output_type": "stream",
     "text": [
      "Epoch 0: 100%|██████████| 3/3 [00:09<00:00,  0.32it/s, v_num=30]           "
     ]
    },
    {
     "name": "stderr",
     "output_type": "stream",
     "text": [
      "`Trainer.fit` stopped: `max_epochs=1` reached.\n"
     ]
    },
    {
     "name": "stdout",
     "output_type": "stream",
     "text": [
      "Epoch 0: 100%|██████████| 3/3 [00:09<00:00,  0.31it/s, v_num=30]\n"
     ]
    },
    {
     "name": "stderr",
     "output_type": "stream",
     "text": [
      "LOCAL_RANK: 0 - CUDA_VISIBLE_DEVICES: [0]\n"
     ]
    },
    {
     "name": "stdout",
     "output_type": "stream",
     "text": [
      "Testing DataLoader 0: 100%|██████████| 3/3 [00:00<00:00, 26.80it/s]\n",
      "────────────────────────────────────────────────────────────────────────────────────────────────────────────────────────\n",
      "       Test metric             DataLoader 0\n",
      "────────────────────────────────────────────────────────────────────────────────────────────────────────────────────────\n",
      "        test_loss          0.012073532678186893\n",
      "        test_ssim           0.33720171451568604\n",
      "────────────────────────────────────────────────────────────────────────────────────────────────────────────────────────\n",
      "Found pretrained model for latent dim 256, loading...\n"
     ]
    },
    {
     "name": "stderr",
     "output_type": "stream",
     "text": [
      "GPU available: True (cuda), used: True\n",
      "TPU available: False, using: 0 TPU cores\n",
      "HPU available: False, using: 0 HPUs\n",
      "LOCAL_RANK: 0 - CUDA_VISIBLE_DEVICES: [0]\n",
      "\n",
      "  | Name    | Type    | Params | Mode  | In sizes        | Out sizes      \n",
      "--------------------------------------------------------------------------------\n",
      "0 | encoder | Encoder | 4.0 M  | train | [2, 3, 160, 96] | [2, 256]       \n",
      "1 | decoder | Decoder | 4.1 M  | train | [2, 256]        | [2, 3, 96, 160]\n",
      "--------------------------------------------------------------------------------\n",
      "4.1 M     Trainable params\n",
      "4.1 M     Non-trainable params\n",
      "8.2 M     Total params\n",
      "32.700    Total estimated model params size (MB)\n",
      "39        Modules in train mode\n",
      "0         Modules in eval mode\n"
     ]
    },
    {
     "name": "stdout",
     "output_type": "stream",
     "text": [
      "Epoch 0: 100%|██████████| 1/1 [00:02<00:00,  0.36it/s, v_num=24]           "
     ]
    },
    {
     "name": "stderr",
     "output_type": "stream",
     "text": [
      "`Trainer.fit` stopped: `max_epochs=1` reached.\n"
     ]
    },
    {
     "name": "stdout",
     "output_type": "stream",
     "text": [
      "Epoch 0: 100%|██████████| 1/1 [00:02<00:00,  0.34it/s, v_num=24]\n"
     ]
    },
    {
     "name": "stderr",
     "output_type": "stream",
     "text": [
      "LOCAL_RANK: 0 - CUDA_VISIBLE_DEVICES: [0]\n"
     ]
    },
    {
     "name": "stdout",
     "output_type": "stream",
     "text": [
      "Testing DataLoader 0: 100%|██████████| 1/1 [00:00<00:00, 64.49it/s] \n",
      "────────────────────────────────────────────────────────────────────────────────────────────────────────────────────────\n",
      "       Test metric             DataLoader 0\n",
      "────────────────────────────────────────────────────────────────────────────────────────────────────────────────────────\n",
      "        test_loss          0.037940915673971176\n",
      "        test_ssim           0.2884354293346405\n",
      "────────────────────────────────────────────────────────────────────────────────────────────────────────────────────────\n",
      "Found pretrained model for latent dim 256, loading...\n"
     ]
    },
    {
     "name": "stderr",
     "output_type": "stream",
     "text": [
      "GPU available: True (cuda), used: True\n",
      "TPU available: False, using: 0 TPU cores\n",
      "HPU available: False, using: 0 HPUs\n",
      "LOCAL_RANK: 0 - CUDA_VISIBLE_DEVICES: [0]\n",
      "\n",
      "  | Name    | Type    | Params | Mode  | In sizes        | Out sizes      \n",
      "--------------------------------------------------------------------------------\n",
      "0 | encoder | Encoder | 4.0 M  | train | [2, 3, 160, 96] | [2, 256]       \n",
      "1 | decoder | Decoder | 4.1 M  | train | [2, 256]        | [2, 3, 96, 160]\n",
      "--------------------------------------------------------------------------------\n",
      "4.1 M     Trainable params\n",
      "4.1 M     Non-trainable params\n",
      "8.2 M     Total params\n",
      "32.700    Total estimated model params size (MB)\n",
      "39        Modules in train mode\n",
      "0         Modules in eval mode\n"
     ]
    },
    {
     "name": "stdout",
     "output_type": "stream",
     "text": [
      "Epoch 0: 100%|██████████| 20/20 [00:21<00:00,  0.94it/s, v_num=23]         "
     ]
    },
    {
     "name": "stderr",
     "output_type": "stream",
     "text": [
      "`Trainer.fit` stopped: `max_epochs=1` reached.\n"
     ]
    },
    {
     "name": "stdout",
     "output_type": "stream",
     "text": [
      "Epoch 0: 100%|██████████| 20/20 [00:21<00:00,  0.93it/s, v_num=23]\n"
     ]
    },
    {
     "name": "stderr",
     "output_type": "stream",
     "text": [
      "LOCAL_RANK: 0 - CUDA_VISIBLE_DEVICES: [0]\n"
     ]
    },
    {
     "name": "stdout",
     "output_type": "stream",
     "text": [
      "Testing DataLoader 0: 100%|██████████| 20/20 [00:03<00:00,  5.86it/s]\n",
      "────────────────────────────────────────────────────────────────────────────────────────────────────────────────────────\n",
      "       Test metric             DataLoader 0\n",
      "────────────────────────────────────────────────────────────────────────────────────────────────────────────────────────\n",
      "        test_loss          0.007402081973850727\n",
      "        test_ssim           0.4627007842063904\n",
      "────────────────────────────────────────────────────────────────────────────────────────────────────────────────────────\n",
      "Found pretrained model for latent dim 256, loading...\n"
     ]
    },
    {
     "name": "stderr",
     "output_type": "stream",
     "text": [
      "GPU available: True (cuda), used: True\n",
      "TPU available: False, using: 0 TPU cores\n",
      "HPU available: False, using: 0 HPUs\n",
      "LOCAL_RANK: 0 - CUDA_VISIBLE_DEVICES: [0]\n",
      "\n",
      "  | Name    | Type    | Params | Mode  | In sizes        | Out sizes      \n",
      "--------------------------------------------------------------------------------\n",
      "0 | encoder | Encoder | 4.0 M  | train | [2, 3, 160, 96] | [2, 256]       \n",
      "1 | decoder | Decoder | 4.1 M  | train | [2, 256]        | [2, 3, 96, 160]\n",
      "--------------------------------------------------------------------------------\n",
      "4.1 M     Trainable params\n",
      "4.1 M     Non-trainable params\n",
      "8.2 M     Total params\n",
      "32.700    Total estimated model params size (MB)\n",
      "39        Modules in train mode\n",
      "0         Modules in eval mode\n"
     ]
    },
    {
     "name": "stdout",
     "output_type": "stream",
     "text": [
      "Epoch 0: 100%|██████████| 17/17 [00:13<00:00,  1.25it/s, v_num=16]         "
     ]
    },
    {
     "name": "stderr",
     "output_type": "stream",
     "text": [
      "`Trainer.fit` stopped: `max_epochs=1` reached.\n"
     ]
    },
    {
     "name": "stdout",
     "output_type": "stream",
     "text": [
      "Epoch 0: 100%|██████████| 17/17 [00:13<00:00,  1.24it/s, v_num=16]\n"
     ]
    },
    {
     "name": "stderr",
     "output_type": "stream",
     "text": [
      "LOCAL_RANK: 0 - CUDA_VISIBLE_DEVICES: [0]\n"
     ]
    },
    {
     "name": "stdout",
     "output_type": "stream",
     "text": [
      "Testing DataLoader 0: 100%|██████████| 17/17 [00:01<00:00,  9.03it/s]\n",
      "────────────────────────────────────────────────────────────────────────────────────────────────────────────────────────\n",
      "       Test metric             DataLoader 0\n",
      "────────────────────────────────────────────────────────────────────────────────────────────────────────────────────────\n",
      "        test_loss          0.010354741476476192\n",
      "        test_ssim           0.32898223400115967\n",
      "────────────────────────────────────────────────────────────────────────────────────────────────────────────────────────\n",
      "Found pretrained model for latent dim 256, loading...\n"
     ]
    },
    {
     "name": "stderr",
     "output_type": "stream",
     "text": [
      "GPU available: True (cuda), used: True\n",
      "TPU available: False, using: 0 TPU cores\n",
      "HPU available: False, using: 0 HPUs\n",
      "LOCAL_RANK: 0 - CUDA_VISIBLE_DEVICES: [0]\n",
      "\n",
      "  | Name    | Type    | Params | Mode  | In sizes        | Out sizes      \n",
      "--------------------------------------------------------------------------------\n",
      "0 | encoder | Encoder | 4.0 M  | train | [2, 3, 160, 96] | [2, 256]       \n",
      "1 | decoder | Decoder | 4.1 M  | train | [2, 256]        | [2, 3, 96, 160]\n",
      "--------------------------------------------------------------------------------\n",
      "4.1 M     Trainable params\n",
      "4.1 M     Non-trainable params\n",
      "8.2 M     Total params\n",
      "32.700    Total estimated model params size (MB)\n",
      "39        Modules in train mode\n",
      "0         Modules in eval mode\n"
     ]
    },
    {
     "name": "stdout",
     "output_type": "stream",
     "text": [
      "Epoch 0: 100%|██████████| 1/1 [00:04<00:00,  0.21it/s, v_num=16]           "
     ]
    },
    {
     "name": "stderr",
     "output_type": "stream",
     "text": [
      "`Trainer.fit` stopped: `max_epochs=1` reached.\n"
     ]
    },
    {
     "name": "stdout",
     "output_type": "stream",
     "text": [
      "Epoch 0: 100%|██████████| 1/1 [00:04<00:00,  0.21it/s, v_num=16]\n"
     ]
    },
    {
     "name": "stderr",
     "output_type": "stream",
     "text": [
      "LOCAL_RANK: 0 - CUDA_VISIBLE_DEVICES: [0]\n"
     ]
    },
    {
     "name": "stdout",
     "output_type": "stream",
     "text": [
      "Testing DataLoader 0: 100%|██████████| 1/1 [00:00<00:00, 52.25it/s]\n",
      "────────────────────────────────────────────────────────────────────────────────────────────────────────────────────────\n",
      "       Test metric             DataLoader 0\n",
      "────────────────────────────────────────────────────────────────────────────────────────────────────────────────────────\n",
      "        test_loss           0.01949458196759224\n",
      "        test_ssim           0.36442822217941284\n",
      "────────────────────────────────────────────────────────────────────────────────────────────────────────────────────────\n",
      "Found pretrained model for latent dim 256, loading...\n"
     ]
    },
    {
     "name": "stderr",
     "output_type": "stream",
     "text": [
      "GPU available: True (cuda), used: True\n",
      "TPU available: False, using: 0 TPU cores\n",
      "HPU available: False, using: 0 HPUs\n",
      "LOCAL_RANK: 0 - CUDA_VISIBLE_DEVICES: [0]\n",
      "\n",
      "  | Name    | Type    | Params | Mode  | In sizes        | Out sizes      \n",
      "--------------------------------------------------------------------------------\n",
      "0 | encoder | Encoder | 4.0 M  | train | [2, 3, 160, 96] | [2, 256]       \n",
      "1 | decoder | Decoder | 4.1 M  | train | [2, 256]        | [2, 3, 96, 160]\n",
      "--------------------------------------------------------------------------------\n",
      "4.1 M     Trainable params\n",
      "4.1 M     Non-trainable params\n",
      "8.2 M     Total params\n",
      "32.700    Total estimated model params size (MB)\n",
      "39        Modules in train mode\n",
      "0         Modules in eval mode\n"
     ]
    },
    {
     "name": "stdout",
     "output_type": "stream",
     "text": [
      "Epoch 0: 100%|██████████| 3/3 [00:10<00:00,  0.30it/s, v_num=31]           "
     ]
    },
    {
     "name": "stderr",
     "output_type": "stream",
     "text": [
      "`Trainer.fit` stopped: `max_epochs=1` reached.\n"
     ]
    },
    {
     "name": "stdout",
     "output_type": "stream",
     "text": [
      "Epoch 0: 100%|██████████| 3/3 [00:10<00:00,  0.29it/s, v_num=31]\n"
     ]
    },
    {
     "name": "stderr",
     "output_type": "stream",
     "text": [
      "LOCAL_RANK: 0 - CUDA_VISIBLE_DEVICES: [0]\n"
     ]
    },
    {
     "name": "stdout",
     "output_type": "stream",
     "text": [
      "Testing DataLoader 0: 100%|██████████| 3/3 [00:00<00:00, 15.34it/s]\n",
      "────────────────────────────────────────────────────────────────────────────────────────────────────────────────────────\n",
      "       Test metric             DataLoader 0\n",
      "────────────────────────────────────────────────────────────────────────────────────────────────────────────────────────\n",
      "        test_loss          0.010220014490187168\n",
      "        test_ssim           0.31049516797065735\n",
      "────────────────────────────────────────────────────────────────────────────────────────────────────────────────────────\n",
      "Found pretrained model for latent dim 256, loading...\n"
     ]
    },
    {
     "name": "stderr",
     "output_type": "stream",
     "text": [
      "GPU available: True (cuda), used: True\n",
      "TPU available: False, using: 0 TPU cores\n",
      "HPU available: False, using: 0 HPUs\n",
      "LOCAL_RANK: 0 - CUDA_VISIBLE_DEVICES: [0]\n",
      "\n",
      "  | Name    | Type    | Params | Mode  | In sizes        | Out sizes      \n",
      "--------------------------------------------------------------------------------\n",
      "0 | encoder | Encoder | 4.0 M  | train | [2, 3, 160, 96] | [2, 256]       \n",
      "1 | decoder | Decoder | 4.1 M  | train | [2, 256]        | [2, 3, 96, 160]\n",
      "--------------------------------------------------------------------------------\n",
      "4.1 M     Trainable params\n",
      "4.1 M     Non-trainable params\n",
      "8.2 M     Total params\n",
      "32.700    Total estimated model params size (MB)\n",
      "39        Modules in train mode\n",
      "0         Modules in eval mode\n"
     ]
    },
    {
     "name": "stdout",
     "output_type": "stream",
     "text": [
      "Epoch 0: 100%|██████████| 1/1 [00:02<00:00,  0.36it/s, v_num=25]           "
     ]
    },
    {
     "name": "stderr",
     "output_type": "stream",
     "text": [
      "`Trainer.fit` stopped: `max_epochs=1` reached.\n"
     ]
    },
    {
     "name": "stdout",
     "output_type": "stream",
     "text": [
      "Epoch 0: 100%|██████████| 1/1 [00:02<00:00,  0.34it/s, v_num=25]\n"
     ]
    },
    {
     "name": "stderr",
     "output_type": "stream",
     "text": [
      "LOCAL_RANK: 0 - CUDA_VISIBLE_DEVICES: [0]\n"
     ]
    },
    {
     "name": "stdout",
     "output_type": "stream",
     "text": [
      "Testing DataLoader 0: 100%|██████████| 1/1 [00:00<00:00, 53.09it/s]\n",
      "────────────────────────────────────────────────────────────────────────────────────────────────────────────────────────\n",
      "       Test metric             DataLoader 0\n",
      "────────────────────────────────────────────────────────────────────────────────────────────────────────────────────────\n",
      "        test_loss           0.05212468281388283\n",
      "        test_ssim           0.18352028727531433\n",
      "────────────────────────────────────────────────────────────────────────────────────────────────────────────────────────\n",
      "Found pretrained model for latent dim 256, loading...\n"
     ]
    },
    {
     "name": "stderr",
     "output_type": "stream",
     "text": [
      "GPU available: True (cuda), used: True\n",
      "TPU available: False, using: 0 TPU cores\n",
      "HPU available: False, using: 0 HPUs\n",
      "LOCAL_RANK: 0 - CUDA_VISIBLE_DEVICES: [0]\n",
      "\n",
      "  | Name    | Type    | Params | Mode  | In sizes        | Out sizes      \n",
      "--------------------------------------------------------------------------------\n",
      "0 | encoder | Encoder | 4.0 M  | train | [2, 3, 160, 96] | [2, 256]       \n",
      "1 | decoder | Decoder | 4.1 M  | train | [2, 256]        | [2, 3, 96, 160]\n",
      "--------------------------------------------------------------------------------\n",
      "4.1 M     Trainable params\n",
      "4.1 M     Non-trainable params\n",
      "8.2 M     Total params\n",
      "32.700    Total estimated model params size (MB)\n",
      "39        Modules in train mode\n",
      "0         Modules in eval mode\n"
     ]
    },
    {
     "name": "stdout",
     "output_type": "stream",
     "text": [
      "Epoch 0: 100%|██████████| 20/20 [00:21<00:00,  0.92it/s, v_num=24]         "
     ]
    },
    {
     "name": "stderr",
     "output_type": "stream",
     "text": [
      "`Trainer.fit` stopped: `max_epochs=1` reached.\n"
     ]
    },
    {
     "name": "stdout",
     "output_type": "stream",
     "text": [
      "Epoch 0: 100%|██████████| 20/20 [00:21<00:00,  0.91it/s, v_num=24]\n"
     ]
    },
    {
     "name": "stderr",
     "output_type": "stream",
     "text": [
      "LOCAL_RANK: 0 - CUDA_VISIBLE_DEVICES: [0]\n"
     ]
    },
    {
     "name": "stdout",
     "output_type": "stream",
     "text": [
      "Testing DataLoader 0: 100%|██████████| 20/20 [00:03<00:00,  6.10it/s]\n",
      "────────────────────────────────────────────────────────────────────────────────────────────────────────────────────────\n",
      "       Test metric             DataLoader 0\n",
      "────────────────────────────────────────────────────────────────────────────────────────────────────────────────────────\n",
      "        test_loss           0.00579620897769928\n",
      "        test_ssim           0.4947199523448944\n",
      "────────────────────────────────────────────────────────────────────────────────────────────────────────────────────────\n",
      "Found pretrained model for latent dim 256, loading...\n"
     ]
    },
    {
     "name": "stderr",
     "output_type": "stream",
     "text": [
      "GPU available: True (cuda), used: True\n",
      "TPU available: False, using: 0 TPU cores\n",
      "HPU available: False, using: 0 HPUs\n",
      "LOCAL_RANK: 0 - CUDA_VISIBLE_DEVICES: [0]\n",
      "\n",
      "  | Name    | Type    | Params | Mode  | In sizes        | Out sizes      \n",
      "--------------------------------------------------------------------------------\n",
      "0 | encoder | Encoder | 4.0 M  | train | [2, 3, 160, 96] | [2, 256]       \n",
      "1 | decoder | Decoder | 4.1 M  | train | [2, 256]        | [2, 3, 96, 160]\n",
      "--------------------------------------------------------------------------------\n",
      "4.1 M     Trainable params\n",
      "4.1 M     Non-trainable params\n",
      "8.2 M     Total params\n",
      "32.700    Total estimated model params size (MB)\n",
      "39        Modules in train mode\n",
      "0         Modules in eval mode\n"
     ]
    },
    {
     "name": "stdout",
     "output_type": "stream",
     "text": [
      "Epoch 0: 100%|██████████| 17/17 [00:12<00:00,  1.33it/s, v_num=17]         "
     ]
    },
    {
     "name": "stderr",
     "output_type": "stream",
     "text": [
      "`Trainer.fit` stopped: `max_epochs=1` reached.\n"
     ]
    },
    {
     "name": "stdout",
     "output_type": "stream",
     "text": [
      "Epoch 0: 100%|██████████| 17/17 [00:12<00:00,  1.31it/s, v_num=17]\n"
     ]
    },
    {
     "name": "stderr",
     "output_type": "stream",
     "text": [
      "LOCAL_RANK: 0 - CUDA_VISIBLE_DEVICES: [0]\n"
     ]
    },
    {
     "name": "stdout",
     "output_type": "stream",
     "text": [
      "Testing DataLoader 0: 100%|██████████| 17/17 [00:01<00:00,  9.37it/s]\n",
      "────────────────────────────────────────────────────────────────────────────────────────────────────────────────────────\n",
      "       Test metric             DataLoader 0\n",
      "────────────────────────────────────────────────────────────────────────────────────────────────────────────────────────\n",
      "        test_loss          0.010401470586657524\n",
      "        test_ssim           0.3272237479686737\n",
      "────────────────────────────────────────────────────────────────────────────────────────────────────────────────────────\n",
      "Found pretrained model for latent dim 256, loading...\n"
     ]
    },
    {
     "name": "stderr",
     "output_type": "stream",
     "text": [
      "GPU available: True (cuda), used: True\n",
      "TPU available: False, using: 0 TPU cores\n",
      "HPU available: False, using: 0 HPUs\n",
      "LOCAL_RANK: 0 - CUDA_VISIBLE_DEVICES: [0]\n",
      "\n",
      "  | Name    | Type    | Params | Mode  | In sizes        | Out sizes      \n",
      "--------------------------------------------------------------------------------\n",
      "0 | encoder | Encoder | 4.0 M  | train | [2, 3, 160, 96] | [2, 256]       \n",
      "1 | decoder | Decoder | 4.1 M  | train | [2, 256]        | [2, 3, 96, 160]\n",
      "--------------------------------------------------------------------------------\n",
      "4.1 M     Trainable params\n",
      "4.1 M     Non-trainable params\n",
      "8.2 M     Total params\n",
      "32.700    Total estimated model params size (MB)\n",
      "39        Modules in train mode\n",
      "0         Modules in eval mode\n"
     ]
    },
    {
     "name": "stdout",
     "output_type": "stream",
     "text": [
      "Epoch 0: 100%|██████████| 1/1 [00:04<00:00,  0.21it/s, v_num=17]           "
     ]
    },
    {
     "name": "stderr",
     "output_type": "stream",
     "text": [
      "`Trainer.fit` stopped: `max_epochs=1` reached.\n"
     ]
    },
    {
     "name": "stdout",
     "output_type": "stream",
     "text": [
      "Epoch 0: 100%|██████████| 1/1 [00:04<00:00,  0.21it/s, v_num=17]\n"
     ]
    },
    {
     "name": "stderr",
     "output_type": "stream",
     "text": [
      "LOCAL_RANK: 0 - CUDA_VISIBLE_DEVICES: [0]\n"
     ]
    },
    {
     "name": "stdout",
     "output_type": "stream",
     "text": [
      "Testing DataLoader 0: 100%|██████████| 1/1 [00:00<00:00, 62.54it/s]\n",
      "────────────────────────────────────────────────────────────────────────────────────────────────────────────────────────\n",
      "       Test metric             DataLoader 0\n",
      "────────────────────────────────────────────────────────────────────────────────────────────────────────────────────────\n",
      "        test_loss          0.022484179586172104\n",
      "        test_ssim           0.3090202510356903\n",
      "────────────────────────────────────────────────────────────────────────────────────────────────────────────────────────\n"
     ]
    }
   ],
   "source": [
    "our_test_set_ids = [292, 181, 430, 20, 4]\n",
    "latent_dim = 256\n",
    "\n",
    "results = []\n",
    "\n",
    "for lora_precision in [0, 4, 8, 32]:\n",
    "    finetune = lora_precision is not None\n",
    "\n",
    "    for loc_id in our_test_set_ids:\n",
    "        test_set = IWildCamDataset(Path(DATASET_ROOT), split=\"test\")\n",
    "        if DO_CACHING:\n",
    "            test_set.cache_on_device_(device)\n",
    "            test_set._cache = test_set._cache[[idx for idx, i in enumerate(test_set.data['images']) if i['location'] == loc_id]]\n",
    "        test_set.data['images'] = [i for i in test_set.data['images'] if i['location'] == loc_id]\n",
    "        test_loader = torch.utils.data.DataLoader(test_set, batch_size=256, shuffle=False, drop_last=False, num_workers=16 if not DO_CACHING else 0)\n",
    "\n",
    "        model = get_lora_model(latent_dim, lora_precision, finetune=finetune)\n",
    "        # print(model)\n",
    "        \n",
    "        # Freeze decoder if specified\n",
    "        # TODO remove this once lora-ize decoder works\n",
    "        # freeze_decoder = True\n",
    "        # if freeze_decoder:\n",
    "        # for param in model.decoder.parameters():\n",
    "        #     param.requires_grad = False\n",
    "        # print(f\"Decoder frozen for location {loc_id}\")\n",
    "\n",
    "        trainer = pl.Trainer(\n",
    "            default_root_dir=os.path.join(CHECKPOINT_PATH, f\"iwildcam_loc_{loc_id}\"),\n",
    "            accelerator=\"gpu\" if str(device).startswith(\"cuda\") else \"cpu\",\n",
    "            precision=PRECISION,\n",
    "            devices=1,\n",
    "            max_epochs=1,\n",
    "            callbacks=[\n",
    "                ModelCheckpoint(save_weights_only=True),\n",
    "                LearningRateMonitor(\"epoch\")\n",
    "            ]\n",
    "        )\n",
    "\n",
    "        # Train the model\n",
    "        # Overfit to the test set\n",
    "        if finetune:\n",
    "            trainer.fit(model, test_loader, test_loader)\n",
    "            save_path = os.path.join(CHECKPOINT_PATH, f\"iwildcam_latent_dim={latent_dim}_lora_loc={loc_id}.ckpt\")\n",
    "            trainer.save_checkpoint(save_path)\n",
    "\n",
    "        test_metrics = trainer.test(model=model, dataloaders=test_loader)[0]\n",
    "\n",
    "        # test_reconstruction_error = test_results[0]['test_loss']\n",
    "        # test_reconstruction_error /= len(test_loader) # TODO: I think what we get from test() is a sum over batches? Timm: docs say default aggregation is torch.mean\n",
    "\n",
    "        param_bpp, latent_bpp = compute_bits_per_pixel(model, latent_dim, lora_precision, WIDTH, HEIGHT)\n",
    "\n",
    "        # Store results\n",
    "        results.append(dict(\n",
    "            finetuned=finetune,\n",
    "            lora_precision=lora_precision,\n",
    "            param_bpp=param_bpp,\n",
    "            latent_bpp=latent_bpp,\n",
    "            loc_id=loc_id,\n",
    "            n_images=len(test_set.data['images']),\n",
    "            **test_metrics,\n",
    "        ))\n",
    "\n",
    "        # release memory\n",
    "        del test_set\n",
    "        del model\n",
    "        del trainer\n",
    "        torch.cuda.empty_cache()\n",
    "\n",
    "    # # Step 6: Visualize the results\n",
    "    # # Bar chart of reconstruction error by location\n",
    "    # locations, num_images, errors = zip(*results)\n",
    "\n",
    "    # # Bar chart\n",
    "    # plt.figure(figsize=(10, 6))\n",
    "    # plt.bar(locations, errors, color='skyblue', edgecolor='black')\n",
    "    # plt.xlabel(\"Location ID\", fontsize=12)\n",
    "    # plt.ylabel(\"Reconstruction Error\", fontsize=12)\n",
    "    # plt.title(\"Reconstruction Error by Location\", fontsize=14)\n",
    "    # plt.grid(True)\n",
    "    # plt.show()\n",
    "\n",
    "    # # Scatter plot of number of images vs. reconstruction error\n",
    "    # plt.figure(figsize=(10, 6))\n",
    "    # plt.scatter(num_images, errors, color='red', edgecolor='black', s=100)\n",
    "    # plt.xlabel(\"Number of Images\", fontsize=12)\n",
    "    # plt.ylabel(\"Reconstruction Error\", fontsize=12)\n",
    "    # plt.title(\"Number of Images vs. Reconstruction Error\", fontsize=14)\n",
    "    # plt.grid(True)\n",
    "    # plt.show()"
   ]
  },
  {
   "cell_type": "code",
   "execution_count": 77,
   "metadata": {},
   "outputs": [
    {
     "name": "stderr",
     "output_type": "stream",
     "text": [
      "/data/vision/beery/scratch/timm/micromamba/envs/aecompression/lib/python3.12/site-packages/torchvision/transforms/v2/_deprecated.py:42: UserWarning: The transform `ToTensor()` is deprecated and will be removed in a future release. Instead, please use `v2.Compose([v2.ToImage(), v2.ToDtype(torch.float32, scale=True)])`.Output is equivalent up to float precision.\n",
      "  warnings.warn(\n",
      "100%|██████████| 1/1 [00:12<00:00, 12.88s/it]\n"
     ]
    }
   ],
   "source": [
    "jpeg_bpp = []\n",
    "jpeg_ssim = []\n",
    "for batch in tqdm(test_loader):\n",
    "    for el in batch:\n",
    "        pil_img = Image.fromarray((el.cpu().numpy().transpose(1, 2, 0) * 255).astype(np.uint8))\n",
    "\n",
    "        img_byte_arr = io.BytesIO()\n",
    "        pil_img.save(img_byte_arr, format='JPEG')\n",
    "\n",
    "        jpeg_bpp.append((len(img_byte_arr.getvalue()) * 8) / (el.shape[1] * el.shape[1]))\n",
    "\n",
    "        pil_img = Image.open(img_byte_arr, mode='r')\n",
    "\n",
    "        el_reconstructed = transforms_v2.ToTensor()(transforms_v2.ToDtype(torch.float32, scale=True)(pil_img))\n",
    "\n",
    "        jpeg_ssim.append(ssim(el[None, ...], el_reconstructed[None, ...], 1))"
   ]
  },
  {
   "cell_type": "code",
   "execution_count": 78,
   "metadata": {},
   "outputs": [
    {
     "data": {
      "image/png": "[encoded data removed]",
      "text/plain": [
       "<Figure size 1000x600 with 1 Axes>"
      ]
     },
     "metadata": {},
     "output_type": "display_data"
    },
    {
     "data": {
      "image/png": "[encoded data removed]",
      "text/plain": [
       "<Figure size 1000x600 with 1 Axes>"
      ]
     },
     "metadata": {},
     "output_type": "display_data"
    },
    {
     "data": {
      "image/png": "[encoded data removed]",
      "text/plain": [
       "<Figure size 1000x600 with 1 Axes>"
      ]
     },
     "metadata": {},
     "output_type": "display_data"
    },
    {
     "data": {
      "image/png": "[encoded data removed]",
      "text/plain": [
       "<Figure size 1000x600 with 1 Axes>"
      ]
     },
     "metadata": {},
     "output_type": "display_data"
    }
   ],
   "source": [
    "# Step 6: Visualize the results\n",
    "# Bar chart of reconstruction error by location\n",
    "\n",
    "lora_precision_labels = dict({ 32: \"float32\", 8: \"int8\", 4: \"int4\", 0: \"No finetuning\" })\n",
    "\n",
    "results_df = pd.DataFrame(results)\n",
    "results_df[\"lora_precision\"] = results_df[\"lora_precision\"].fillna(-1)\n",
    "    \n",
    "\n",
    "# Bar chart\n",
    "plt.figure(figsize=(10, 6))\n",
    "for lora_precision in results_df[\"lora_precision\"].unique():\n",
    "    plt.bar(results_df[results_df[\"lora_precision\"] == lora_precision][\"loc_id\"], results_df[results_df[\"lora_precision\"] == lora_precision][\"test_ssim\"], edgecolor='black', label=lora_precision_labels[lora_precision])\n",
    "plt.xlabel(\"Location ID\", fontsize=12)\n",
    "plt.ylabel(\"SSIM\", fontsize=12)\n",
    "plt.title(\"Reconstruction Quality by Location\", fontsize=14)\n",
    "plt.grid(True)\n",
    "plt.legend()\n",
    "plt.show()\n",
    "\n",
    "# Scatter plot of number of images vs. reconstruction error\n",
    "plt.figure(figsize=(10, 6))\n",
    "for lora_precision in results_df[\"lora_precision\"].unique():\n",
    "    plt.scatter(results_df[results_df[\"lora_precision\"] == lora_precision][\"n_images\"], results_df[results_df[\"lora_precision\"] == lora_precision][\"test_ssim\"], edgecolor='black', s=100, label=lora_precision_labels[lora_precision])\n",
    "plt.xlabel(\"Number of Images\", fontsize=12)\n",
    "plt.ylabel(\"SSIM\", fontsize=12)\n",
    "plt.title(\"Number of Images vs. Reconstruction Quality\", fontsize=14)\n",
    "plt.grid(True)\n",
    "plt.legend()\n",
    "plt.show()\n",
    "\n",
    "# Latent Bits per pixel\n",
    "plt.figure(figsize=(10, 6))\n",
    "for lora_precision in results_df[\"lora_precision\"].unique():\n",
    "    plt.scatter(results_df[results_df[\"lora_precision\"] == lora_precision][\"latent_bpp\"].mean(), results_df[results_df[\"lora_precision\"] == lora_precision][\"test_ssim\"].mean(), edgecolor='black', s=100, label=f\"Ours ({lora_precision_labels[lora_precision]})\")\n",
    "plt.scatter(np.mean(jpeg_bpp), np.mean(jpeg_ssim), edgecolor='black', s=100, label=\"JPEG\")\n",
    "plt.xlabel(\"Bits per pixel (latent)\", fontsize=12)\n",
    "plt.ylabel(\"SSIM\", fontsize=12)\n",
    "plt.title(\"Latent Bits per pixel vs. Reconstruction Quality\", fontsize=14)\n",
    "plt.grid(True)\n",
    "plt.legend()\n",
    "plt.show()\n",
    "\n",
    "# Param Bits per pixel\n",
    "plt.figure(figsize=(10, 6))\n",
    "for lora_precision in results_df[\"lora_precision\"].unique():\n",
    "    plt.scatter((results_df[results_df[\"lora_precision\"] == lora_precision][\"param_bpp\"] / results_df[results_df[\"lora_precision\"] == lora_precision][\"n_images\"]).mean(), results_df[results_df[\"lora_precision\"] == lora_precision][\"test_ssim\"].mean(), edgecolor='black', s=100, label=f\"Ours ({lora_precision_labels[lora_precision]})\")\n",
    "plt.scatter(0, np.mean(jpeg_ssim), edgecolor='black', s=100, label=\"JPEG\")\n",
    "plt.xlabel(\"Bits per pixel (parameter, amortized over all images)\", fontsize=12)\n",
    "plt.ylabel(\"SSIM\", fontsize=12)\n",
    "plt.title(\"Parameter Bits per pixel vs. Reconstruction Quality\", fontsize=14)\n",
    "plt.grid(True)\n",
    "plt.legend()\n",
    "plt.show()"
   ]
  }
 ],
 "metadata": {
  "kernelspec": {
   "display_name": "Python 3",
   "language": "python",
   "name": "python3"
  },
  "language_info": {
   "codemirror_mode": {
    "name": "ipython",
    "version": 3
   },
   "file_extension": ".py",
   "mimetype": "text/x-python",
   "name": "python",
   "nbconvert_exporter": "python",
   "pygments_lexer": "ipython3",
   "version": "3.12.7"
  }
 },
 "nbformat": 4,
 "nbformat_minor": 2
}
